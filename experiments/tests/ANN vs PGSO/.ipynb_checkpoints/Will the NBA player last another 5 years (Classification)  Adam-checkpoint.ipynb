{
 "cells": [
  {
   "cell_type": "code",
   "execution_count": 1,
   "metadata": {},
   "outputs": [],
   "source": [
    "import numpy as np\n",
    "import matplotlib.pyplot as plt\n",
    "import pandas as pd\n",
    "from sklearn.preprocessing import LabelEncoder, OneHotEncoder\n",
    "from sklearn.model_selection import train_test_split\n",
    "from sklearn.preprocessing import StandardScaler"
   ]
  },
  {
   "cell_type": "code",
   "execution_count": 2,
   "metadata": {},
   "outputs": [],
   "source": [
    "random_state = 1\n",
    "np.random.seed(random_state)\n",
    "import random\n",
    "random.seed(random_state)"
   ]
  },
  {
   "cell_type": "code",
   "execution_count": 3,
   "metadata": {},
   "outputs": [],
   "source": [
    "# def preprocess(data_path):\n",
    "#     dataset = pd.read_csv(data_path)\n",
    "#     X = dataset.iloc[:, 1:-1].replace(np.nan, 0).values\n",
    "#     y = dataset.iloc[:, -1].values\n",
    "#     label_encoder_x_0 = LabelEncoder()\n",
    "#     X[:, 0] = label_encoder_x_0.fit_transform(X[:,0])\n",
    "#     onehotencoder = OneHotEncoder(categorical_features=[0])\n",
    "#     X = onehotencoder.fit_transform(X).toarray()\n",
    "#     X_train, X_test, y_train, y_test = train_test_split(X, y, test_size = 0.2)\n",
    "#     sc = StandardScaler()\n",
    "#     X_train = sc.fit_transform(X_train)\n",
    "#     X_test = sc.transform(X_test)\n",
    "#     return X_train, y_train, X_test, y_test\n",
    "def preprocess(data_path):\n",
    "    dataset = pd.read_csv(data_path)\n",
    "    X = dataset.iloc[:, 1:-1].replace(np.nan, 0).values\n",
    "    y = dataset.iloc[:, -1].values\n",
    "    X_train, X_test, y_train, y_test = train_test_split(X, y, test_size = 0.2, random_state=random_state)\n",
    "    sc = StandardScaler()\n",
    "    X_train = sc.fit_transform(X_train)\n",
    "    X_test = sc.transform(X_test)\n",
    "    return X_train, y_train, X_test, y_test"
   ]
  },
  {
   "cell_type": "code",
   "execution_count": 4,
   "metadata": {},
   "outputs": [],
   "source": [
    "X_train, y_train, X_test, y_test = preprocess('datasets/nba_logreg.csv')"
   ]
  },
  {
   "cell_type": "code",
   "execution_count": 9,
   "metadata": {},
   "outputs": [],
   "source": [
    "# name is useless in prediction, player stats are what counts its actually bloating the number of features"
   ]
  },
  {
   "cell_type": "code",
   "execution_count": 12,
   "metadata": {},
   "outputs": [],
   "source": [
    "from sklearn.metrics import accuracy_score"
   ]
  },
  {
   "cell_type": "code",
   "execution_count": 2,
   "metadata": {},
   "outputs": [
    {
     "name": "stderr",
     "output_type": "stream",
     "text": [
      "Using TensorFlow backend.\n"
     ]
    }
   ],
   "source": [
    "import keras\n",
    "from keras.models import Sequential\n",
    "from keras.layers import Dense"
   ]
  },
  {
   "cell_type": "code",
   "execution_count": 3,
   "metadata": {},
   "outputs": [
    {
     "name": "stdout",
     "output_type": "stream",
     "text": [
      "WARNING:tensorflow:From /home/master/anaconda3/envs/pgso/lib/python3.7/site-packages/tensorflow/python/framework/op_def_library.py:263: colocate_with (from tensorflow.python.framework.ops) is deprecated and will be removed in a future version.\n",
      "Instructions for updating:\n",
      "Colocations handled automatically by placer.\n"
     ]
    }
   ],
   "source": [
    "classifier = Sequential()\n",
    "# 11 input neurons\n",
    "classifier.add(Dense(units = 6, kernel_initializer = 'uniform', activation = 'relu', input_dim = 19))\n",
    "# 6 hidden neurons\n",
    "classifier.add(Dense(units = 6, kernel_initializer = 'uniform', activation = 'relu'))\n",
    "# 1 output neuron\n",
    "classifier.add(Dense(units = 1, kernel_initializer = 'uniform', activation = 'sigmoid'))"
   ]
  },
  {
   "cell_type": "code",
   "execution_count": 10,
   "metadata": {
    "scrolled": true
   },
   "outputs": [
    {
     "name": "stdout",
     "output_type": "stream",
     "text": [
      "WARNING:tensorflow:From /home/master/anaconda3/envs/pgso/lib/python3.7/site-packages/tensorflow/python/ops/math_ops.py:3066: to_int32 (from tensorflow.python.ops.math_ops) is deprecated and will be removed in a future version.\n",
      "Instructions for updating:\n",
      "Use tf.cast instead.\n"
     ]
    },
    {
     "name": "stderr",
     "output_type": "stream",
     "text": [
      "/home/master/anaconda3/envs/pgso/lib/python3.7/site-packages/ipykernel_launcher.py:2: UserWarning: The `nb_epoch` argument in `fit` has been renamed `epochs`.\n",
      "  \n"
     ]
    },
    {
     "name": "stdout",
     "output_type": "stream",
     "text": [
      "Epoch 1/100\n",
      "1072/1072 [==============================] - 1s 728us/step - loss: 0.6855 - acc: 0.6175\n",
      "Epoch 2/100\n",
      "1072/1072 [==============================] - 0s 154us/step - loss: 0.6336 - acc: 0.6371\n",
      "Epoch 3/100\n",
      "1072/1072 [==============================] - 0s 153us/step - loss: 0.5925 - acc: 0.7062\n",
      "Epoch 4/100\n",
      "1072/1072 [==============================] - 0s 179us/step - loss: 0.5795 - acc: 0.7071\n",
      "Epoch 5/100\n",
      "1072/1072 [==============================] - 0s 143us/step - loss: 0.5727 - acc: 0.7090\n",
      "Epoch 6/100\n",
      "1072/1072 [==============================] - 0s 149us/step - loss: 0.5685 - acc: 0.7108\n",
      "Epoch 7/100\n",
      "1072/1072 [==============================] - 0s 180us/step - loss: 0.5646 - acc: 0.7192\n",
      "Epoch 8/100\n",
      "1072/1072 [==============================] - 0s 144us/step - loss: 0.5617 - acc: 0.7183\n",
      "Epoch 9/100\n",
      "1072/1072 [==============================] - 0s 161us/step - loss: 0.5591 - acc: 0.7192\n",
      "Epoch 10/100\n",
      "1072/1072 [==============================] - 0s 158us/step - loss: 0.5582 - acc: 0.7201\n",
      "Epoch 11/100\n",
      "1072/1072 [==============================] - 0s 141us/step - loss: 0.5569 - acc: 0.7183\n",
      "Epoch 12/100\n",
      "1072/1072 [==============================] - 0s 147us/step - loss: 0.5557 - acc: 0.7257\n",
      "Epoch 13/100\n",
      "1072/1072 [==============================] - 0s 177us/step - loss: 0.5553 - acc: 0.7229\n",
      "Epoch 14/100\n",
      "1072/1072 [==============================] - 0s 150us/step - loss: 0.5550 - acc: 0.7220\n",
      "Epoch 15/100\n",
      "1072/1072 [==============================] - 0s 170us/step - loss: 0.5539 - acc: 0.7192\n",
      "Epoch 16/100\n",
      "1072/1072 [==============================] - 0s 143us/step - loss: 0.5543 - acc: 0.7220\n",
      "Epoch 17/100\n",
      "1072/1072 [==============================] - 0s 154us/step - loss: 0.5533 - acc: 0.7183\n",
      "Epoch 18/100\n",
      "1072/1072 [==============================] - 0s 169us/step - loss: 0.5528 - acc: 0.7220\n",
      "Epoch 19/100\n",
      "1072/1072 [==============================] - 0s 141us/step - loss: 0.5521 - acc: 0.7239\n",
      "Epoch 20/100\n",
      "1072/1072 [==============================] - 0s 157us/step - loss: 0.5521 - acc: 0.7201\n",
      "Epoch 21/100\n",
      "1072/1072 [==============================] - 0s 165us/step - loss: 0.5518 - acc: 0.7174\n",
      "Epoch 22/100\n",
      "1072/1072 [==============================] - 0s 171us/step - loss: 0.5513 - acc: 0.7229\n",
      "Epoch 23/100\n",
      "1072/1072 [==============================] - 0s 140us/step - loss: 0.5511 - acc: 0.7229\n",
      "Epoch 24/100\n",
      "1072/1072 [==============================] - 0s 162us/step - loss: 0.5507 - acc: 0.7229\n",
      "Epoch 25/100\n",
      "1072/1072 [==============================] - 0s 161us/step - loss: 0.5501 - acc: 0.7239\n",
      "Epoch 26/100\n",
      "1072/1072 [==============================] - 0s 153us/step - loss: 0.5501 - acc: 0.7239\n",
      "Epoch 27/100\n",
      "1072/1072 [==============================] - 0s 151us/step - loss: 0.5501 - acc: 0.7248\n",
      "Epoch 28/100\n",
      "1072/1072 [==============================] - 0s 148us/step - loss: 0.5494 - acc: 0.7257\n",
      "Epoch 29/100\n",
      "1072/1072 [==============================] - 0s 167us/step - loss: 0.5493 - acc: 0.7192\n",
      "Epoch 30/100\n",
      "1072/1072 [==============================] - 0s 141us/step - loss: 0.5492 - acc: 0.7267\n",
      "Epoch 31/100\n",
      "1072/1072 [==============================] - 0s 155us/step - loss: 0.5484 - acc: 0.7248\n",
      "Epoch 32/100\n",
      "1072/1072 [==============================] - 0s 171us/step - loss: 0.5483 - acc: 0.7174\n",
      "Epoch 33/100\n",
      "1072/1072 [==============================] - 0s 188us/step - loss: 0.5476 - acc: 0.7239\n",
      "Epoch 34/100\n",
      "1072/1072 [==============================] - 0s 167us/step - loss: 0.5472 - acc: 0.7220\n",
      "Epoch 35/100\n",
      "1072/1072 [==============================] - 0s 154us/step - loss: 0.5475 - acc: 0.7248\n",
      "Epoch 36/100\n",
      "1072/1072 [==============================] - 0s 154us/step - loss: 0.5469 - acc: 0.7229\n",
      "Epoch 37/100\n",
      "1072/1072 [==============================] - 0s 125us/step - loss: 0.5469 - acc: 0.7229\n",
      "Epoch 38/100\n",
      "1072/1072 [==============================] - 0s 128us/step - loss: 0.5466 - acc: 0.7257\n",
      "Epoch 39/100\n",
      "1072/1072 [==============================] - 0s 155us/step - loss: 0.5463 - acc: 0.7276\n",
      "Epoch 40/100\n",
      "1072/1072 [==============================] - 0s 128us/step - loss: 0.5461 - acc: 0.7267\n",
      "Epoch 41/100\n",
      "1072/1072 [==============================] - 0s 121us/step - loss: 0.5456 - acc: 0.7285\n",
      "Epoch 42/100\n",
      "1072/1072 [==============================] - 0s 142us/step - loss: 0.5452 - acc: 0.7257\n",
      "Epoch 43/100\n",
      "1072/1072 [==============================] - 0s 128us/step - loss: 0.5450 - acc: 0.7257\n",
      "Epoch 44/100\n",
      "1072/1072 [==============================] - 0s 120us/step - loss: 0.5449 - acc: 0.7276\n",
      "Epoch 45/100\n",
      "1072/1072 [==============================] - 0s 122us/step - loss: 0.5446 - acc: 0.7257\n",
      "Epoch 46/100\n",
      "1072/1072 [==============================] - 0s 134us/step - loss: 0.5456 - acc: 0.7285\n",
      "Epoch 47/100\n",
      "1072/1072 [==============================] - 0s 127us/step - loss: 0.5444 - acc: 0.7304\n",
      "Epoch 48/100\n",
      "1072/1072 [==============================] - 0s 125us/step - loss: 0.5441 - acc: 0.7248\n",
      "Epoch 49/100\n",
      "1072/1072 [==============================] - 0s 120us/step - loss: 0.5436 - acc: 0.7285\n",
      "Epoch 50/100\n",
      "1072/1072 [==============================] - 0s 135us/step - loss: 0.5431 - acc: 0.7285\n",
      "Epoch 51/100\n",
      "1072/1072 [==============================] - 0s 141us/step - loss: 0.5435 - acc: 0.7323\n",
      "Epoch 52/100\n",
      "1072/1072 [==============================] - 0s 141us/step - loss: 0.5426 - acc: 0.7285\n",
      "Epoch 53/100\n",
      "1072/1072 [==============================] - 0s 161us/step - loss: 0.5423 - acc: 0.7304\n",
      "Epoch 54/100\n",
      "1072/1072 [==============================] - 0s 120us/step - loss: 0.5421 - acc: 0.7341\n",
      "Epoch 55/100\n",
      "1072/1072 [==============================] - 0s 122us/step - loss: 0.5417 - acc: 0.7332\n",
      "Epoch 56/100\n",
      "1072/1072 [==============================] - 0s 121us/step - loss: 0.5424 - acc: 0.7323\n",
      "Epoch 57/100\n",
      "1072/1072 [==============================] - 0s 135us/step - loss: 0.5424 - acc: 0.7323\n",
      "Epoch 58/100\n",
      "1072/1072 [==============================] - 0s 151us/step - loss: 0.5411 - acc: 0.7313\n",
      "Epoch 59/100\n",
      "1072/1072 [==============================] - 0s 122us/step - loss: 0.5411 - acc: 0.7267\n",
      "Epoch 60/100\n",
      "1072/1072 [==============================] - 0s 121us/step - loss: 0.5407 - acc: 0.7276\n",
      "Epoch 61/100\n",
      "1072/1072 [==============================] - 0s 130us/step - loss: 0.5407 - acc: 0.7332\n",
      "Epoch 62/100\n",
      "1072/1072 [==============================] - 0s 124us/step - loss: 0.5411 - acc: 0.7332\n",
      "Epoch 63/100\n",
      "1072/1072 [==============================] - 0s 120us/step - loss: 0.5393 - acc: 0.7313\n",
      "Epoch 64/100\n",
      "1072/1072 [==============================] - 0s 136us/step - loss: 0.5400 - acc: 0.7323\n",
      "Epoch 65/100\n",
      "1072/1072 [==============================] - 0s 119us/step - loss: 0.5394 - acc: 0.7351\n",
      "Epoch 66/100\n",
      "1072/1072 [==============================] - 0s 132us/step - loss: 0.5397 - acc: 0.7341\n",
      "Epoch 67/100\n",
      "1072/1072 [==============================] - 0s 138us/step - loss: 0.5388 - acc: 0.7397\n",
      "Epoch 68/100\n",
      "1072/1072 [==============================] - 0s 136us/step - loss: 0.5389 - acc: 0.7369\n",
      "Epoch 69/100\n",
      "1072/1072 [==============================] - 0s 125us/step - loss: 0.5394 - acc: 0.7360\n",
      "Epoch 70/100\n",
      "1072/1072 [==============================] - 0s 122us/step - loss: 0.5386 - acc: 0.7351\n",
      "Epoch 71/100\n",
      "1072/1072 [==============================] - 0s 148us/step - loss: 0.5381 - acc: 0.7351\n",
      "Epoch 72/100\n",
      "1072/1072 [==============================] - 0s 121us/step - loss: 0.5381 - acc: 0.7295\n",
      "Epoch 73/100\n",
      "1072/1072 [==============================] - 0s 123us/step - loss: 0.5372 - acc: 0.7332\n",
      "Epoch 74/100\n",
      "1072/1072 [==============================] - 0s 120us/step - loss: 0.5375 - acc: 0.7416\n",
      "Epoch 75/100\n",
      "1072/1072 [==============================] - 0s 144us/step - loss: 0.5375 - acc: 0.7369\n",
      "Epoch 76/100\n",
      "1072/1072 [==============================] - 0s 125us/step - loss: 0.5368 - acc: 0.7425\n",
      "Epoch 77/100\n",
      "1072/1072 [==============================] - 0s 120us/step - loss: 0.5366 - acc: 0.7388\n",
      "Epoch 78/100\n",
      "1072/1072 [==============================] - 0s 123us/step - loss: 0.5362 - acc: 0.7388\n",
      "Epoch 79/100\n",
      "1072/1072 [==============================] - 0s 128us/step - loss: 0.5371 - acc: 0.7407\n",
      "Epoch 80/100\n",
      "1072/1072 [==============================] - 0s 123us/step - loss: 0.5354 - acc: 0.7388\n",
      "Epoch 81/100\n",
      "1072/1072 [==============================] - 0s 122us/step - loss: 0.5358 - acc: 0.7435\n",
      "Epoch 82/100\n",
      "1072/1072 [==============================] - 0s 121us/step - loss: 0.5359 - acc: 0.7416\n",
      "Epoch 83/100\n",
      "1072/1072 [==============================] - 0s 129us/step - loss: 0.5358 - acc: 0.7435\n",
      "Epoch 84/100\n",
      "1072/1072 [==============================] - 0s 123us/step - loss: 0.5360 - acc: 0.7425\n",
      "Epoch 85/100\n",
      "1072/1072 [==============================] - 0s 130us/step - loss: 0.5349 - acc: 0.7388\n",
      "Epoch 86/100\n",
      "1072/1072 [==============================] - 0s 133us/step - loss: 0.5358 - acc: 0.7388\n",
      "Epoch 87/100\n",
      "1072/1072 [==============================] - 0s 120us/step - loss: 0.5345 - acc: 0.7453\n",
      "Epoch 88/100\n",
      "1072/1072 [==============================] - 0s 128us/step - loss: 0.5347 - acc: 0.7369\n",
      "Epoch 89/100\n",
      "1072/1072 [==============================] - 0s 123us/step - loss: 0.5346 - acc: 0.7407\n",
      "Epoch 90/100\n",
      "1072/1072 [==============================] - 0s 128us/step - loss: 0.5350 - acc: 0.7444\n",
      "Epoch 91/100\n",
      "1072/1072 [==============================] - 0s 144us/step - loss: 0.5344 - acc: 0.7369\n",
      "Epoch 92/100\n",
      "1072/1072 [==============================] - 0s 131us/step - loss: 0.5340 - acc: 0.7425\n",
      "Epoch 93/100\n",
      "1072/1072 [==============================] - 0s 120us/step - loss: 0.5337 - acc: 0.7425\n",
      "Epoch 94/100\n",
      "1072/1072 [==============================] - 0s 153us/step - loss: 0.5341 - acc: 0.7407\n",
      "Epoch 95/100\n",
      "1072/1072 [==============================] - 0s 158us/step - loss: 0.5336 - acc: 0.7463\n",
      "Epoch 96/100\n",
      "1072/1072 [==============================] - 0s 138us/step - loss: 0.5330 - acc: 0.7407\n",
      "Epoch 97/100\n",
      "1072/1072 [==============================] - 0s 163us/step - loss: 0.5335 - acc: 0.7407\n",
      "Epoch 98/100\n",
      "1072/1072 [==============================] - 0s 140us/step - loss: 0.5332 - acc: 0.7425\n",
      "Epoch 99/100\n",
      "1072/1072 [==============================] - 0s 155us/step - loss: 0.5332 - acc: 0.7379\n",
      "Epoch 100/100\n",
      "1072/1072 [==============================] - 0s 147us/step - loss: 0.5331 - acc: 0.7416\n"
     ]
    },
    {
     "data": {
      "text/plain": [
       "<keras.callbacks.History at 0x7f1933304588>"
      ]
     },
     "execution_count": 10,
     "metadata": {},
     "output_type": "execute_result"
    }
   ],
   "source": [
    "classifier.compile(optimizer = 'adam', loss = 'binary_crossentropy', metrics = ['accuracy'])\n",
    "classifier.fit(X_train, y_train, batch_size = 10, nb_epoch = 100)"
   ]
  },
  {
   "cell_type": "code",
   "execution_count": 11,
   "metadata": {},
   "outputs": [],
   "source": [
    "y_pred = classifier.predict(X_test)\n",
    "y_pred = (y_pred > 0.5)"
   ]
  },
  {
   "cell_type": "code",
   "execution_count": 13,
   "metadata": {},
   "outputs": [
    {
     "data": {
      "text/plain": [
       "0.6828358208955224"
      ]
     },
     "execution_count": 13,
     "metadata": {},
     "output_type": "execute_result"
    }
   ],
   "source": [
    "score = accuracy_score(y_test, y_pred)\n",
    "score"
   ]
  }
 ],
 "metadata": {
  "kernelspec": {
   "display_name": "Python 3",
   "language": "python",
   "name": "python3"
  },
  "language_info": {
   "codemirror_mode": {
    "name": "ipython",
    "version": 3
   },
   "file_extension": ".py",
   "mimetype": "text/x-python",
   "name": "python",
   "nbconvert_exporter": "python",
   "pygments_lexer": "ipython3",
   "version": "3.7.2"
  }
 },
 "nbformat": 4,
 "nbformat_minor": 2
}
