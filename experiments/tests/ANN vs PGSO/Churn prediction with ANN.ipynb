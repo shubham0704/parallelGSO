{
 "cells": [
  {
   "cell_type": "code",
   "execution_count": 1,
   "metadata": {},
   "outputs": [],
   "source": [
    "import numpy as np\n",
    "import matplotlib.pyplot as plt\n",
    "import pandas as pd"
   ]
  },
  {
   "cell_type": "code",
   "execution_count": 2,
   "metadata": {},
   "outputs": [],
   "source": [
    "random_state = 1\n",
    "np.random.seed(random_state)\n",
    "import random\n",
    "random.seed(random_state)"
   ]
  },
  {
   "cell_type": "code",
   "execution_count": 3,
   "metadata": {},
   "outputs": [],
   "source": [
    "dataset = pd.read_csv('datasets/Churn_Modelling.csv')"
   ]
  },
  {
   "cell_type": "code",
   "execution_count": 4,
   "metadata": {},
   "outputs": [],
   "source": [
    "X = dataset.iloc[:, 3:13].values\n",
    "y = dataset.iloc[:, 13].values"
   ]
  },
  {
   "cell_type": "code",
   "execution_count": 5,
   "metadata": {},
   "outputs": [],
   "source": [
    "from sklearn.preprocessing import LabelEncoder, OneHotEncoder\n",
    "labelencoder_X_1 = LabelEncoder()\n",
    "X[:, 1] = labelencoder_X_1.fit_transform(X[:, 1])\n",
    "labelencoder_X_2 = LabelEncoder()\n",
    "X[:, 2] = labelencoder_X_2.fit_transform(X[:, 2])"
   ]
  },
  {
   "cell_type": "code",
   "execution_count": 6,
   "metadata": {},
   "outputs": [
    {
     "name": "stderr",
     "output_type": "stream",
     "text": [
      "/home/master/anaconda3/envs/pgso/lib/python3.7/site-packages/sklearn/preprocessing/_encoders.py:371: FutureWarning: The handling of integer data will change in version 0.22. Currently, the categories are determined based on the range [0, max(values)], while in the future they will be determined based on the unique values.\n",
      "If you want the future behaviour and silence this warning, you can specify \"categories='auto'\".\n",
      "In case you used a LabelEncoder before this OneHotEncoder to convert the categories to integers, then you can now use the OneHotEncoder directly.\n",
      "  warnings.warn(msg, FutureWarning)\n",
      "/home/master/anaconda3/envs/pgso/lib/python3.7/site-packages/sklearn/preprocessing/_encoders.py:392: DeprecationWarning: The 'categorical_features' keyword is deprecated in version 0.20 and will be removed in 0.22. You can use the ColumnTransformer instead.\n",
      "  \"use the ColumnTransformer instead.\", DeprecationWarning)\n"
     ]
    }
   ],
   "source": [
    "onehotencoder = OneHotEncoder(categorical_features = [1])\n",
    "X = onehotencoder.fit_transform(X).toarray()\n",
    "X = X[:, 1:]"
   ]
  },
  {
   "cell_type": "code",
   "execution_count": 10,
   "metadata": {},
   "outputs": [],
   "source": [
    "from sklearn.model_selection import train_test_split\n",
    "X_train, X_test, y_train, y_test = train_test_split(X, y, test_size = 0.2, random_state=random_state)"
   ]
  },
  {
   "cell_type": "code",
   "execution_count": 11,
   "metadata": {},
   "outputs": [],
   "source": [
    "from sklearn.preprocessing import StandardScaler\n",
    "sc = StandardScaler()\n",
    "X_train = sc.fit_transform(X_train)\n",
    "X_test = sc.transform(X_test)"
   ]
  },
  {
   "cell_type": "code",
   "execution_count": 12,
   "metadata": {},
   "outputs": [],
   "source": [
    "import keras\n",
    "from keras.models import Sequential\n",
    "from keras.layers import Dense"
   ]
  },
  {
   "cell_type": "code",
   "execution_count": 13,
   "metadata": {},
   "outputs": [
    {
     "name": "stdout",
     "output_type": "stream",
     "text": [
      "WARNING:tensorflow:From /home/master/anaconda3/envs/pgso/lib/python3.7/site-packages/tensorflow/python/framework/op_def_library.py:263: colocate_with (from tensorflow.python.framework.ops) is deprecated and will be removed in a future version.\n",
      "Instructions for updating:\n",
      "Colocations handled automatically by placer.\n"
     ]
    }
   ],
   "source": [
    "classifier = Sequential()\n",
    "# 11 input neurons\n",
    "classifier.add(Dense(units = 6, kernel_initializer = 'uniform', activation = 'relu', input_dim = 11))\n",
    "# 6 hidden neurons\n",
    "classifier.add(Dense(units = 6, kernel_initializer = 'uniform', activation = 'relu'))\n",
    "# 1 output neuron\n",
    "classifier.add(Dense(units = 1, kernel_initializer = 'uniform', activation = 'sigmoid'))"
   ]
  },
  {
   "cell_type": "code",
   "execution_count": 14,
   "metadata": {},
   "outputs": [],
   "source": [
    "classifier.compile(optimizer = 'adam', loss = 'binary_crossentropy', metrics = ['accuracy'])"
   ]
  },
  {
   "cell_type": "code",
   "execution_count": 15,
   "metadata": {},
   "outputs": [
    {
     "name": "stdout",
     "output_type": "stream",
     "text": [
      "WARNING:tensorflow:From /home/master/anaconda3/envs/pgso/lib/python3.7/site-packages/tensorflow/python/ops/math_ops.py:3066: to_int32 (from tensorflow.python.ops.math_ops) is deprecated and will be removed in a future version.\n",
      "Instructions for updating:\n",
      "Use tf.cast instead.\n"
     ]
    },
    {
     "name": "stderr",
     "output_type": "stream",
     "text": [
      "/home/master/anaconda3/envs/pgso/lib/python3.7/site-packages/ipykernel_launcher.py:1: UserWarning: The `nb_epoch` argument in `fit` has been renamed `epochs`.\n",
      "  \"\"\"Entry point for launching an IPython kernel.\n"
     ]
    },
    {
     "name": "stdout",
     "output_type": "stream",
     "text": [
      "Epoch 1/100\n",
      "8000/8000 [==============================] - 2s 241us/step - loss: 0.4915 - acc: 0.7965\n",
      "Epoch 2/100\n",
      "8000/8000 [==============================] - 2s 190us/step - loss: 0.4246 - acc: 0.8174\n",
      "Epoch 3/100\n",
      "8000/8000 [==============================] - 2s 225us/step - loss: 0.4197 - acc: 0.8277\n",
      "Epoch 4/100\n",
      "8000/8000 [==============================] - 2s 218us/step - loss: 0.4145 - acc: 0.8295\n",
      "Epoch 5/100\n",
      "8000/8000 [==============================] - 2s 216us/step - loss: 0.4106 - acc: 0.8321\n",
      "Epoch 6/100\n",
      "8000/8000 [==============================] - 2s 215us/step - loss: 0.4078 - acc: 0.8326\n",
      "Epoch 7/100\n",
      "8000/8000 [==============================] - 2s 208us/step - loss: 0.4063 - acc: 0.8331\n",
      "Epoch 8/100\n",
      "8000/8000 [==============================] - 2s 229us/step - loss: 0.4055 - acc: 0.8330\n",
      "Epoch 9/100\n",
      "8000/8000 [==============================] - 2s 214us/step - loss: 0.4040 - acc: 0.8341\n",
      "Epoch 10/100\n",
      "8000/8000 [==============================] - 2s 211us/step - loss: 0.4037 - acc: 0.8359\n",
      "Epoch 11/100\n",
      "8000/8000 [==============================] - 2s 203us/step - loss: 0.4032 - acc: 0.8342\n",
      "Epoch 12/100\n",
      "8000/8000 [==============================] - 2s 209us/step - loss: 0.4022 - acc: 0.8365\n",
      "Epoch 13/100\n",
      "8000/8000 [==============================] - 2s 227us/step - loss: 0.4017 - acc: 0.8357\n",
      "Epoch 14/100\n",
      "8000/8000 [==============================] - 2s 232us/step - loss: 0.4012 - acc: 0.8347\n",
      "Epoch 15/100\n",
      "8000/8000 [==============================] - 2s 275us/step - loss: 0.4006 - acc: 0.8375\n",
      "Epoch 16/100\n",
      "8000/8000 [==============================] - 3s 355us/step - loss: 0.4009 - acc: 0.8376\n",
      "Epoch 17/100\n",
      "8000/8000 [==============================] - 3s 355us/step - loss: 0.4003 - acc: 0.8372\n",
      "Epoch 18/100\n",
      "8000/8000 [==============================] - 3s 355us/step - loss: 0.3996 - acc: 0.8372\n",
      "Epoch 19/100\n",
      "8000/8000 [==============================] - 3s 321us/step - loss: 0.3993 - acc: 0.8376\n",
      "Epoch 20/100\n",
      "8000/8000 [==============================] - 3s 346us/step - loss: 0.3988 - acc: 0.8395\n",
      "Epoch 21/100\n",
      "8000/8000 [==============================] - 3s 318us/step - loss: 0.3987 - acc: 0.8370\n",
      "Epoch 22/100\n",
      "8000/8000 [==============================] - 2s 247us/step - loss: 0.3981 - acc: 0.8375\n",
      "Epoch 23/100\n",
      "8000/8000 [==============================] - 2s 236us/step - loss: 0.3980 - acc: 0.8375\n",
      "Epoch 24/100\n",
      "8000/8000 [==============================] - 2s 228us/step - loss: 0.3978 - acc: 0.8387\n",
      "Epoch 25/100\n",
      "8000/8000 [==============================] - 2s 226us/step - loss: 0.3971 - acc: 0.8390\n",
      "Epoch 26/100\n",
      "8000/8000 [==============================] - 2s 224us/step - loss: 0.3971 - acc: 0.8376\n",
      "Epoch 27/100\n",
      "8000/8000 [==============================] - 2s 240us/step - loss: 0.3970 - acc: 0.8382\n",
      "Epoch 28/100\n",
      "8000/8000 [==============================] - 2s 207us/step - loss: 0.3967 - acc: 0.8385\n",
      "Epoch 29/100\n",
      "8000/8000 [==============================] - 2s 215us/step - loss: 0.3970 - acc: 0.8380\n",
      "Epoch 30/100\n",
      "8000/8000 [==============================] - 2s 222us/step - loss: 0.3964 - acc: 0.8379\n",
      "Epoch 31/100\n",
      "8000/8000 [==============================] - 2s 234us/step - loss: 0.3964 - acc: 0.8390\n",
      "Epoch 32/100\n",
      "8000/8000 [==============================] - 2s 233us/step - loss: 0.3964 - acc: 0.8374\n",
      "Epoch 33/100\n",
      "8000/8000 [==============================] - 2s 210us/step - loss: 0.3962 - acc: 0.8374\n",
      "Epoch 34/100\n",
      "8000/8000 [==============================] - 2s 230us/step - loss: 0.3962 - acc: 0.8389\n",
      "Epoch 35/100\n",
      "8000/8000 [==============================] - 2s 227us/step - loss: 0.3956 - acc: 0.8395\n",
      "Epoch 36/100\n",
      "8000/8000 [==============================] - 2s 239us/step - loss: 0.3957 - acc: 0.8390\n",
      "Epoch 37/100\n",
      "8000/8000 [==============================] - 2s 238us/step - loss: 0.3956 - acc: 0.8387\n",
      "Epoch 38/100\n",
      "8000/8000 [==============================] - 2s 238us/step - loss: 0.3953 - acc: 0.8386\n",
      "Epoch 39/100\n",
      "8000/8000 [==============================] - 2s 247us/step - loss: 0.3956 - acc: 0.8379\n",
      "Epoch 40/100\n",
      "8000/8000 [==============================] - 2s 196us/step - loss: 0.3956 - acc: 0.8389\n",
      "Epoch 41/100\n",
      "8000/8000 [==============================] - 2s 201us/step - loss: 0.3952 - acc: 0.8386\n",
      "Epoch 42/100\n",
      "8000/8000 [==============================] - 2s 226us/step - loss: 0.3953 - acc: 0.8382\n",
      "Epoch 43/100\n",
      "8000/8000 [==============================] - 2s 248us/step - loss: 0.3952 - acc: 0.8392\n",
      "Epoch 44/100\n",
      "8000/8000 [==============================] - 2s 267us/step - loss: 0.3951 - acc: 0.8395\n",
      "Epoch 45/100\n",
      "8000/8000 [==============================] - 2s 246us/step - loss: 0.3948 - acc: 0.8397\n",
      "Epoch 46/100\n",
      "8000/8000 [==============================] - 2s 257us/step - loss: 0.3947 - acc: 0.8399\n",
      "Epoch 47/100\n",
      "8000/8000 [==============================] - 2s 287us/step - loss: 0.3950 - acc: 0.8389\n",
      "Epoch 48/100\n",
      "8000/8000 [==============================] - 2s 260us/step - loss: 0.3949 - acc: 0.8389\n",
      "Epoch 49/100\n",
      "8000/8000 [==============================] - 2s 197us/step - loss: 0.3950 - acc: 0.8400\n",
      "Epoch 50/100\n",
      "8000/8000 [==============================] - 2s 203us/step - loss: 0.3951 - acc: 0.8394\n",
      "Epoch 51/100\n",
      "8000/8000 [==============================] - 2s 208us/step - loss: 0.3942 - acc: 0.8395\n",
      "Epoch 52/100\n",
      "8000/8000 [==============================] - 1s 176us/step - loss: 0.3946 - acc: 0.8390\n",
      "Epoch 53/100\n",
      "8000/8000 [==============================] - 2s 215us/step - loss: 0.3942 - acc: 0.8390\n",
      "Epoch 54/100\n",
      "8000/8000 [==============================] - 2s 249us/step - loss: 0.3946 - acc: 0.8400\n",
      "Epoch 55/100\n",
      "8000/8000 [==============================] - 2s 294us/step - loss: 0.3945 - acc: 0.8391\n",
      "Epoch 56/100\n",
      "8000/8000 [==============================] - 2s 258us/step - loss: 0.3940 - acc: 0.8390\n",
      "Epoch 57/100\n",
      "8000/8000 [==============================] - 2s 259us/step - loss: 0.3945 - acc: 0.8394\n",
      "Epoch 58/100\n",
      "8000/8000 [==============================] - 2s 226us/step - loss: 0.3947 - acc: 0.8385\n",
      "Epoch 59/100\n",
      "8000/8000 [==============================] - 2s 188us/step - loss: 0.3946 - acc: 0.8387\n",
      "Epoch 60/100\n",
      "8000/8000 [==============================] - 2s 200us/step - loss: 0.3939 - acc: 0.8395\n",
      "Epoch 61/100\n",
      "8000/8000 [==============================] - 1s 169us/step - loss: 0.3943 - acc: 0.8392\n",
      "Epoch 62/100\n",
      "8000/8000 [==============================] - 1s 167us/step - loss: 0.3937 - acc: 0.8397\n",
      "Epoch 63/100\n",
      "8000/8000 [==============================] - 1s 174us/step - loss: 0.3937 - acc: 0.8386\n",
      "Epoch 64/100\n",
      "8000/8000 [==============================] - 1s 160us/step - loss: 0.3941 - acc: 0.8382\n",
      "Epoch 65/100\n",
      "8000/8000 [==============================] - 1s 166us/step - loss: 0.3941 - acc: 0.8396\n",
      "Epoch 66/100\n",
      "8000/8000 [==============================] - 1s 171us/step - loss: 0.3938 - acc: 0.8390\n",
      "Epoch 67/100\n",
      "8000/8000 [==============================] - 1s 169us/step - loss: 0.3938 - acc: 0.8374\n",
      "Epoch 68/100\n",
      "8000/8000 [==============================] - 1s 170us/step - loss: 0.3934 - acc: 0.8397\n",
      "Epoch 69/100\n",
      "8000/8000 [==============================] - 1s 168us/step - loss: 0.3941 - acc: 0.8389\n",
      "Epoch 70/100\n",
      "8000/8000 [==============================] - 1s 165us/step - loss: 0.3936 - acc: 0.8385\n",
      "Epoch 71/100\n",
      "8000/8000 [==============================] - 1s 166us/step - loss: 0.3934 - acc: 0.8376\n",
      "Epoch 72/100\n",
      "8000/8000 [==============================] - 1s 172us/step - loss: 0.3935 - acc: 0.8374\n",
      "Epoch 73/100\n",
      "8000/8000 [==============================] - 1s 161us/step - loss: 0.3935 - acc: 0.8387\n",
      "Epoch 74/100\n",
      "8000/8000 [==============================] - 1s 159us/step - loss: 0.3931 - acc: 0.8386\n",
      "Epoch 75/100\n",
      "8000/8000 [==============================] - 1s 175us/step - loss: 0.3936 - acc: 0.8390\n",
      "Epoch 76/100\n",
      "8000/8000 [==============================] - 1s 167us/step - loss: 0.3933 - acc: 0.8399\n",
      "Epoch 77/100\n",
      "8000/8000 [==============================] - 1s 157us/step - loss: 0.3935 - acc: 0.8371\n",
      "Epoch 78/100\n",
      "8000/8000 [==============================] - 1s 160us/step - loss: 0.3931 - acc: 0.8397\n",
      "Epoch 79/100\n",
      "8000/8000 [==============================] - 1s 160us/step - loss: 0.3928 - acc: 0.8402\n",
      "Epoch 80/100\n",
      "8000/8000 [==============================] - 1s 160us/step - loss: 0.3929 - acc: 0.8392\n",
      "Epoch 81/100\n",
      "8000/8000 [==============================] - 1s 160us/step - loss: 0.3931 - acc: 0.8379\n",
      "Epoch 82/100\n"
     ]
    },
    {
     "name": "stdout",
     "output_type": "stream",
     "text": [
      "8000/8000 [==============================] - 1s 170us/step - loss: 0.3932 - acc: 0.8397\n",
      "Epoch 83/100\n",
      "8000/8000 [==============================] - 1s 179us/step - loss: 0.3928 - acc: 0.8402\n",
      "Epoch 84/100\n",
      "8000/8000 [==============================] - 2s 223us/step - loss: 0.3926 - acc: 0.8375\n",
      "Epoch 85/100\n",
      "8000/8000 [==============================] - 2s 250us/step - loss: 0.3928 - acc: 0.8405\n",
      "Epoch 86/100\n",
      "8000/8000 [==============================] - 2s 222us/step - loss: 0.3926 - acc: 0.8387\n",
      "Epoch 87/100\n",
      "8000/8000 [==============================] - 2s 212us/step - loss: 0.3922 - acc: 0.8386\n",
      "Epoch 88/100\n",
      "8000/8000 [==============================] - 2s 252us/step - loss: 0.3923 - acc: 0.8389\n",
      "Epoch 89/100\n",
      "8000/8000 [==============================] - 2s 250us/step - loss: 0.3925 - acc: 0.8401\n",
      "Epoch 90/100\n",
      "8000/8000 [==============================] - 2s 251us/step - loss: 0.3921 - acc: 0.8387\n",
      "Epoch 91/100\n",
      "8000/8000 [==============================] - 2s 249us/step - loss: 0.3917 - acc: 0.8396\n",
      "Epoch 92/100\n",
      "8000/8000 [==============================] - 2s 248us/step - loss: 0.3915 - acc: 0.8409\n",
      "Epoch 93/100\n",
      "8000/8000 [==============================] - 2s 278us/step - loss: 0.3909 - acc: 0.8389\n",
      "Epoch 94/100\n",
      "8000/8000 [==============================] - 2s 222us/step - loss: 0.3906 - acc: 0.8390\n",
      "Epoch 95/100\n",
      "8000/8000 [==============================] - 2s 217us/step - loss: 0.3892 - acc: 0.8407\n",
      "Epoch 96/100\n",
      "8000/8000 [==============================] - 2s 216us/step - loss: 0.3889 - acc: 0.8402\n",
      "Epoch 97/100\n",
      "8000/8000 [==============================] - 2s 215us/step - loss: 0.3870 - acc: 0.8412\n",
      "Epoch 98/100\n",
      "8000/8000 [==============================] - 2s 215us/step - loss: 0.3858 - acc: 0.8386\n",
      "Epoch 99/100\n",
      "8000/8000 [==============================] - 2s 216us/step - loss: 0.3849 - acc: 0.8389\n",
      "Epoch 100/100\n",
      "8000/8000 [==============================] - 2s 218us/step - loss: 0.3838 - acc: 0.8409\n"
     ]
    },
    {
     "data": {
      "text/plain": [
       "<keras.callbacks.History at 0x7f8b0f7399e8>"
      ]
     },
     "execution_count": 15,
     "metadata": {},
     "output_type": "execute_result"
    }
   ],
   "source": [
    "classifier.fit(X_train, y_train, batch_size = 10, nb_epoch = 100)"
   ]
  },
  {
   "cell_type": "code",
   "execution_count": 16,
   "metadata": {},
   "outputs": [],
   "source": [
    "y_pred = classifier.predict(X_test)\n",
    "y_pred = (y_pred > 0.5)"
   ]
  },
  {
   "cell_type": "code",
   "execution_count": 17,
   "metadata": {},
   "outputs": [],
   "source": [
    "from sklearn.metrics import accuracy_score\n",
    "score = accuracy_score(y_test, y_pred)"
   ]
  },
  {
   "cell_type": "code",
   "execution_count": 18,
   "metadata": {},
   "outputs": [
    {
     "data": {
      "text/plain": [
       "0.84"
      ]
     },
     "execution_count": 18,
     "metadata": {},
     "output_type": "execute_result"
    }
   ],
   "source": [
    "score"
   ]
  },
  {
   "cell_type": "code",
   "execution_count": null,
   "metadata": {},
   "outputs": [],
   "source": []
  }
 ],
 "metadata": {
  "kernelspec": {
   "display_name": "Python 3",
   "language": "python",
   "name": "python3"
  },
  "language_info": {
   "codemirror_mode": {
    "name": "ipython",
    "version": 3
   },
   "file_extension": ".py",
   "mimetype": "text/x-python",
   "name": "python",
   "nbconvert_exporter": "python",
   "pygments_lexer": "ipython3",
   "version": "3.7.2"
  }
 },
 "nbformat": 4,
 "nbformat_minor": 2
}
