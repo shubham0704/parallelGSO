{
 "cells": [
  {
   "cell_type": "code",
   "execution_count": 48,
   "metadata": {},
   "outputs": [
    {
     "data": {
      "text/plain": [
       "(array([-3.76688481e-05, -5.53681146e+00]), 2.1050851728432463e-08)"
      ]
     },
     "execution_count": 48,
     "metadata": {},
     "output_type": "execute_result"
    }
   ],
   "source": [
    "# %load pso_fail.py\n",
    "from evaluate import error, evaluate, update_velocity, update_position\n",
    "from failed_exec import create_n_particles\n",
    "from numba import jit\n",
    "import numpy as np\n",
    "\n",
    "\n",
    "@jit\n",
    "def PSO(costFunc,bounds,maxiter,num_particles=None,swarm_init=None):\n",
    "\n",
    "    if num_particles is not None:\n",
    "        dims = len(bounds)\n",
    "        lb = bounds[0][0] \n",
    "        ub = bounds[0][1]\n",
    "        swarm_init = []\n",
    "        for _ in range(num_particles):\n",
    "            swarm_init.append(np.random.uniform(lb, ub, dims))\n",
    "        \n",
    "    num_dimensions=len(swarm_init[0])\n",
    "    err_best_g=-1                   # best error for group\n",
    "    pos_best_g=[]                   # best position for group\n",
    "    num_particles = len(swarm_init)\n",
    "    # establish the swarm\n",
    "    swarm = create_n_particles(num_particles, num_dimensions, swarm_init)\n",
    "    # begin optimization loop\n",
    "    i=0\n",
    "    while i < maxiter:\n",
    "        #print i,err_best_g\n",
    "        # cycle through particles in swarm and evaluate fitness\n",
    "        for j in range(0,num_particles):\n",
    "            swarm[j]['pos_best_i'], swarm[j]['err_best_i']  = evaluate(costFunc, swarm[j])\n",
    "\n",
    "            # determine if current particle is the best (globally)\n",
    "            if swarm[j]['err_i'] < err_best_g or err_best_g == -1:\n",
    "                pos_best_g=list(swarm[j]['position_i'])\n",
    "                err_best_g=float(swarm[j]['err_i'])\n",
    "\n",
    "        # cycle through swarm and update velocities and position\n",
    "        for j in range(0,num_particles):\n",
    "            swarm[j]['velocity_i'] = update_velocity(pos_best_g, swarm[j])\n",
    "            swarm[j]['position_i'] = update_position(bounds, swarm[j])\n",
    "        i+=1\n",
    "\n",
    "    # print final results\n",
    "    #print ('\\n')\n",
    "    #print (pos_best_g,' , ', err_best_g)\n",
    "    return pos_best_g[0], err_best_g\n",
    "\n",
    "bounds=[[-10,10],[-10,10]]  # input bounds [(x1_min,x1_max),(x2_min,x2_max)...]\n",
    "num_particles = 15\n",
    "swarm_init = [np.random.uniform(-10,10, 2) for _ in range(num_particles)]\n",
    "PSO(error,bounds,maxiter=30, swarm_init=swarm_init)\n",
    "#numba_time =  %%timeit -o PSO(error,bounds,maxiter=30, swarm_init=swarm_init)\n"
   ]
  },
  {
   "cell_type": "code",
   "execution_count": 2,
   "metadata": {},
   "outputs": [],
   "source": [
    "# dependencies\n",
    "from numba import jit, njit\n",
    "import numba\n",
    "import numpy as np"
   ]
  },
  {
   "cell_type": "code",
   "execution_count": 3,
   "metadata": {},
   "outputs": [
    {
     "data": {
      "text/plain": [
       "([array([ 0.04250175, -5.12136125])], 0.00011801315921289302)"
      ]
     },
     "execution_count": 3,
     "metadata": {},
     "output_type": "execute_result"
    }
   ],
   "source": [
    "from pso_fail import PSO\n",
    "from evaluate import error\n",
    "bounds=[(-10,10),(-10,10)]  #input bounds [(x1_min,x1_max),(x2_min,x2_max)...]\n",
    "num_particles = 15\n",
    "swarm_init = [np.random.uniform(-10,10, 2) for _ in range(num_particles)]\n",
    "PSO(error,bounds,maxiter=30, swarm_init=swarm_init)"
   ]
  },
  {
   "cell_type": "code",
   "execution_count": 8,
   "metadata": {},
   "outputs": [],
   "source": [
    "@jit\n",
    "def GSO(M, bounds, num_particles, max_iter):\n",
    "    \n",
    "    dims = len(bounds)\n",
    "    lb = bounds[0][0] \n",
    "    ub = bounds[0][1]\n",
    "    subswarm_bests = []\n",
    "    for i in range(M):\n",
    "        #initial= np.random.uniform(-10,10, 2)               # initial starting location [x1,x2...]         \n",
    "        swarm_init = []\n",
    "        for _ in range(num_particles):\n",
    "            swarm_init.append(np.random.uniform(lb, ub, dims))\n",
    "        subswarm_best,_ = PSO(error,bounds,max_iter, swarm_init=swarm_init)\n",
    "        subswarm_bests.append(subswarm_best[0])\n",
    "    #return subswarm_bests\n",
    "    return PSO(error, bounds, max_iter, swarm_init=subswarm_bests)"
   ]
  },
  {
   "cell_type": "code",
   "execution_count": 42,
   "metadata": {},
   "outputs": [
    {
     "ename": "TypeError",
     "evalue": "object of type 'numpy.float64' has no len()",
     "output_type": "error",
     "traceback": [
      "\u001b[0;31m---------------------------------------------------------------------------\u001b[0m",
      "\u001b[0;31mTypeError\u001b[0m                                 Traceback (most recent call last)",
      "\u001b[0;32m<ipython-input-42-785d387bd8ad>\u001b[0m in \u001b[0;36m<module>\u001b[0;34m()\u001b[0m\n\u001b[0;32m----> 1\u001b[0;31m \u001b[0moldtime\u001b[0m \u001b[0;34m=\u001b[0m \u001b[0mget_ipython\u001b[0m\u001b[0;34m(\u001b[0m\u001b[0;34m)\u001b[0m\u001b[0;34m.\u001b[0m\u001b[0mrun_line_magic\u001b[0m\u001b[0;34m(\u001b[0m\u001b[0;34m'timeit'\u001b[0m\u001b[0;34m,\u001b[0m \u001b[0;34m'-o GSO(m, bounds, num_particles, max_iter)'\u001b[0m\u001b[0;34m)\u001b[0m\u001b[0;34m\u001b[0m\u001b[0m\n\u001b[0m",
      "\u001b[0;32m~/miniconda3/envs/numbatutorial/lib/python3.6/site-packages/IPython/core/interactiveshell.py\u001b[0m in \u001b[0;36mrun_line_magic\u001b[0;34m(self, magic_name, line, _stack_depth)\u001b[0m\n\u001b[1;32m   2129\u001b[0m                 \u001b[0mkwargs\u001b[0m\u001b[0;34m[\u001b[0m\u001b[0;34m'local_ns'\u001b[0m\u001b[0;34m]\u001b[0m \u001b[0;34m=\u001b[0m \u001b[0msys\u001b[0m\u001b[0;34m.\u001b[0m\u001b[0m_getframe\u001b[0m\u001b[0;34m(\u001b[0m\u001b[0mstack_depth\u001b[0m\u001b[0;34m)\u001b[0m\u001b[0;34m.\u001b[0m\u001b[0mf_locals\u001b[0m\u001b[0;34m\u001b[0m\u001b[0m\n\u001b[1;32m   2130\u001b[0m             \u001b[0;32mwith\u001b[0m \u001b[0mself\u001b[0m\u001b[0;34m.\u001b[0m\u001b[0mbuiltin_trap\u001b[0m\u001b[0;34m:\u001b[0m\u001b[0;34m\u001b[0m\u001b[0m\n\u001b[0;32m-> 2131\u001b[0;31m                 \u001b[0mresult\u001b[0m \u001b[0;34m=\u001b[0m \u001b[0mfn\u001b[0m\u001b[0;34m(\u001b[0m\u001b[0;34m*\u001b[0m\u001b[0margs\u001b[0m\u001b[0;34m,\u001b[0m\u001b[0;34m**\u001b[0m\u001b[0mkwargs\u001b[0m\u001b[0;34m)\u001b[0m\u001b[0;34m\u001b[0m\u001b[0m\n\u001b[0m\u001b[1;32m   2132\u001b[0m             \u001b[0;32mreturn\u001b[0m \u001b[0mresult\u001b[0m\u001b[0;34m\u001b[0m\u001b[0m\n\u001b[1;32m   2133\u001b[0m \u001b[0;34m\u001b[0m\u001b[0m\n",
      "\u001b[0;32m<decorator-gen-61>\u001b[0m in \u001b[0;36mtimeit\u001b[0;34m(self, line, cell, local_ns)\u001b[0m\n",
      "\u001b[0;32m~/miniconda3/envs/numbatutorial/lib/python3.6/site-packages/IPython/core/magic.py\u001b[0m in \u001b[0;36m<lambda>\u001b[0;34m(f, *a, **k)\u001b[0m\n\u001b[1;32m    185\u001b[0m     \u001b[0;31m# but it's overkill for just that one bit of state.\u001b[0m\u001b[0;34m\u001b[0m\u001b[0;34m\u001b[0m\u001b[0m\n\u001b[1;32m    186\u001b[0m     \u001b[0;32mdef\u001b[0m \u001b[0mmagic_deco\u001b[0m\u001b[0;34m(\u001b[0m\u001b[0marg\u001b[0m\u001b[0;34m)\u001b[0m\u001b[0;34m:\u001b[0m\u001b[0;34m\u001b[0m\u001b[0m\n\u001b[0;32m--> 187\u001b[0;31m         \u001b[0mcall\u001b[0m \u001b[0;34m=\u001b[0m \u001b[0;32mlambda\u001b[0m \u001b[0mf\u001b[0m\u001b[0;34m,\u001b[0m \u001b[0;34m*\u001b[0m\u001b[0ma\u001b[0m\u001b[0;34m,\u001b[0m \u001b[0;34m**\u001b[0m\u001b[0mk\u001b[0m\u001b[0;34m:\u001b[0m \u001b[0mf\u001b[0m\u001b[0;34m(\u001b[0m\u001b[0;34m*\u001b[0m\u001b[0ma\u001b[0m\u001b[0;34m,\u001b[0m \u001b[0;34m**\u001b[0m\u001b[0mk\u001b[0m\u001b[0;34m)\u001b[0m\u001b[0;34m\u001b[0m\u001b[0m\n\u001b[0m\u001b[1;32m    188\u001b[0m \u001b[0;34m\u001b[0m\u001b[0m\n\u001b[1;32m    189\u001b[0m         \u001b[0;32mif\u001b[0m \u001b[0mcallable\u001b[0m\u001b[0;34m(\u001b[0m\u001b[0marg\u001b[0m\u001b[0;34m)\u001b[0m\u001b[0;34m:\u001b[0m\u001b[0;34m\u001b[0m\u001b[0m\n",
      "\u001b[0;32m~/miniconda3/envs/numbatutorial/lib/python3.6/site-packages/IPython/core/magics/execution.py\u001b[0m in \u001b[0;36mtimeit\u001b[0;34m(self, line, cell, local_ns)\u001b[0m\n\u001b[1;32m   1096\u001b[0m             \u001b[0;32mfor\u001b[0m \u001b[0mindex\u001b[0m \u001b[0;32min\u001b[0m \u001b[0mrange\u001b[0m\u001b[0;34m(\u001b[0m\u001b[0;36m0\u001b[0m\u001b[0;34m,\u001b[0m \u001b[0;36m10\u001b[0m\u001b[0;34m)\u001b[0m\u001b[0;34m:\u001b[0m\u001b[0;34m\u001b[0m\u001b[0m\n\u001b[1;32m   1097\u001b[0m                 \u001b[0mnumber\u001b[0m \u001b[0;34m=\u001b[0m \u001b[0;36m10\u001b[0m \u001b[0;34m**\u001b[0m \u001b[0mindex\u001b[0m\u001b[0;34m\u001b[0m\u001b[0m\n\u001b[0;32m-> 1098\u001b[0;31m                 \u001b[0mtime_number\u001b[0m \u001b[0;34m=\u001b[0m \u001b[0mtimer\u001b[0m\u001b[0;34m.\u001b[0m\u001b[0mtimeit\u001b[0m\u001b[0;34m(\u001b[0m\u001b[0mnumber\u001b[0m\u001b[0;34m)\u001b[0m\u001b[0;34m\u001b[0m\u001b[0m\n\u001b[0m\u001b[1;32m   1099\u001b[0m                 \u001b[0;32mif\u001b[0m \u001b[0mtime_number\u001b[0m \u001b[0;34m>=\u001b[0m \u001b[0;36m0.2\u001b[0m\u001b[0;34m:\u001b[0m\u001b[0;34m\u001b[0m\u001b[0m\n\u001b[1;32m   1100\u001b[0m                     \u001b[0;32mbreak\u001b[0m\u001b[0;34m\u001b[0m\u001b[0m\n",
      "\u001b[0;32m~/miniconda3/envs/numbatutorial/lib/python3.6/site-packages/IPython/core/magics/execution.py\u001b[0m in \u001b[0;36mtimeit\u001b[0;34m(self, number)\u001b[0m\n\u001b[1;32m    158\u001b[0m         \u001b[0mgc\u001b[0m\u001b[0;34m.\u001b[0m\u001b[0mdisable\u001b[0m\u001b[0;34m(\u001b[0m\u001b[0;34m)\u001b[0m\u001b[0;34m\u001b[0m\u001b[0m\n\u001b[1;32m    159\u001b[0m         \u001b[0;32mtry\u001b[0m\u001b[0;34m:\u001b[0m\u001b[0;34m\u001b[0m\u001b[0m\n\u001b[0;32m--> 160\u001b[0;31m             \u001b[0mtiming\u001b[0m \u001b[0;34m=\u001b[0m \u001b[0mself\u001b[0m\u001b[0;34m.\u001b[0m\u001b[0minner\u001b[0m\u001b[0;34m(\u001b[0m\u001b[0mit\u001b[0m\u001b[0;34m,\u001b[0m \u001b[0mself\u001b[0m\u001b[0;34m.\u001b[0m\u001b[0mtimer\u001b[0m\u001b[0;34m)\u001b[0m\u001b[0;34m\u001b[0m\u001b[0m\n\u001b[0m\u001b[1;32m    161\u001b[0m         \u001b[0;32mfinally\u001b[0m\u001b[0;34m:\u001b[0m\u001b[0;34m\u001b[0m\u001b[0m\n\u001b[1;32m    162\u001b[0m             \u001b[0;32mif\u001b[0m \u001b[0mgcold\u001b[0m\u001b[0;34m:\u001b[0m\u001b[0;34m\u001b[0m\u001b[0m\n",
      "\u001b[0;32m<magic-timeit>\u001b[0m in \u001b[0;36minner\u001b[0;34m(_it, _timer)\u001b[0m\n",
      "\u001b[0;31mTypeError\u001b[0m: object of type 'numpy.float64' has no len()"
     ]
    }
   ],
   "source": [
    "oldtime = %%timeit -o GSO(m, bounds, num_particles, max_iter)"
   ]
  },
  {
   "cell_type": "code",
   "execution_count": 43,
   "metadata": {},
   "outputs": [
    {
     "ename": "TypeError",
     "evalue": "object of type 'numpy.float64' has no len()",
     "output_type": "error",
     "traceback": [
      "\u001b[0;31m---------------------------------------------------------------------------\u001b[0m",
      "\u001b[0;31mTypeError\u001b[0m                                 Traceback (most recent call last)",
      "\u001b[0;32m<ipython-input-43-ab9648da176b>\u001b[0m in \u001b[0;36m<module>\u001b[0;34m()\u001b[0m\n\u001b[1;32m      4\u001b[0m \u001b[0mmax_iter\u001b[0m \u001b[0;34m=\u001b[0m \u001b[0;36m30\u001b[0m\u001b[0;34m\u001b[0m\u001b[0m\n\u001b[1;32m      5\u001b[0m \u001b[0mm\u001b[0m \u001b[0;34m=\u001b[0m \u001b[0;36m5\u001b[0m\u001b[0;34m\u001b[0m\u001b[0m\n\u001b[0;32m----> 6\u001b[0;31m \u001b[0mGSO\u001b[0m\u001b[0;34m(\u001b[0m\u001b[0mm\u001b[0m\u001b[0;34m,\u001b[0m \u001b[0mbounds\u001b[0m\u001b[0;34m,\u001b[0m \u001b[0mnum_particles\u001b[0m\u001b[0;34m,\u001b[0m \u001b[0mmax_iter\u001b[0m\u001b[0;34m)\u001b[0m\u001b[0;34m\u001b[0m\u001b[0m\n\u001b[0m\u001b[1;32m      7\u001b[0m \u001b[0;31m#sols = [GSO(m, bounds, num_particles, max_iter) for m in M]\u001b[0m\u001b[0;34m\u001b[0m\u001b[0;34m\u001b[0m\u001b[0m\n",
      "\u001b[0;31mTypeError\u001b[0m: object of type 'numpy.float64' has no len()"
     ]
    }
   ],
   "source": [
    "M = [5, 10, 15, 20, 25, 30, 35, 40]\n",
    "bounds = [[-10, 10], [-10, 10]]\n",
    "num_particles = 35\n",
    "max_iter = 30\n",
    "m = 5\n",
    "GSO(m, bounds, num_particles, max_iter)\n",
    "#sols = [GSO(m, bounds, num_particles, max_iter) for m in M]"
   ]
  },
  {
   "cell_type": "code",
   "execution_count": 44,
   "metadata": {},
   "outputs": [
    {
     "data": {
      "text/plain": [
       "([array([ 2.72017943e-05, -9.98384840e+00])], 1.054909315456598e-07)"
      ]
     },
     "execution_count": 44,
     "metadata": {},
     "output_type": "execute_result"
    }
   ],
   "source": [
    "##%%writefile fail.py\n",
    "from evaluate import error, evaluate, update_velocity, update_position\n",
    "from failed_exec import create_n_particles\n",
    "from pso_fail import PSO\n",
    "from evaluate import error\n",
    "from numba import jit, njit\n",
    "import numba\n",
    "import numpy as np\n",
    "M = [5, 10, 15, 20, 25, 30, 35, 40]\n",
    "bounds = [[-10, 10], [-10, 10]]\n",
    "num_particles = 35\n",
    "max_iter = 30\n",
    "m = 5\n",
    "\n",
    "@jit\n",
    "def GSO(M, bounds, num_particles, max_iter):\n",
    "    subswarm_bests = []\n",
    "    dims = len(bounds)\n",
    "    lb = bounds[0][0] \n",
    "    ub = bounds[0][1] \n",
    "    for i in range(M):\n",
    "        #initial= np.random.uniform(-10,10, 2)               # initial starting location [x1,x2...]         \n",
    "        swarm_init = []\n",
    "        for _ in range(num_particles):\n",
    "            swarm_init.append(np.random.uniform(lb, ub, dims))\n",
    "        subswarm_best,_ = PSO(error,bounds,max_iter, swarm_init=swarm_init)\n",
    "        subswarm_bests.append(subswarm_best[0])\n",
    "    #return subswarm_bests\n",
    "    return PSO(error, bounds, max_iter, swarm_init=subswarm_bests)\n",
    "\n",
    "GSO(m, bounds, num_particles, max_iter)\n"
   ]
  },
  {
   "cell_type": "code",
   "execution_count": 45,
   "metadata": {},
   "outputs": [
    {
     "name": "stdout",
     "output_type": "stream",
     "text": [
      "272 ms ± 4.84 ms per loop (mean ± std. dev. of 7 runs, 1 loop each)\n"
     ]
    }
   ],
   "source": [
    "oldtime = %%timeit -o GSO(m, bounds, num_particles, max_iter)"
   ]
  },
  {
   "cell_type": "code",
   "execution_count": 10,
   "metadata": {},
   "outputs": [],
   "source": [
    "#!numba --annotate-html fail.html fail.py\n",
    "from concurrent.futures import ThreadPoolExecutor, ProcessPoolExecutor\n",
    "from multiprocessing import Pool, cpu_count\n",
    "import multiprocessing as mp"
   ]
  },
  {
   "cell_type": "code",
   "execution_count": 53,
   "metadata": {},
   "outputs": [],
   "source": [
    "def GSO_p(M, bounds, num_particles, max_iter):\n",
    "    subswarm_bests = []\n",
    "    dims = len(bounds)\n",
    "    lb = bounds[0][0] \n",
    "    ub = bounds[0][1]\n",
    "    with Pool(processes = cpu_count()) as pool:        \n",
    "        subswarm_bests = [pool.apply(PSO, args=(error,bounds,max_iter,num_particles, None))  for i in range(M)]\n",
    "\n",
    "    subswarm_bests = [best for best, err in subswarm_bests]\n",
    "    return PSO(error, bounds, max_iter, swarm_init=subswarm_bests)\n"
   ]
  },
  {
   "cell_type": "code",
   "execution_count": 54,
   "metadata": {
    "scrolled": true
   },
   "outputs": [
    {
     "data": {
      "text/plain": [
       "(array([ 5.79693179e-04, -1.00000000e+01]), 5.354053058681529e-07)"
      ]
     },
     "execution_count": 54,
     "metadata": {},
     "output_type": "execute_result"
    }
   ],
   "source": [
    "GSO_p(m, bounds, num_particles, max_iter)"
   ]
  },
  {
   "cell_type": "code",
   "execution_count": 41,
   "metadata": {},
   "outputs": [
    {
     "name": "stdout",
     "output_type": "stream",
     "text": [
      "4.31 s ± 139 ms per loop (mean ± std. dev. of 7 runs, 1 loop each)\n"
     ]
    }
   ],
   "source": [
    "newtime = %%timeit -o GSO_p(m, bounds, num_particles, max_iter)"
   ]
  },
  {
   "cell_type": "markdown",
   "metadata": {},
   "source": [
    "What we now need is to update all PSO processes after k iterations of GSO for this we have to modify the GSO function"
   ]
  },
  {
   "cell_type": "markdown",
   "metadata": {},
   "source": [
    "**We see a huge time difference if we try to do the old fashioned multiprocessing and with nubma GSO**\n",
    "\n",
    "What we now need to do is mix multithreading with NUMBA version\n",
    "Multi treading allows IPC. It has certain caveats which we have to handle such as Race Condition and Deadlocks"
   ]
  },
  {
   "cell_type": "code",
   "execution_count": 35,
   "metadata": {},
   "outputs": [],
   "source": [
    "\n",
    "@jit\n",
    "def PSO_purana(costFunc,bounds,maxiter,swarm_init=None):\n",
    "\n",
    "  \n",
    "        \n",
    "    num_dimensions=len(swarm_init[0])\n",
    "    err_best_g=-1                   # best error for group\n",
    "    pos_best_g=[]                   # best position for group\n",
    "    num_particles = len(swarm_init)\n",
    "    # establish the swarm\n",
    "    swarm = create_n_particles(num_particles, num_dimensions, swarm_init)\n",
    "    # begin optimization loop\n",
    "    i=0\n",
    "    while i < maxiter:\n",
    "        #print i,err_best_g\n",
    "        # cycle through particles in swarm and evaluate fitness\n",
    "        for j in range(0,num_particles):\n",
    "            swarm[j]['pos_best_i'], swarm[j]['err_best_i']  = evaluate(costFunc, swarm[j])\n",
    "\n",
    "            # determine if current particle is the best (globally)\n",
    "            if swarm[j]['err_i'] < err_best_g or err_best_g == -1:\n",
    "                pos_best_g=list(swarm[j]['position_i'])\n",
    "                err_best_g=float(swarm[j]['err_i'])\n",
    "\n",
    "        # cycle through swarm and update velocities and position\n",
    "        for j in range(0,num_particles):\n",
    "            swarm[j]['velocity_i'] = update_velocity(pos_best_g, swarm[j])\n",
    "            swarm[j]['position_i'] = update_position(bounds, swarm[j])\n",
    "        i+=1\n",
    "\n",
    "    # print final results\n",
    "    #print ('\\n')\n",
    "    #print (pos_best_g,' , ', err_best_g)\n",
    "    return pos_best_g[0], err_best_g"
   ]
  },
  {
   "cell_type": "code",
   "execution_count": 1,
   "metadata": {},
   "outputs": [
    {
     "ename": "NameError",
     "evalue": "global name 'PSO_purana' is not defined",
     "output_type": "error",
     "traceback": [
      "\u001b[0;31m---------------------------------------------------------------------------\u001b[0m",
      "\u001b[0;31mNameError\u001b[0m                                 Traceback (most recent call last)",
      "\u001b[0;32m<ipython-input-1-ed4ff50b9213>\u001b[0m in \u001b[0;36m<module>\u001b[0;34m()\u001b[0m\n\u001b[1;32m    107\u001b[0m \u001b[0mm\u001b[0m \u001b[0;34m=\u001b[0m \u001b[0;36m5\u001b[0m\u001b[0;34m\u001b[0m\u001b[0m\n\u001b[1;32m    108\u001b[0m \u001b[0;34m\u001b[0m\u001b[0m\n\u001b[0;32m--> 109\u001b[0;31m \u001b[0mGSO\u001b[0m\u001b[0;34m(\u001b[0m\u001b[0;36m5\u001b[0m\u001b[0;34m,\u001b[0m \u001b[0mbounds\u001b[0m\u001b[0;34m,\u001b[0m \u001b[0mnum_particles\u001b[0m\u001b[0;34m,\u001b[0m \u001b[0mmax_iter\u001b[0m\u001b[0;34m)\u001b[0m\u001b[0;34m\u001b[0m\u001b[0m\n\u001b[0m",
      "\u001b[0;31mNameError\u001b[0m: global name 'PSO_purana' is not defined"
     ]
    }
   ],
   "source": [
    "#%%writefile asliGSO.py\n",
    "\n",
    "from evaluate import error, evaluate, update_velocity, update_position\n",
    "from failed_exec import create_n_particles\n",
    "from numba import jit\n",
    "import numpy as np\n",
    "from multiprocessing import Manager, Process, Lock\n",
    "\n",
    "@jit\n",
    "def PSO(costFunc,bounds,maxiter,shared_list, return_list, l,num_particles=None,swarm_init=None):\n",
    "\n",
    "    \n",
    "#     if num_particles is not None:\n",
    "#         dims = len(bounds)\n",
    "#         lb = bounds[0][0] \n",
    "#         ub = bounds[0][1]\n",
    "#         swarm_init = []\n",
    "#         for _ in range(num_particles):\n",
    "#             swarm_init.append(np.random.uniform(lb, ub, dims))\n",
    "        \n",
    "    num_dimensions=len(swarm_init[0])\n",
    "    err_best_g=-1                   # best error for group\n",
    "    pos_best_g=[]                   # best position for group\n",
    "    num_particles = len(swarm_init)\n",
    "    # establish the swarm\n",
    "    swarm = create_n_particles(num_particles, num_dimensions, swarm_init)\n",
    "    # begin optimization loop\n",
    "    i=0\n",
    "    while i < maxiter:\n",
    "        #print i,err_best_g\n",
    "        # cycle through particles in swarm and evaluate fitness\n",
    "        for j in range(0,num_particles):\n",
    "            swarm[j]['pos_best_i'], swarm[j]['err_best_i']  = evaluate(costFunc, swarm[j])\n",
    "\n",
    "            # determine if current particle is the best (globally)\n",
    "            if swarm[j]['err_i'] < err_best_g or err_best_g == -1:\n",
    "                pos_best_g=list(swarm[j]['position_i'])\n",
    "                err_best_g=float(swarm[j]['err_i'])\n",
    "        \n",
    "        # update the global best in the manager list after k iterations\n",
    "        # we need to add some mutex lock here\n",
    "        \n",
    "        if i == max_iter//2:\n",
    "            l.acquire()\n",
    "            best_galactic_pos = shared_list[0]\n",
    "            best_galactic_err = shared_list[1]\n",
    "            #print(\"best_galactic_err: \" ,best_galactic_err)\n",
    "            #print(\"best_galactic_pos: \", best_galactic_pos)\n",
    "            if err_best_g < best_galactic_err:\n",
    "                shared_list[1] = err_best_g\n",
    "                #print(err_best_g)\n",
    "                shared_list[0] = pos_best_g\n",
    "            else:\n",
    "                #print(\"changing pos_best_g from\", pos_best_g, \" to \", best_galactic_pos)\n",
    "                #emp_list = []\n",
    "                err_best_g = float(best_galactic_err)\n",
    "                #emp_list.append(best_galactic_pos)\n",
    "                pos_best_g = [best_galactic_pos]\n",
    "            \n",
    "            l.release()\n",
    "        # cycle through swarm and update velocities and position\n",
    "        for j in range(0,num_particles):\n",
    "            swarm[j]['velocity_i'] = update_velocity(pos_best_g, swarm[j])\n",
    "            swarm[j]['position_i'] = update_position(bounds, swarm[j])\n",
    "        i+=1\n",
    "    return_list.append(pos_best_g[0])\n",
    "\n",
    "\n",
    "def start(process_list):\n",
    "    for p in process_list:\n",
    "        p.start()\n",
    "        \n",
    "def stop(process_list):\n",
    "    for p in process_list:\n",
    "        p.join()\n",
    "\n",
    "@jit\n",
    "def GSO(M, bounds, num_particles, max_iter):\n",
    "    subswarm_bests = []\n",
    "    dims = len(bounds)\n",
    "    lb = bounds[0][0] \n",
    "    ub = bounds[0][1]\n",
    "    manager = Manager()\n",
    "    l = Lock()\n",
    "    shared_list = manager.list()\n",
    "    return_list = manager.list()\n",
    "    shared_list = [np.random.uniform(lb, ub, dims), -1]\n",
    "    all_processes = []\n",
    "    for i in range(M):\n",
    "        #initial= np.random.uniform(-10,10, 2)               # initial starting location [x1,x2...]         \n",
    "        swarm_init = []\n",
    "        for _ in range(num_particles):\n",
    "            swarm_init.append(np.random.uniform(lb, ub, dims))\n",
    "\n",
    "        p = Process(target=PSO, args=(error, bounds, max_iter, shared_list, return_list, l, None,swarm_init))\n",
    "        all_processes.append(p)\n",
    "\n",
    "    start(all_processes)\n",
    "    stop(all_processes)    \n",
    "    #print(return_list)\n",
    "    return PSO_purana(error, bounds, max_iter, swarm_init=list(return_list))\n",
    "\n",
    "M = [5, 10, 15, 20, 25, 30, 35, 40]\n",
    "bounds = [[-10, 10], [-10, 10]]\n",
    "num_particles = 35\n",
    "max_iter = 30\n",
    "m = 5\n",
    "\n",
    "GSO(5, bounds, num_particles, max_iter)"
   ]
  },
  {
   "cell_type": "code",
   "execution_count": 48,
   "metadata": {},
   "outputs": [
    {
     "name": "stdout",
     "output_type": "stream",
     "text": [
      "1.26 s ± 3.52 ms per loop (mean ± std. dev. of 7 runs, 1 loop each)\n"
     ]
    }
   ],
   "source": [
    "newtime = %%timeit -o GSO(5, bounds, num_particles, max_iter)"
   ]
  },
  {
   "cell_type": "code",
   "execution_count": 7,
   "metadata": {},
   "outputs": [
    {
     "name": "stdout",
     "output_type": "stream",
     "text": [
      "Overwriting final_gso.py\n"
     ]
    }
   ],
   "source": [
    "#%%writefile final_gso.py\n",
    "from evaluate import error, evaluate, update_velocity, update_position\n",
    "from multiprocessing import Manager, Process, Lock\n",
    "from init_particles import create_n_particles\n",
    "from numba import jit\n",
    "import numpy as np\n",
    "\n",
    "\n",
    "@jit\n",
    "def PSO_purana(costFunc,bounds,maxiter,swarm_init=None):\n",
    "        \n",
    "    num_dimensions=len(swarm_init[0])\n",
    "    err_best_g=-1                   # best error for group\n",
    "    pos_best_g=[]                   # best position for group\n",
    "    num_particles = len(swarm_init)\n",
    "    # establish the swarm\n",
    "    swarm = create_n_particles(num_particles, num_dimensions, swarm_init)\n",
    "    # begin optimization loop\n",
    "    i=0\n",
    "    while i < maxiter:\n",
    "        #print i,err_best_g\n",
    "        # cycle through particles in swarm and evaluate fitness\n",
    "        for j in range(0,num_particles):\n",
    "            swarm[j]['pos_best_i'], swarm[j]['err_best_i']  = evaluate(costFunc, swarm[j])\n",
    "\n",
    "            # determine if current particle is the best (globally)\n",
    "            if swarm[j]['err_i'] < err_best_g or err_best_g == -1:\n",
    "                pos_best_g=list(swarm[j]['position_i'])\n",
    "                err_best_g=float(swarm[j]['err_i'])\n",
    "\n",
    "        # cycle through swarm and update velocities and position\n",
    "        for j in range(0,num_particles):\n",
    "            swarm[j]['velocity_i'] = update_velocity(pos_best_g, swarm[j])\n",
    "            swarm[j]['position_i'] = update_position(bounds, swarm[j])\n",
    "        i+=1\n",
    "\n",
    "    # print final results\n",
    "    #print ('\\n')\n",
    "    #print (pos_best_g,' , ', err_best_g)\n",
    "    return pos_best_g[0], err_best_g\n",
    "\n",
    "@jit\n",
    "def PSO(costFunc,bounds,maxiter,shared_list, return_list, l,num_particles=None,swarm_init=None):\n",
    "\n",
    "    \n",
    "#     if num_particles is not None:\n",
    "#         dims = len(bounds)\n",
    "#         lb = bounds[0][0] \n",
    "#         ub = bounds[0][1]\n",
    "#         swarm_init = []\n",
    "#         for _ in range(num_particles):\n",
    "#             swarm_init.append(np.random.uniform(lb, ub, dims))\n",
    "        \n",
    "    num_dimensions=len(swarm_init[0])\n",
    "    err_best_g=-1                   # best error for group\n",
    "    pos_best_g=[]                   # best position for group\n",
    "    num_particles = len(swarm_init)\n",
    "    # establish the swarm\n",
    "    swarm = create_n_particles(num_particles, num_dimensions, swarm_init)\n",
    "    # begin optimization loop\n",
    "    i=0\n",
    "    while i < maxiter:\n",
    "        #print i,err_best_g\n",
    "        # cycle through particles in swarm and evaluate fitness\n",
    "        for j in range(0,num_particles):\n",
    "            swarm[j]['pos_best_i'], swarm[j]['err_best_i']  = evaluate(costFunc, swarm[j])\n",
    "\n",
    "            # determine if current particle is the best (globally)\n",
    "            if swarm[j]['err_i'] < err_best_g or err_best_g == -1:\n",
    "                pos_best_g=list(swarm[j]['position_i'])\n",
    "                err_best_g=float(swarm[j]['err_i'])\n",
    "        \n",
    "        # update the global best in the manager list after k iterations\n",
    "        # we need to add some mutex lock here\n",
    "        \n",
    "        if i == max_iter//2:\n",
    "            l.acquire()\n",
    "            best_galactic_pos = shared_list[0]\n",
    "            best_galactic_err = shared_list[1]\n",
    "            #print(\"best_galactic_err: \" ,best_galactic_err)\n",
    "            #print(\"best_galactic_pos: \", best_galactic_pos)\n",
    "            if err_best_g < best_galactic_err:\n",
    "                shared_list[1] = err_best_g\n",
    "                #print(err_best_g)\n",
    "                shared_list[0] = pos_best_g\n",
    "            else:\n",
    "                #print(\"changing pos_best_g from\", pos_best_g, \" to \", best_galactic_pos)\n",
    "                #emp_list = []\n",
    "                err_best_g = float(best_galactic_err)\n",
    "                #emp_list.append(best_galactic_pos)\n",
    "                pos_best_g = [best_galactic_pos]\n",
    "            \n",
    "            l.release()\n",
    "        # cycle through swarm and update velocities and position\n",
    "        for j in range(0,num_particles):\n",
    "            swarm[j]['velocity_i'] = update_velocity(pos_best_g, swarm[j])\n",
    "            swarm[j]['position_i'] = update_position(bounds, swarm[j])\n",
    "        i+=1\n",
    "    return_list.append(pos_best_g[0])\n",
    "\n",
    "\n",
    "def start(process_list):\n",
    "    for p in process_list:\n",
    "        p.start()\n",
    "        \n",
    "def stop(process_list):\n",
    "    for p in process_list:\n",
    "        p.join()\n",
    "\n",
    "@jit\n",
    "def GSO(M, bounds, num_particles, max_iter):\n",
    "    subswarm_bests = []\n",
    "    dims = len(bounds)\n",
    "    lb = bounds[0][0] \n",
    "    ub = bounds[0][1]\n",
    "    manager = Manager()\n",
    "    l = Lock()\n",
    "    shared_list = manager.list()\n",
    "    return_list = manager.list()\n",
    "    shared_list = [np.random.uniform(lb, ub, dims), -1]\n",
    "    all_processes = []\n",
    "    for i in range(M):\n",
    "        #initial= np.random.uniform(-10,10, 2)               # initial starting location [x1,x2...]         \n",
    "        swarm_init = []\n",
    "        for _ in range(num_particles):\n",
    "            swarm_init.append(np.random.uniform(lb, ub, dims))\n",
    "\n",
    "        p = Process(target=PSO, args=(error, bounds, max_iter, shared_list, return_list, l, None,swarm_init))\n",
    "        all_processes.append(p)\n",
    "\n",
    "    start(all_processes)\n",
    "    stop(all_processes)    \n",
    "    #print(return_list)\n",
    "    return PSO_purana(error, bounds, max_iter, swarm_init=list(return_list))\n",
    "\n",
    "M = [5, 10, 15, 20, 25, 30, 35, 40]\n",
    "bounds = [[-10, 10], [-10, 10]]\n",
    "num_particles = 35\n",
    "max_iter = 30\n",
    "m = 5\n",
    "\n",
    "GSO(5, bounds, num_particles, max_iter)"
   ]
  },
  {
   "cell_type": "code",
   "execution_count": 9,
   "metadata": {},
   "outputs": [],
   "source": [
    "from final_gso import GSO"
   ]
  },
  {
   "cell_type": "code",
   "execution_count": 10,
   "metadata": {},
   "outputs": [
    {
     "data": {
      "text/plain": [
       "(array([-2.79245473e-03,  8.65332044e+00]), 1.3307056008216023e-06)"
      ]
     },
     "execution_count": 10,
     "metadata": {},
     "output_type": "execute_result"
    }
   ],
   "source": [
    "M = [5, 10, 15, 20, 25, 30, 35, 40]\n",
    "bounds = [[-10, 10], [-10, 10]]\n",
    "num_particles = 35\n",
    "max_iter = 30\n",
    "m = 5\n",
    "\n",
    "GSO(5, bounds, num_particles, max_iter)"
   ]
  },
  {
   "cell_type": "code",
   "execution_count": null,
   "metadata": {},
   "outputs": [],
   "source": []
  }
 ],
 "metadata": {
  "kernelspec": {
   "display_name": "Python 3",
   "language": "python",
   "name": "python3"
  },
  "language_info": {
   "codemirror_mode": {
    "name": "ipython",
    "version": 3
   },
   "file_extension": ".py",
   "mimetype": "text/x-python",
   "name": "python",
   "nbconvert_exporter": "python",
   "pygments_lexer": "ipython3",
   "version": "3.5.2"
  }
 },
 "nbformat": 4,
 "nbformat_minor": 2
}
