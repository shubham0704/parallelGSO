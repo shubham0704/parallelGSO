{
 "cells": [
  {
   "cell_type": "markdown",
   "metadata": {},
   "source": [
    "# Benchmarks\n",
    "\n",
    "This notebook contains the PGSO benchmarks conducted on the amazon ec2 instance using the following specifications:\n",
    "\n",
    "![Image](Benchmark_Images/benchmark_2.png)\n",
    "\n",
    "\n",
    "## Benchmark for 8 cores spawning 1 process\n",
    "![24_1_CPU](Benchmark_Images/1_CPU_Graph.png)\n",
    "\n",
    "## Benchmark for 8 cores spawning 2 process\n",
    "![24_1_CPU](Benchmark_Images/2_CPU_Graph.png)\n",
    "\n",
    "## Benchmark for 8 cores spawning 4 process\n",
    "![24_1_CPU](Benchmark_Images/4_CPU_Graph.png)\n",
    "\n",
    "## Benchmark for 8 cores spawning 6 process\n",
    "![24_1_CPU](Benchmark_Images/6_CPU_Graph.png)\n",
    "\n",
    "## Benchmark for 8 cores spawning 8 process\n",
    "![24_1_CPU](Benchmark_Images/8_CPU_Graph.png)"
   ]
  },
  {
   "cell_type": "code",
   "execution_count": null,
   "metadata": {},
   "outputs": [],
   "source": []
  }
 ],
 "metadata": {
  "kernelspec": {
   "display_name": "Python 3",
   "language": "python",
   "name": "python3"
  },
  "language_info": {
   "codemirror_mode": {
    "name": "ipython",
    "version": 3
   },
   "file_extension": ".py",
   "mimetype": "text/x-python",
   "name": "python",
   "nbconvert_exporter": "python",
   "pygments_lexer": "ipython3",
   "version": "3.6.5"
  }
 },
 "nbformat": 4,
 "nbformat_minor": 2
}
