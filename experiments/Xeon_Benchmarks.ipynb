{
 "cells": [
  {
   "cell_type": "markdown",
   "metadata": {},
   "source": [
    "# Benchmarks\n",
    "\n",
    "This notebook contains the PGSO benchmarks conducted on the AI devcloud using the following specifications:\n",
    "\n",
    "![Image](Xeon_Benchmark_Images/benchmark_cpu.png)\n",
    "\n",
    "## Jobs\n",
    "\n",
    "each individual job was run using *qsub* and through the cli using the online_benchmark script prepared in the root folder of this project\n",
    "\n",
    "## Benchmark for 24 cores spawning 1 process\n",
    "![24_1_CPU](Xeon_Benchmark_Images/24_1_CPU.png)\n",
    "\n",
    "## Benchmark for 24 cores spawning 2 process\n",
    "![24_1_CPU](Xeon_Benchmark_Images/24_2_CPU.png)\n",
    "\n",
    "## Benchmark for 24 cores spawning 4 process\n",
    "![24_1_CPU](Xeon_Benchmark_Images/24_4_CPU.png)\n",
    "\n",
    "## Benchmark for 24 cores spawning 8 process\n",
    "![24_1_CPU](Xeon_Benchmark_Images/24_8_CPU.png)\n",
    "\n",
    "## Benchmark for 24 cores spawning 12 process\n",
    "![24_1_CPU](Xeon_Benchmark_Images/24_12_CPU.png)\n",
    "\n",
    "## Benchmark for 24 cores spawning 16 process\n",
    "![24_1_CPU](Xeon_Benchmark_Images/24_16_CPU.png)\n",
    "\n",
    "## Benchmark for 24 cores spwaning 20 process\n",
    "![24_1_CPU](Xeon_Benchmark_Images/24_20_CPU.png)\n",
    "\n",
    "## Benchmark for 24 cores spwaning 24 process\n",
    "![24_1_CPU](Xeon_Benchmark_Images/24_24_CPU.png)\n"
   ]
  }
 ],
 "metadata": {
  "kernelspec": {
   "display_name": "Python 3",
   "language": "python",
   "name": "python3"
  },
  "language_info": {
   "codemirror_mode": {
    "name": "ipython",
    "version": 3
   },
   "file_extension": ".py",
   "mimetype": "text/x-python",
   "name": "python",
   "nbconvert_exporter": "python",
   "pygments_lexer": "ipython3",
   "version": "3.6.5"
  }
 },
 "nbformat": 4,
 "nbformat_minor": 2
}
