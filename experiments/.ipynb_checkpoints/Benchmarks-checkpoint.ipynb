{
 "cells": [
  {
   "cell_type": "code",
   "execution_count": 1,
   "metadata": {},
   "outputs": [],
   "source": [
    "import sys\n",
    "sys.path.insert(0, '../')"
   ]
  },
  {
   "cell_type": "code",
   "execution_count": 2,
   "metadata": {},
   "outputs": [],
   "source": [
    "from pgso.test_functions import *\n",
    "from pgso.gso import GSO as PGSO, PSO_purana\n",
    "from pgso.benchmark import *\n",
    "import matplotlib.pyplot as plt\n",
    "from tqdm import tqdm\n",
    "import seaborn as sns\n",
    "import numpy as np\n",
    "import scipy.io\n",
    "from numba import jit"
   ]
  },
  {
   "cell_type": "markdown",
   "metadata": {},
   "source": [
    "# PSO IMPLEMENTATION"
   ]
  },
  {
   "cell_type": "code",
   "execution_count": 3,
   "metadata": {},
   "outputs": [],
   "source": [
    "#dependencies\n",
    "import random\n",
    "import math\n",
    "import copy # for array copying\n",
    "import sys\n",
    "\n",
    "class Particle:\n",
    "    def __init__(self,x0, num_dimensions):\n",
    "        self.position_i=[]          # particle position\n",
    "        self.velocity_i=[]          # particle velocity\n",
    "        self.pos_best_i=[]          # best position individual\n",
    "        self.err_best_i=-1          # best error individual\n",
    "        self.err_i=-1               # error individual\n",
    "        self.num_dimensions = num_dimensions\n",
    "        \n",
    "        for i in range(0, self.num_dimensions):\n",
    "            self.velocity_i.append(random.uniform(-1,1))\n",
    "            self.position_i.append(x0[i])\n",
    "\n",
    "    # evaluate current fitness\n",
    "    def evaluate(self,costFunc):\n",
    "        self.err_i=costFunc(self.position_i)\n",
    "\n",
    "        # check to see if the current position is an individual best\n",
    "        if self.err_i < self.err_best_i or self.err_best_i==-1:\n",
    "            self.pos_best_i=self.position_i\n",
    "            self.err_best_i=self.err_i\n",
    "\n",
    "    # update new particle velocity\n",
    "    def update_velocity(self,pos_best_g):\n",
    "        w=0.5       # constant inertia weight (how much to weigh the previous velocity)\n",
    "        c1=1        # cognative constant\n",
    "        c2=2        # social constant\n",
    "\n",
    "        for i in range(0, self.num_dimensions):\n",
    "            r1=random.random()\n",
    "            r2=random.random()\n",
    "\n",
    "            vel_cognitive=c1*r1*(self.pos_best_i[i]-self.position_i[i])\n",
    "            vel_social=c2*r2*(pos_best_g[i]-self.position_i[i])\n",
    "            self.velocity_i[i]=w*self.velocity_i[i]+vel_cognitive+vel_social\n",
    "\n",
    "    # update the particle position based off new velocity updates\n",
    "    def update_position(self,bounds):\n",
    "        for i in range(0, self.num_dimensions):\n",
    "            self.position_i[i]=self.position_i[i]+self.velocity_i[i]\n",
    "\n",
    "            # adjust maximum position if necessary\n",
    "            if self.position_i[i]>bounds[i][1]:\n",
    "                self.position_i[i]=bounds[i][1]\n",
    "\n",
    "            # adjust minimum position if neseccary\n",
    "            if self.position_i[i] < bounds[i][0]:\n",
    "                self.position_i[i]=bounds[i][0]\n",
    "\n",
    "def PSO(costFunc,bounds,maxiter, swarm_init, log=False, the_list=None):\n",
    "    num_dimensions=len(swarm_init[0])\n",
    "    err_best_g=-1                   # best error for group\n",
    "    pos_best_g=[]                   # best position for group\n",
    "    num_particles = len(swarm_init)\n",
    "    # establish the swarm\n",
    "    swarm = [Particle(position, num_dimensions) for position in swarm_init]\n",
    "    # begin optimization loop\n",
    "    i=0\n",
    "    while i < maxiter:\n",
    "        #print i,err_best_g\n",
    "        # cycle through particles in swarm and evaluate fitness\n",
    "        for j in range(0,num_particles):\n",
    "            swarm[j].evaluate(costFunc)\n",
    "\n",
    "            # determine if current particle is the best (globally)\n",
    "            if swarm[j].err_i < err_best_g or err_best_g == -1:\n",
    "                pos_best_g=list(swarm[j].position_i)\n",
    "                err_best_g=float(swarm[j].err_i)\n",
    "\n",
    "        # cycle through swarm and update velocities and position\n",
    "        for j in range(0,num_particles):\n",
    "            swarm[j].update_velocity(pos_best_g)\n",
    "            swarm[j].update_position(bounds)\n",
    "        if log:\n",
    "            the_list.append(err_best_g)\n",
    "        i+=1\n",
    "    return pos_best_g, err_best_g"
   ]
  },
  {
   "cell_type": "markdown",
   "metadata": {},
   "source": [
    "# GSO IMPLEMENTATION"
   ]
  },
  {
   "cell_type": "code",
   "execution_count": 4,
   "metadata": {},
   "outputs": [],
   "source": [
    "def GSO(M, bounds, num_particles, max_iter, costfunc, log=False, the_list=None):\n",
    "    subswarm_bests = []\n",
    "    dims = len(bounds)\n",
    "    lb = bounds[0][0] \n",
    "    ub = bounds[0][1] \n",
    "    for i in range(M):\n",
    "        swarm_init = [np.random.uniform(lb, ub, dims) for _ in range(num_particles)]\n",
    "        temp_list = list()\n",
    "        subswarm_best,_ = PSO(costfunc,bounds,max_iter, swarm_init=swarm_init, log=True, the_list=temp_list)\n",
    "        subswarm_bests.append(subswarm_best)\n",
    "        if log:\n",
    "            the_list.append(temp_list)\n",
    "    best_position, best_error = PSO(costfunc, bounds, max_iter, swarm_init=subswarm_bests)\n",
    "    return best_position, best_error"
   ]
  },
  {
   "cell_type": "markdown",
   "metadata": {},
   "source": [
    "# ROTATED and SHIFTED FUNCTIONS"
   ]
  },
  {
   "cell_type": "code",
   "execution_count": 5,
   "metadata": {},
   "outputs": [],
   "source": [
    "def rotated_rastrigin(x):\n",
    "    if len(x) == 10:\n",
    "        mat = scipy.io.loadmat('./matlab-files/rastrigin_M_D10.mat')\n",
    "    elif len(x) == 30:\n",
    "        mat = scipy.io.loadmat('./matlab-files/rastrigin_M_D30.mat')\n",
    "    elif len(x) == 50:\n",
    "        mat = scipy.io.loadmat('./matlab-files/rastrigin_M_D50.mat')\n",
    "    y = np.matmul(mat['M'],x)\n",
    "    return rastrigin(y)\n",
    "\n",
    "def rotated_griewangk(x):\n",
    "    if len(x) == 10:\n",
    "        mat = scipy.io.loadmat('./matlab-files/griewank_M_D10.mat')\n",
    "    elif len(x) == 30:\n",
    "        mat = scipy.io.loadmat('./matlab-files/griewank_M_D30.mat')\n",
    "    elif len(x) == 50:\n",
    "        mat = scipy.io.loadmat('./matlab-files/griewank_M_D50.mat')\n",
    "    y = np.matmul(mat['M'],x)\n",
    "    return griewank(y)\n",
    "\n",
    "def rotated_ackley(x):\n",
    "    if len(x) == 10:\n",
    "        mat = scipy.io.loadmat('./matlab-files/ackley_M_D10.mat')\n",
    "    elif len(x) == 30:\n",
    "        mat = scipy.io.loadmat('./matlab-files/ackley_M_D30.mat')\n",
    "    elif len(x) == 50:\n",
    "        mat = scipy.io.loadmat('./matlab-files/ackley_M_D50.mat')\n",
    "    y = np.matmul(mat['M'],x)\n",
    "    return ackley(x)\n",
    "\n",
    "def shifted_rotated_rastrigin(x):\n",
    "    o = np.random.uniform(-2, 2, len(x))\n",
    "    x = x - o\n",
    "    return rotated_rastrigin(x)\n",
    "\n",
    "def shifted_rotated_ackley(x):\n",
    "    o = np.random.uniform(-2, 2, len(x))\n",
    "    x = x - o\n",
    "    return rotated_ackley(x)"
   ]
  },
  {
   "cell_type": "code",
   "execution_count": 6,
   "metadata": {},
   "outputs": [],
   "source": [
    "unimodal_functions = [exponential, powellsumfcn, sum_of_squares, schfewel_220, schwefel_222, griewank, zakharov, sphere]\n",
    "unimodal_strings = ['exponential', ' powell sum function', ' sum_of_squares', ' schfewel 2.20', ' schwefel 2.22', ' griewank', ' zakharov', ' sphere']\n",
    "unimodal_bounds = [[-1, 1], [-1, 1], [-10, 10], [-100, 100], [-100, 100], [-600, 600], [-5, 10], [-100, 100]]\n",
    "\n",
    "multimodal_functions = [nonContinuousRastrigin, ackley, rastrigin, rosen, rotated_rastrigin, rotated_griewangk, rotated_ackley, shifted_rotated_rastrigin, shifted_rotated_ackley]\n",
    "multimodal_strings = ['nonContinuousRastrigin', 'ackley', 'rastrigin', 'rosen', \"rotated_rastrigin\", \"rotated_griewangk\", \"rotated_ackley\", \"shifted_rotated_rastrigin\", \"shifted_rotated_ackley\"]\n",
    "multimodal_bounds = [[-100, 100], [-40, 40], [-100, 100], [-30, 30], [-100, 100], [-600, 600], [-40, 40], [-5.12, 5.12], [-10, 10]]"
   ]
  },
  {
   "cell_type": "code",
   "execution_count": 7,
   "metadata": {},
   "outputs": [],
   "source": [
    "def get_GSO_results(dimensions, bounds, costfunc, algorithm, M, num_particles, max_iter, suppress=True):\n",
    "    search_space = [bounds for _ in range(dimensions)]\n",
    "    if not suppress:\n",
    "        print(\"\\n Algorithm: \", algorithm,\"\\n Dimensions: \", dimensions,\"\\n cost function: \", costfunc,\"\\n iterations: \", max_iter)\n",
    "    score = 0\n",
    "    for _ in range(10):\n",
    "        score += algorithm(M, search_space, num_particles, max_iter, costfunc)[1]\n",
    "    score = score / 10\n",
    "    return score\n",
    "\n",
    "def run_test(dimensions, algorithm, M, num_particles, max_iter, mode=\"unimodal\"):\n",
    "    modal_tests = dict()\n",
    "    if mode == \"unimodal\":\n",
    "        for func, bnds, stri in zip(unimodal_functions, unimodal_bounds, unimodal_strings):\n",
    "            modal_tests[stri] = get_GSO_results(dimensions, bnds, func, algorithm, M, num_particles, max_iter)\n",
    "    else:\n",
    "        for func, bnds, stri in zip(multimodal_functions, multimodal_bounds, multimodal_strings):\n",
    "            modal_tests[stri] = get_GSO_results(dimensions, bnds, func, algorithm, M, num_particles, max_iter)\n",
    "    return modal_tests"
   ]
  },
  {
   "cell_type": "markdown",
   "metadata": {},
   "source": [
    "# Unimodal on GSO"
   ]
  },
  {
   "cell_type": "code",
   "execution_count": 8,
   "metadata": {},
   "outputs": [
    {
     "ename": "KeyboardInterrupt",
     "evalue": "",
     "output_type": "error",
     "traceback": [
      "\u001b[0;31m---------------------------------------------------------------------------\u001b[0m",
      "\u001b[0;31mKeyboardInterrupt\u001b[0m                         Traceback (most recent call last)",
      "\u001b[0;32m<ipython-input-8-a6b9c6d5b5a1>\u001b[0m in \u001b[0;36m<module>\u001b[0;34m()\u001b[0m\n\u001b[0;32m----> 1\u001b[0;31m \u001b[0mprint\u001b[0m\u001b[0;34m(\u001b[0m\u001b[0mrun_test\u001b[0m\u001b[0;34m(\u001b[0m\u001b[0;36m10\u001b[0m\u001b[0;34m,\u001b[0m \u001b[0mGSO\u001b[0m\u001b[0;34m,\u001b[0m \u001b[0;36m7\u001b[0m\u001b[0;34m,\u001b[0m \u001b[0;36m20\u001b[0m\u001b[0;34m,\u001b[0m \u001b[0;36m1000\u001b[0m\u001b[0;34m)\u001b[0m\u001b[0;34m)\u001b[0m\u001b[0;34m\u001b[0m\u001b[0m\n\u001b[0m\u001b[1;32m      2\u001b[0m \u001b[0mprint\u001b[0m\u001b[0;34m(\u001b[0m\u001b[0mrun_test\u001b[0m\u001b[0;34m(\u001b[0m\u001b[0;36m30\u001b[0m\u001b[0;34m,\u001b[0m \u001b[0mGSO\u001b[0m\u001b[0;34m,\u001b[0m \u001b[0;36m7\u001b[0m\u001b[0;34m,\u001b[0m \u001b[0;36m20\u001b[0m\u001b[0;34m,\u001b[0m \u001b[0;36m1000\u001b[0m\u001b[0;34m)\u001b[0m\u001b[0;34m)\u001b[0m\u001b[0;34m\u001b[0m\u001b[0m\n\u001b[1;32m      3\u001b[0m \u001b[0mprint\u001b[0m\u001b[0;34m(\u001b[0m\u001b[0mrun_test\u001b[0m\u001b[0;34m(\u001b[0m\u001b[0;36m50\u001b[0m\u001b[0;34m,\u001b[0m \u001b[0mGSO\u001b[0m\u001b[0;34m,\u001b[0m \u001b[0;36m7\u001b[0m\u001b[0;34m,\u001b[0m \u001b[0;36m20\u001b[0m\u001b[0;34m,\u001b[0m \u001b[0;36m1000\u001b[0m\u001b[0;34m)\u001b[0m\u001b[0;34m)\u001b[0m\u001b[0;34m\u001b[0m\u001b[0m\n",
      "\u001b[0;32m<ipython-input-7-08a75057b5a1>\u001b[0m in \u001b[0;36mrun_test\u001b[0;34m(dimensions, algorithm, M, num_particles, max_iter, mode)\u001b[0m\n\u001b[1;32m     13\u001b[0m     \u001b[0;32mif\u001b[0m \u001b[0mmode\u001b[0m \u001b[0;34m==\u001b[0m \u001b[0;34m\"unimodal\"\u001b[0m\u001b[0;34m:\u001b[0m\u001b[0;34m\u001b[0m\u001b[0m\n\u001b[1;32m     14\u001b[0m         \u001b[0;32mfor\u001b[0m \u001b[0mfunc\u001b[0m\u001b[0;34m,\u001b[0m \u001b[0mbnds\u001b[0m\u001b[0;34m,\u001b[0m \u001b[0mstri\u001b[0m \u001b[0;32min\u001b[0m \u001b[0mzip\u001b[0m\u001b[0;34m(\u001b[0m\u001b[0munimodal_functions\u001b[0m\u001b[0;34m,\u001b[0m \u001b[0munimodal_bounds\u001b[0m\u001b[0;34m,\u001b[0m \u001b[0munimodal_strings\u001b[0m\u001b[0;34m)\u001b[0m\u001b[0;34m:\u001b[0m\u001b[0;34m\u001b[0m\u001b[0m\n\u001b[0;32m---> 15\u001b[0;31m             \u001b[0mmodal_tests\u001b[0m\u001b[0;34m[\u001b[0m\u001b[0mstri\u001b[0m\u001b[0;34m]\u001b[0m \u001b[0;34m=\u001b[0m \u001b[0mget_GSO_results\u001b[0m\u001b[0;34m(\u001b[0m\u001b[0mdimensions\u001b[0m\u001b[0;34m,\u001b[0m \u001b[0mbnds\u001b[0m\u001b[0;34m,\u001b[0m \u001b[0mfunc\u001b[0m\u001b[0;34m,\u001b[0m \u001b[0malgorithm\u001b[0m\u001b[0;34m,\u001b[0m \u001b[0mM\u001b[0m\u001b[0;34m,\u001b[0m \u001b[0mnum_particles\u001b[0m\u001b[0;34m,\u001b[0m \u001b[0mmax_iter\u001b[0m\u001b[0;34m)\u001b[0m\u001b[0;34m\u001b[0m\u001b[0m\n\u001b[0m\u001b[1;32m     16\u001b[0m     \u001b[0;32melse\u001b[0m\u001b[0;34m:\u001b[0m\u001b[0;34m\u001b[0m\u001b[0m\n\u001b[1;32m     17\u001b[0m         \u001b[0;32mfor\u001b[0m \u001b[0mfunc\u001b[0m\u001b[0;34m,\u001b[0m \u001b[0mbnds\u001b[0m\u001b[0;34m,\u001b[0m \u001b[0mstri\u001b[0m \u001b[0;32min\u001b[0m \u001b[0mzip\u001b[0m\u001b[0;34m(\u001b[0m\u001b[0mmultimodal_functions\u001b[0m\u001b[0;34m,\u001b[0m \u001b[0mmultimodal_bounds\u001b[0m\u001b[0;34m,\u001b[0m \u001b[0mmultimodal_strings\u001b[0m\u001b[0;34m)\u001b[0m\u001b[0;34m:\u001b[0m\u001b[0;34m\u001b[0m\u001b[0m\n",
      "\u001b[0;32m<ipython-input-7-08a75057b5a1>\u001b[0m in \u001b[0;36mget_GSO_results\u001b[0;34m(dimensions, bounds, costfunc, algorithm, M, num_particles, max_iter, suppress)\u001b[0m\n\u001b[1;32m      5\u001b[0m     \u001b[0mscore\u001b[0m \u001b[0;34m=\u001b[0m \u001b[0;36m0\u001b[0m\u001b[0;34m\u001b[0m\u001b[0m\n\u001b[1;32m      6\u001b[0m     \u001b[0;32mfor\u001b[0m \u001b[0m_\u001b[0m \u001b[0;32min\u001b[0m \u001b[0mrange\u001b[0m\u001b[0;34m(\u001b[0m\u001b[0;36m10\u001b[0m\u001b[0;34m)\u001b[0m\u001b[0;34m:\u001b[0m\u001b[0;34m\u001b[0m\u001b[0m\n\u001b[0;32m----> 7\u001b[0;31m         \u001b[0mscore\u001b[0m \u001b[0;34m+=\u001b[0m \u001b[0malgorithm\u001b[0m\u001b[0;34m(\u001b[0m\u001b[0mM\u001b[0m\u001b[0;34m,\u001b[0m \u001b[0msearch_space\u001b[0m\u001b[0;34m,\u001b[0m \u001b[0mnum_particles\u001b[0m\u001b[0;34m,\u001b[0m \u001b[0mmax_iter\u001b[0m\u001b[0;34m,\u001b[0m \u001b[0mcostfunc\u001b[0m\u001b[0;34m)\u001b[0m\u001b[0;34m[\u001b[0m\u001b[0;36m1\u001b[0m\u001b[0;34m]\u001b[0m\u001b[0;34m\u001b[0m\u001b[0m\n\u001b[0m\u001b[1;32m      8\u001b[0m     \u001b[0mscore\u001b[0m \u001b[0;34m=\u001b[0m \u001b[0mscore\u001b[0m \u001b[0;34m/\u001b[0m \u001b[0;36m10\u001b[0m\u001b[0;34m\u001b[0m\u001b[0m\n\u001b[1;32m      9\u001b[0m     \u001b[0;32mreturn\u001b[0m \u001b[0mscore\u001b[0m\u001b[0;34m\u001b[0m\u001b[0m\n",
      "\u001b[0;32m<ipython-input-4-035ce560554c>\u001b[0m in \u001b[0;36mGSO\u001b[0;34m(M, bounds, num_particles, max_iter, costfunc, log, the_list)\u001b[0m\n\u001b[1;32m      7\u001b[0m         \u001b[0mswarm_init\u001b[0m \u001b[0;34m=\u001b[0m \u001b[0;34m[\u001b[0m\u001b[0mnp\u001b[0m\u001b[0;34m.\u001b[0m\u001b[0mrandom\u001b[0m\u001b[0;34m.\u001b[0m\u001b[0muniform\u001b[0m\u001b[0;34m(\u001b[0m\u001b[0mlb\u001b[0m\u001b[0;34m,\u001b[0m \u001b[0mub\u001b[0m\u001b[0;34m,\u001b[0m \u001b[0mdims\u001b[0m\u001b[0;34m)\u001b[0m \u001b[0;32mfor\u001b[0m \u001b[0m_\u001b[0m \u001b[0;32min\u001b[0m \u001b[0mrange\u001b[0m\u001b[0;34m(\u001b[0m\u001b[0mnum_particles\u001b[0m\u001b[0;34m)\u001b[0m\u001b[0;34m]\u001b[0m\u001b[0;34m\u001b[0m\u001b[0m\n\u001b[1;32m      8\u001b[0m         \u001b[0mtemp_list\u001b[0m \u001b[0;34m=\u001b[0m \u001b[0mlist\u001b[0m\u001b[0;34m(\u001b[0m\u001b[0;34m)\u001b[0m\u001b[0;34m\u001b[0m\u001b[0m\n\u001b[0;32m----> 9\u001b[0;31m         \u001b[0msubswarm_best\u001b[0m\u001b[0;34m,\u001b[0m\u001b[0m_\u001b[0m \u001b[0;34m=\u001b[0m \u001b[0mPSO\u001b[0m\u001b[0;34m(\u001b[0m\u001b[0mcostfunc\u001b[0m\u001b[0;34m,\u001b[0m\u001b[0mbounds\u001b[0m\u001b[0;34m,\u001b[0m\u001b[0mmax_iter\u001b[0m\u001b[0;34m,\u001b[0m \u001b[0mswarm_init\u001b[0m\u001b[0;34m=\u001b[0m\u001b[0mswarm_init\u001b[0m\u001b[0;34m,\u001b[0m \u001b[0mlog\u001b[0m\u001b[0;34m=\u001b[0m\u001b[0;32mTrue\u001b[0m\u001b[0;34m,\u001b[0m \u001b[0mthe_list\u001b[0m\u001b[0;34m=\u001b[0m\u001b[0mtemp_list\u001b[0m\u001b[0;34m)\u001b[0m\u001b[0;34m\u001b[0m\u001b[0m\n\u001b[0m\u001b[1;32m     10\u001b[0m         \u001b[0msubswarm_bests\u001b[0m\u001b[0;34m.\u001b[0m\u001b[0mappend\u001b[0m\u001b[0;34m(\u001b[0m\u001b[0msubswarm_best\u001b[0m\u001b[0;34m)\u001b[0m\u001b[0;34m\u001b[0m\u001b[0m\n\u001b[1;32m     11\u001b[0m         \u001b[0;32mif\u001b[0m \u001b[0mlog\u001b[0m\u001b[0;34m:\u001b[0m\u001b[0;34m\u001b[0m\u001b[0m\n",
      "\u001b[0;32m<ipython-input-3-a917df0b1de5>\u001b[0m in \u001b[0;36mPSO\u001b[0;34m(costFunc, bounds, maxiter, swarm_init, log, the_list)\u001b[0m\n\u001b[1;32m     67\u001b[0m         \u001b[0;31m# cycle through particles in swarm and evaluate fitness\u001b[0m\u001b[0;34m\u001b[0m\u001b[0;34m\u001b[0m\u001b[0m\n\u001b[1;32m     68\u001b[0m         \u001b[0;32mfor\u001b[0m \u001b[0mj\u001b[0m \u001b[0;32min\u001b[0m \u001b[0mrange\u001b[0m\u001b[0;34m(\u001b[0m\u001b[0;36m0\u001b[0m\u001b[0;34m,\u001b[0m\u001b[0mnum_particles\u001b[0m\u001b[0;34m)\u001b[0m\u001b[0;34m:\u001b[0m\u001b[0;34m\u001b[0m\u001b[0m\n\u001b[0;32m---> 69\u001b[0;31m             \u001b[0mswarm\u001b[0m\u001b[0;34m[\u001b[0m\u001b[0mj\u001b[0m\u001b[0;34m]\u001b[0m\u001b[0;34m.\u001b[0m\u001b[0mevaluate\u001b[0m\u001b[0;34m(\u001b[0m\u001b[0mcostFunc\u001b[0m\u001b[0;34m)\u001b[0m\u001b[0;34m\u001b[0m\u001b[0m\n\u001b[0m\u001b[1;32m     70\u001b[0m \u001b[0;34m\u001b[0m\u001b[0m\n\u001b[1;32m     71\u001b[0m             \u001b[0;31m# determine if current particle is the best (globally)\u001b[0m\u001b[0;34m\u001b[0m\u001b[0;34m\u001b[0m\u001b[0m\n",
      "\u001b[0;32m<ipython-input-3-a917df0b1de5>\u001b[0m in \u001b[0;36mevaluate\u001b[0;34m(self, costFunc)\u001b[0m\n\u001b[1;32m     20\u001b[0m     \u001b[0;31m# evaluate current fitness\u001b[0m\u001b[0;34m\u001b[0m\u001b[0;34m\u001b[0m\u001b[0m\n\u001b[1;32m     21\u001b[0m     \u001b[0;32mdef\u001b[0m \u001b[0mevaluate\u001b[0m\u001b[0;34m(\u001b[0m\u001b[0mself\u001b[0m\u001b[0;34m,\u001b[0m\u001b[0mcostFunc\u001b[0m\u001b[0;34m)\u001b[0m\u001b[0;34m:\u001b[0m\u001b[0;34m\u001b[0m\u001b[0m\n\u001b[0;32m---> 22\u001b[0;31m         \u001b[0mself\u001b[0m\u001b[0;34m.\u001b[0m\u001b[0merr_i\u001b[0m\u001b[0;34m=\u001b[0m\u001b[0mcostFunc\u001b[0m\u001b[0;34m(\u001b[0m\u001b[0mself\u001b[0m\u001b[0;34m.\u001b[0m\u001b[0mposition_i\u001b[0m\u001b[0;34m)\u001b[0m\u001b[0;34m\u001b[0m\u001b[0m\n\u001b[0m\u001b[1;32m     23\u001b[0m \u001b[0;34m\u001b[0m\u001b[0m\n\u001b[1;32m     24\u001b[0m         \u001b[0;31m# check to see if the current position is an individual best\u001b[0m\u001b[0;34m\u001b[0m\u001b[0;34m\u001b[0m\u001b[0m\n",
      "\u001b[0;32m~/files/pgso/pgso/test_functions.py\u001b[0m in \u001b[0;36mexponential\u001b[0;34m(x)\u001b[0m\n\u001b[1;32m    104\u001b[0m \u001b[0;31m### n-dimensional xi [-1,1]\u001b[0m\u001b[0;34m\u001b[0m\u001b[0;34m\u001b[0m\u001b[0m\n\u001b[1;32m    105\u001b[0m \u001b[0;32mdef\u001b[0m \u001b[0mexponential\u001b[0m\u001b[0;34m(\u001b[0m\u001b[0mx\u001b[0m\u001b[0;34m)\u001b[0m\u001b[0;34m:\u001b[0m\u001b[0;34m\u001b[0m\u001b[0m\n\u001b[0;32m--> 106\u001b[0;31m     \u001b[0mx\u001b[0m \u001b[0;34m=\u001b[0m \u001b[0mnp\u001b[0m\u001b[0;34m.\u001b[0m\u001b[0masarray_chkfinite\u001b[0m\u001b[0;34m(\u001b[0m\u001b[0mx\u001b[0m\u001b[0;34m)\u001b[0m\u001b[0;34m\u001b[0m\u001b[0m\n\u001b[0m\u001b[1;32m    107\u001b[0m     \u001b[0mfoo\u001b[0m \u001b[0;34m=\u001b[0m \u001b[0;34m-\u001b[0m\u001b[0mexp\u001b[0m\u001b[0;34m(\u001b[0m\u001b[0;34m-\u001b[0m\u001b[0;36m0.5\u001b[0m \u001b[0;34m*\u001b[0m \u001b[0msum\u001b[0m\u001b[0;34m(\u001b[0m\u001b[0mx\u001b[0m\u001b[0;34m**\u001b[0m\u001b[0;36m2\u001b[0m\u001b[0;34m)\u001b[0m\u001b[0;34m)\u001b[0m\u001b[0;34m\u001b[0m\u001b[0m\n\u001b[1;32m    108\u001b[0m     \u001b[0;32mreturn\u001b[0m \u001b[0mfoo\u001b[0m\u001b[0;34m\u001b[0m\u001b[0m\n",
      "\u001b[0;32m~/anaconda3/lib/python3.7/site-packages/numpy/lib/function_base.py\u001b[0m in \u001b[0;36masarray_chkfinite\u001b[0;34m(a, dtype, order)\u001b[0m\n\u001b[1;32m   1229\u001b[0m     \"\"\"\n\u001b[1;32m   1230\u001b[0m     \u001b[0ma\u001b[0m \u001b[0;34m=\u001b[0m \u001b[0masarray\u001b[0m\u001b[0;34m(\u001b[0m\u001b[0ma\u001b[0m\u001b[0;34m,\u001b[0m \u001b[0mdtype\u001b[0m\u001b[0;34m=\u001b[0m\u001b[0mdtype\u001b[0m\u001b[0;34m,\u001b[0m \u001b[0morder\u001b[0m\u001b[0;34m=\u001b[0m\u001b[0morder\u001b[0m\u001b[0;34m)\u001b[0m\u001b[0;34m\u001b[0m\u001b[0m\n\u001b[0;32m-> 1231\u001b[0;31m     \u001b[0;32mif\u001b[0m \u001b[0ma\u001b[0m\u001b[0;34m.\u001b[0m\u001b[0mdtype\u001b[0m\u001b[0;34m.\u001b[0m\u001b[0mchar\u001b[0m \u001b[0;32min\u001b[0m \u001b[0mtypecodes\u001b[0m\u001b[0;34m[\u001b[0m\u001b[0;34m'AllFloat'\u001b[0m\u001b[0;34m]\u001b[0m \u001b[0;32mand\u001b[0m \u001b[0;32mnot\u001b[0m \u001b[0mnp\u001b[0m\u001b[0;34m.\u001b[0m\u001b[0misfinite\u001b[0m\u001b[0;34m(\u001b[0m\u001b[0ma\u001b[0m\u001b[0;34m)\u001b[0m\u001b[0;34m.\u001b[0m\u001b[0mall\u001b[0m\u001b[0;34m(\u001b[0m\u001b[0;34m)\u001b[0m\u001b[0;34m:\u001b[0m\u001b[0;34m\u001b[0m\u001b[0m\n\u001b[0m\u001b[1;32m   1232\u001b[0m         raise ValueError(\n\u001b[1;32m   1233\u001b[0m             \"array must not contain infs or NaNs\")\n",
      "\u001b[0;31mKeyboardInterrupt\u001b[0m: "
     ]
    }
   ],
   "source": [
    "print(run_test(10, GSO, 7, 20, 1000))\n",
    "print(run_test(30, GSO, 7, 20, 1000))\n",
    "print(run_test(50, GSO, 7, 20, 1000))"
   ]
  },
  {
   "cell_type": "markdown",
   "metadata": {},
   "source": [
    "# Multimodal On GSO"
   ]
  },
  {
   "cell_type": "code",
   "execution_count": 38,
   "metadata": {},
   "outputs": [
    {
     "name": "stdout",
     "output_type": "stream",
     "text": [
      "{'nonContinuousRastrigin': 28.405503697535302, 'ackley': 1.6874087146866756, 'rastrigin': 32.63602528462998, 'rosen': 5.200615042737145, 'rotated_rastrigin': 46.813335445181316, 'rotated_griewangk': 0.32503702657477496, 'rotated_ackley': 1.9517829210475557, 'shifted_rotated_rastrigin': 87.05403437132182, 'shifted_rotated_ackley': 4.404317307954242}\n",
      "{'nonContinuousRastrigin': 1661.5908171298029, 'ackley': 19.52829931415535, 'rastrigin': 1099.4411045178742, 'rosen': 32716.237738523225, 'rotated_rastrigin': 11291.556480095092, 'rotated_griewangk': 162.49799283670683, 'rotated_ackley': 19.3806081600923, 'shifted_rotated_rastrigin': 473.65034908929954, 'shifted_rotated_ackley': 10.826823909590434}\n",
      "{'nonContinuousRastrigin': 18378.96001992069, 'ackley': 19.975863094473095, 'rastrigin': 18410.53006056455, 'rosen': 2315366.1817619773, 'rotated_rastrigin': 45400.88049215202, 'rotated_griewangk': 883.5469045765418, 'rotated_ackley': 19.93253433234317, 'shifted_rotated_rastrigin': 982.5656946453422, 'shifted_rotated_ackley': 12.480928662190001}\n"
     ]
    }
   ],
   "source": [
    "print(run_test(10, GSO, 7, 20, 1000, \"multimodal\"))\n",
    "print(run_test(30, GSO, 7, 20, 1000, \"multimodal\"))\n",
    "print(run_test(50, GSO, 7, 20, 1000, \"multimodal\"))"
   ]
  },
  {
   "cell_type": "markdown",
   "metadata": {},
   "source": [
    "# Unimodal on PGSO"
   ]
  },
  {
   "cell_type": "code",
   "execution_count": 36,
   "metadata": {},
   "outputs": [
    {
     "name": "stdout",
     "output_type": "stream",
     "text": [
      "{'exponential': 0.0, ' powell sum function': 0.0, ' sum_of_squares': 0.0, ' schfewel 2.20': 0.0, ' schwefel 2.22': 0.0, ' griewank': 0.0, ' zakharov': 0.0, ' sphere': 0.0}\n",
      "{'exponential': 0.0, ' powell sum function': 0.0, ' sum_of_squares': 0.0, ' schfewel 2.20': 0.0, ' schwefel 2.22': 0.0, ' griewank': 0.09949590570932898, ' zakharov': 0.0, ' sphere': 0.0}\n",
      "{'exponential': 0.0, ' powell sum function': 0.0, ' sum_of_squares': 0.0, ' schfewel 2.20': 0.0, ' schwefel 2.22': 0.0, ' griewank': 0.09949590570932898, ' zakharov': 0.0, ' sphere': 0.0}\n"
     ]
    }
   ],
   "source": [
    "print(run_test(10, PGSO, 7, 20, 1000))\n",
    "print(run_test(30, PGSO, 7, 20, 1000))\n",
    "print(run_test(50, PGSO, 7, 20, 1000))"
   ]
  },
  {
   "cell_type": "markdown",
   "metadata": {},
   "source": [
    "# Multimodal on PGSO"
   ]
  },
  {
   "cell_type": "code",
   "execution_count": 39,
   "metadata": {},
   "outputs": [
    {
     "name": "stdout",
     "output_type": "stream",
     "text": [
      "{'nonContinuousRastrigin': 0.0, 'ackley': 0.0, 'rastrigin': 0.0, 'rosen': 0.19899181141865796, 'rotated_rastrigin': 0.19899181141865796, 'rotated_griewangk': 0.09949590570932898, 'rotated_ackley': 0.0, 'shifted_rotated_rastrigin': 0.09949590570932898, 'shifted_rotated_ackley': 0.19899181141865796}\n",
      "{'nonContinuousRastrigin': 0.0, 'ackley': 0.0, 'rastrigin': 0.0, 'rosen': 0.09949590570932898, 'rotated_rastrigin': 0.0, 'rotated_griewangk': 0.0, 'rotated_ackley': 0.09949590570932898, 'shifted_rotated_rastrigin': 0.19899181141865796, 'shifted_rotated_ackley': 0.0}\n",
      "{'nonContinuousRastrigin': 0.0, 'ackley': 0.0, 'rastrigin': 0.0, 'rosen': 0.09949590570932898, 'rotated_rastrigin': 0.0, 'rotated_griewangk': 0.0, 'rotated_ackley': 0.0, 'shifted_rotated_rastrigin': 0.19899181141865796, 'shifted_rotated_ackley': 0.0}\n"
     ]
    }
   ],
   "source": [
    "print(run_test(10, PGSO, 7, 20, 1000, \"multimodal\"))\n",
    "print(run_test(30, PGSO, 7, 20, 1000, \"multimodal\"))\n",
    "print(run_test(50, PGSO, 7, 20, 1000, \"multimodal\"))"
   ]
  },
  {
   "cell_type": "markdown",
   "metadata": {},
   "source": [
    "# PSO"
   ]
  },
  {
   "cell_type": "code",
   "execution_count": 8,
   "metadata": {},
   "outputs": [],
   "source": [
    "def True_PSO(costFunc,bounds,maxiter, num_particles, log=False, the_list=None):\n",
    "    lb = bounds[0][0]\n",
    "    ub = bounds[0][1]\n",
    "    \n",
    "    num_dimensions=len(bounds)\n",
    "    swarm_init = np.array([np.random.uniform(lb, ub, num_dimensions) for _ in range(num_particles)])\n",
    "    \n",
    "    err_best_g=-1                   # best error for group\n",
    "    pos_best_g=[]                   # best position for group\n",
    "    # establish the swarm\n",
    "    swarm = [Particle(position, num_dimensions) for position in swarm_init]\n",
    "    # begin optimization loop\n",
    "    i=0\n",
    "    while i < maxiter:\n",
    "        #print i,err_best_g\n",
    "        # cycle through particles in swarm and evaluate fitness\n",
    "        for j in range(0,num_particles):\n",
    "            swarm[j].evaluate(costFunc)\n",
    "\n",
    "            # determine if current particle is the best (globally)\n",
    "            if swarm[j].err_i < err_best_g or err_best_g == -1:\n",
    "                pos_best_g=list(swarm[j].position_i)\n",
    "                err_best_g=float(swarm[j].err_i)\n",
    "\n",
    "        # cycle through swarm and update velocities and position\n",
    "        for j in range(0,num_particles):\n",
    "            swarm[j].update_velocity(pos_best_g)\n",
    "            swarm[j].update_position(bounds)\n",
    "        if log:\n",
    "            the_list.append(err_best_g)\n",
    "        i+=1\n",
    "    return pos_best_g, err_best_g"
   ]
  },
  {
   "cell_type": "code",
   "execution_count": 9,
   "metadata": {},
   "outputs": [],
   "source": [
    "def run_PSO_tests(dimensions, maxiter, num_particles, mode=\"unimodal\"):\n",
    "    results_dict = dict()\n",
    "    if mode == \"unimodal\":\n",
    "        functions = unimodal_functions\n",
    "        strings = unimodal_strings\n",
    "        bounds = unimodal_bounds\n",
    "    else:\n",
    "        functions = multimodal_functions\n",
    "        strings = multimodal_strings\n",
    "        bounds = multimodal_bounds\n",
    "\n",
    "    for func, bnds, stri in zip(functions, bounds, strings):\n",
    "        search_space = [bnds for _ in range(dimensions)]            \n",
    "        score = 0\n",
    "        for _ in range(10):\n",
    "            score += True_PSO(func, search_space, maxiter, num_particles)[1]\n",
    "        score = score/10\n",
    "        results_dict[stri] = score\n",
    "    return results_dict    "
   ]
  },
  {
   "cell_type": "markdown",
   "metadata": {},
   "source": [
    "# Unimodal on PSO"
   ]
  },
  {
   "cell_type": "code",
   "execution_count": 21,
   "metadata": {},
   "outputs": [
    {
     "name": "stdout",
     "output_type": "stream",
     "text": [
      "{'exponential': -0.9606530659712632, ' powell sum function': 1.294820677780308e-14, ' sum_of_squares': 40.00000000000001, ' schfewel 2.20': 10.028387353541428, ' schwefel 2.22': 218.96078690592313, ' griewank': 0.2135347715875347, ' zakharov': 54.407368891183594, ' sphere': 1.8000001596299296e-85}\n",
      "{'exponential': -0.569954966783031, ' powell sum function': 0.20000094266331553, ' sum_of_squares': 1978.1932797921913, ' schfewel 2.20': 322.7206393196454, ' schwefel 2.22': 1122.0745010542857, ' griewank': 129.3991502466623, ' zakharov': 569.5838732189188, ' sphere': 10191.371524269203}\n",
      "{'exponential': -0.2046134408101108, ' powell sum function': 0.10003236426881243, ' sum_of_squares': 9268.900390238367, ' schfewel 2.20': 874.4493281543882, ' schwefel 2.22': 1996.607858206618, ' griewank': 353.09732788997127, ' zakharov': 1389.0649821095462, ' sphere': 27710.16735336067}\n"
     ]
    }
   ],
   "source": [
    "print(run_PSO_tests(10, 1000, 50))\n",
    "print(run_PSO_tests(30, 1000, 50))\n",
    "print(run_PSO_tests(50, 1000, 50))"
   ]
  },
  {
   "cell_type": "markdown",
   "metadata": {},
   "source": [
    "# Multimodal on PSO"
   ]
  },
  {
   "cell_type": "code",
   "execution_count": 11,
   "metadata": {},
   "outputs": [
    {
     "name": "stdout",
     "output_type": "stream",
     "text": [
      "{'nonContinuousRastrigin': 45.369696174550235, 'ackley': 4.688500870933288, 'rastrigin': 37.012100026086046, 'rosen': 27020.582037994183, 'rotated_rastrigin': 57.01070702031851, 'rotated_griewangk': 14.315162917924164, 'rotated_ackley': 2.9223501685301487, 'shifted_rotated_rastrigin': 76.5450011583918, 'shifted_rotated_ackley': 3.9927671512405554}\n",
      "{'nonContinuousRastrigin': 12847.078367198133, 'ackley': 19.63309226185815, 'rastrigin': 17177.214038425613, 'rosen': 16035719.965090323, 'rotated_rastrigin': 32271.41577352505, 'rotated_griewangk': 505.2310348760282, 'rotated_ackley': 19.771743236762084, 'shifted_rotated_rastrigin': 537.0415308182588, 'shifted_rotated_ackley': 11.650072077546685}\n",
      "{'nonContinuousRastrigin': 39134.41851763637, 'ackley': 19.944744475463775, 'rastrigin': 35905.26947147814, 'rosen': 74040494.65318504, 'rotated_rastrigin': 82148.19678362487, 'rotated_griewangk': 1615.5849954438013, 'rotated_ackley': 19.977639167976378, 'shifted_rotated_rastrigin': 1057.5277042019768, 'shifted_rotated_ackley': 12.599025939648657}\n"
     ]
    }
   ],
   "source": [
    "print(run_PSO_tests(10, 1000, 50, 'multimodal'))\n",
    "print(run_PSO_tests(30, 1000, 50, 'multimodal'))\n",
    "print(run_PSO_tests(50, 1000, 50, 'multimodal'))"
   ]
  },
  {
   "cell_type": "code",
   "execution_count": 10,
   "metadata": {},
   "outputs": [],
   "source": [
    "graph_functions = [nonContinuousRastrigin, rotated_ackley, rotated_rastrigin, rotated_griewangk, griewank, rosen, sphere]\n",
    "graph_bounds = [[-100, 100], [-40, 40], [-100, 100], [-600, 600], [-600, 600], [-30, 30], [-100, 100]]\n",
    "\n",
    "def make_graphs(iterations, func, bounds, dims, algo=\"pso\"):\n",
    "    search_space = [bounds for _ in range(dims)]\n",
    "    if algo == \"pso\":\n",
    "        errors = list()\n",
    "        for i in tqdm(range(iterations)):\n",
    "            errors.append(True_PSO(func, search_space, i, 20)[1])\n",
    "    else:\n",
    "        errors = list()\n",
    "        if algo == 'gso':\n",
    "            algo = GSO\n",
    "        else:\n",
    "            algo = PGSO\n",
    "        for i in tqdm(range(10, iterations)):\n",
    "            errors.append(algo(5, search_space, 20, i, func))\n",
    "    return errors"
   ]
  },
  {
   "cell_type": "code",
   "execution_count": 11,
   "metadata": {},
   "outputs": [],
   "source": [
    "import matplotlib.pyplot as plt\n",
    "import seaborn as sns\n",
    "import pandas as pd\n",
    "import matplotlib.lines as mlines\n",
    "%matplotlib inline"
   ]
  },
  {
   "cell_type": "code",
   "execution_count": 39,
   "metadata": {},
   "outputs": [],
   "source": [
    "pso_list = list()\n",
    "search_space = [graph_bounds[0] for _ in range(50)]\n",
    "_ = True_PSO(graph_functions[0], search_space, 1500, 20, log=True, the_list=pso_list)"
   ]
  },
  {
   "cell_type": "code",
   "execution_count": 40,
   "metadata": {},
   "outputs": [
    {
     "data": {
      "text/plain": [
       "1500"
      ]
     },
     "execution_count": 40,
     "metadata": {},
     "output_type": "execute_result"
    }
   ],
   "source": [
    "len(pso_list)"
   ]
  },
  {
   "cell_type": "code",
   "execution_count": 41,
   "metadata": {},
   "outputs": [
    {
     "data": {
      "image/png": "[encoded data removed]",
      "text/plain": [
       "<Figure size 1152x648 with 1 Axes>"
      ]
     },
     "metadata": {},
     "output_type": "display_data"
    }
   ],
   "source": [
    "iterations = [i for i in range(1500)]\n",
    "df = pd.DataFrame({'iterations': iterations, 'error': pso_list})\n",
    "\n",
    "plt.figure(figsize=(16,9))\n",
    "sns.set()\n",
    "_ = sns.lineplot(x=\"iterations\",y=\"error\", data=df)"
   ]
  },
  {
   "cell_type": "code",
   "execution_count": 42,
   "metadata": {},
   "outputs": [],
   "source": [
    "# nonContinuousRastrigin\n",
    "# GSO\n",
    "gso_list = list()\n",
    "_ = GSO(5, search_space, 20, 1500, graph_functions[0], log=True, the_list=gso_list)"
   ]
  },
  {
   "cell_type": "code",
   "execution_count": 43,
   "metadata": {},
   "outputs": [],
   "source": [
    "gso_true_list = list()\n",
    "for i,j,k,l,m in zip(gso_list[0], gso_list[1], gso_list[2], gso_list[3], gso_list[4]):\n",
    "    gso_true_list.append((i + j + k + l + m)/5)"
   ]
  },
  {
   "cell_type": "code",
   "execution_count": 44,
   "metadata": {},
   "outputs": [
    {
     "data": {
      "text/plain": [
       "1500"
      ]
     },
     "execution_count": 44,
     "metadata": {},
     "output_type": "execute_result"
    }
   ],
   "source": [
    "len(gso_true_list)"
   ]
  },
  {
   "cell_type": "code",
   "execution_count": 45,
   "metadata": {},
   "outputs": [
    {
     "data": {
      "image/png": "[encoded data removed]",
      "text/plain": [
       "<Figure size 1152x648 with 1 Axes>"
      ]
     },
     "metadata": {},
     "output_type": "display_data"
    }
   ],
   "source": [
    "iterations = [i for i in range(1500)]\n",
    "df2 = pd.DataFrame({'iterations': iterations, 'error': gso_true_list})\n",
    "\n",
    "plt.figure(figsize=(16,9))\n",
    "sns.set()\n",
    "_ = sns.lineplot(x=\"iterations\",y=\"error\", data=df)"
   ]
  },
  {
   "cell_type": "code",
   "execution_count": 68,
   "metadata": {},
   "outputs": [
    {
     "data": {
      "image/png": "[encoded data removed]",
      "text/plain": [
       "<Figure size 1152x648 with 1 Axes>"
      ]
     },
     "metadata": {},
     "output_type": "display_data"
    }
   ],
   "source": [
    "sns.set()\n",
    "plt.figure(figsize=(16,9))\n",
    "ax = plt.gca()\n",
    "blue_line = mlines.Line2D([],[],color='blue', label='PSO', markersize='20')\n",
    "orange_line = mlines.Line2D([],[],color='orange', label='GSO', markersize='20')\n",
    "\n",
    "a = sns.lineplot(x='iterations', y='error', data=df, ax=ax)\n",
    "b = sns.lineplot(x='iterations', y='error', data=df2, ax=ax)\n",
    "# a.legend()\n",
    "_ = ax.legend(handles=[blue_line, orange_line])"
   ]
  },
  {
   "cell_type": "code",
   "execution_count": 12,
   "metadata": {},
   "outputs": [
    {
     "name": "stdout",
     "output_type": "stream",
     "text": [
      "[<ListProxy object, typeid 'list' at 0x7f153d256748>, <ListProxy object, typeid 'list' at 0x7f153d2566d8>, <ListProxy object, typeid 'list' at 0x7f153d2566a0>, <ListProxy object, typeid 'list' at 0x7f153d256f60>, <ListProxy object, typeid 'list' at 0x7f153d256978>]\n"
     ]
    }
   ],
   "source": [
    "pgso_list = list()\n",
    "search_space = [graph_bounds[0] for _ in range(50)]\n",
    "_ = PGSO(5, search_space, 20, 1500, graph_functions[0], log=True, the_list=pgso_list)"
   ]
  },
  {
   "cell_type": "code",
   "execution_count": null,
   "metadata": {},
   "outputs": [],
   "source": [
    "def make_graph(algo, cost_func, bounds, max_iter, num_particles):\n",
    "    # Run PSO First\n",
    "    pso_list = list()\n",
    "    search_space = [graph_bounds for _ in range(50)]\n",
    "    True_PSO(cost_func, search_space, max_iter, num_particles, log=True, the_list=pso_list)\n",
    "    \n",
    "    # Run GSO\n",
    "    gso_list = list()\n",
    "    _ = GSO(M, search_space, num_particles, max_iter, cost_func, log=True, the_list=gso_list)\n",
    "    gso_true_list = list()\n",
    "    for i, j, k, l, m in zip(gso_list[0], gso_list[1], gso_list[2], gso_list[3], gso_list[4]):\n",
    "        gso_true_list.append((i + j + k + l + m)/5)\n",
    "    \n",
    "    # RUN Pgso\n",
    "    pgso_list = list()\n",
    "    _ = PGSO(M, search_space, num_particles, max_iter, cost_func, log=True, the_list=pgso_list)\n",
    "    pgso_true_list = list()\n",
    "    for i, j, k, l, m in zip(pgso_list[0], pgso_list[1], pgso_list[2], pgso_list[3], pgso_list[4]):\n",
    "        pgso_true_list.append((i + j + k + l + m)/5)"
   ]
  }
 ],
 "metadata": {
  "kernelspec": {
   "display_name": "Python 3",
   "language": "python",
   "name": "python3"
  },
  "language_info": {
   "codemirror_mode": {
    "name": "ipython",
    "version": 3
   },
   "file_extension": ".py",
   "mimetype": "text/x-python",
   "name": "python",
   "nbconvert_exporter": "python",
   "pygments_lexer": "ipython3",
   "version": "3.7.0"
  }
 },
 "nbformat": 4,
 "nbformat_minor": 2
}
