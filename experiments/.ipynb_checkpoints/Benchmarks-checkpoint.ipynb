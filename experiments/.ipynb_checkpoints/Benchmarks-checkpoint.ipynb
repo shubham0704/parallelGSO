{
 "cells": [
  {
   "cell_type": "code",
   "execution_count": 1,
   "metadata": {},
   "outputs": [],
   "source": [
    "import sys\n",
    "sys.path.insert(0, '../')"
   ]
  },
  {
   "cell_type": "code",
   "execution_count": 2,
   "metadata": {},
   "outputs": [],
   "source": [
    "from pgso.test_functions import *\n",
    "from pgso.gso import GSO as PGSO, PSO_purana\n",
    "from pgso.benchmark import *\n",
    "import matplotlib.pyplot as plt\n",
    "import seaborn as sns\n",
    "import numpy as np\n",
    "import scipy.io"
   ]
  },
  {
   "cell_type": "markdown",
   "metadata": {},
   "source": [
    "# PSO IMPLEMENTATION"
   ]
  },
  {
   "cell_type": "code",
   "execution_count": 30,
   "metadata": {},
   "outputs": [],
   "source": [
    "#dependencies\n",
    "import random\n",
    "import math\n",
    "import copy # for array copying\n",
    "import sys\n",
    "\n",
    "class Particle:\n",
    "    def __init__(self,x0, num_dimensions):\n",
    "        self.position_i=[]          # particle position\n",
    "        self.velocity_i=[]          # particle velocity\n",
    "        self.pos_best_i=[]          # best position individual\n",
    "        self.err_best_i=-1          # best error individual\n",
    "        self.err_i=-1               # error individual\n",
    "        self.num_dimensions = num_dimensions\n",
    "        \n",
    "        for i in range(0, self.num_dimensions):\n",
    "            self.velocity_i.append(random.uniform(-1,1))\n",
    "            self.position_i.append(x0[i])\n",
    "\n",
    "    # evaluate current fitness\n",
    "    def evaluate(self,costFunc):\n",
    "        self.err_i=costFunc(self.position_i)\n",
    "\n",
    "        # check to see if the current position is an individual best\n",
    "        if self.err_i < self.err_best_i or self.err_best_i==-1:\n",
    "            self.pos_best_i=self.position_i\n",
    "            self.err_best_i=self.err_i\n",
    "\n",
    "    # update new particle velocity\n",
    "    def update_velocity(self,pos_best_g):\n",
    "        w=0.5       # constant inertia weight (how much to weigh the previous velocity)\n",
    "        c1=1        # cognative constant\n",
    "        c2=2        # social constant\n",
    "\n",
    "        for i in range(0, self.num_dimensions):\n",
    "            r1=random.random()\n",
    "            r2=random.random()\n",
    "\n",
    "            vel_cognitive=c1*r1*(self.pos_best_i[i]-self.position_i[i])\n",
    "            vel_social=c2*r2*(pos_best_g[i]-self.position_i[i])\n",
    "            self.velocity_i[i]=w*self.velocity_i[i]+vel_cognitive+vel_social\n",
    "\n",
    "    # update the particle position based off new velocity updates\n",
    "    def update_position(self,bounds):\n",
    "        for i in range(0, self.num_dimensions):\n",
    "            self.position_i[i]=self.position_i[i]+self.velocity_i[i]\n",
    "\n",
    "            # adjust maximum position if necessary\n",
    "            if self.position_i[i]>bounds[i][1]:\n",
    "                self.position_i[i]=bounds[i][1]\n",
    "\n",
    "            # adjust minimum position if neseccary\n",
    "            if self.position_i[i] < bounds[i][0]:\n",
    "                self.position_i[i]=bounds[i][0]\n",
    "\n",
    "def PSO(costFunc,bounds,maxiter, swarm_init):\n",
    "    num_dimensions=len(swarm_init[0])\n",
    "    err_best_g=-1                   # best error for group\n",
    "    pos_best_g=[]                   # best position for group\n",
    "    num_particles = len(swarm_init)\n",
    "    # establish the swarm\n",
    "    swarm = [Particle(position, num_dimensions) for position in swarm_init]\n",
    "    # begin optimization loop\n",
    "    i=0\n",
    "    while i < maxiter:\n",
    "        #print i,err_best_g\n",
    "        # cycle through particles in swarm and evaluate fitness\n",
    "        for j in range(0,num_particles):\n",
    "            swarm[j].evaluate(costFunc)\n",
    "\n",
    "            # determine if current particle is the best (globally)\n",
    "            if swarm[j].err_i < err_best_g or err_best_g == -1:\n",
    "                pos_best_g=list(swarm[j].position_i)\n",
    "                err_best_g=float(swarm[j].err_i)\n",
    "\n",
    "        # cycle through swarm and update velocities and position\n",
    "        for j in range(0,num_particles):\n",
    "            swarm[j].update_velocity(pos_best_g)\n",
    "            swarm[j].update_position(bounds)\n",
    "        i+=1\n",
    "    return pos_best_g, err_best_g"
   ]
  },
  {
   "cell_type": "markdown",
   "metadata": {},
   "source": [
    "# GSO IMPLEMENTATION"
   ]
  },
  {
   "cell_type": "code",
   "execution_count": 31,
   "metadata": {},
   "outputs": [],
   "source": [
    "def GSO(M, bounds, num_particles, max_iter, costfunc):\n",
    "    subswarm_bests = []\n",
    "    dims = len(bounds)\n",
    "    lb = bounds[0][0] \n",
    "    ub = bounds[0][1] \n",
    "    for i in range(M):\n",
    "        swarm_init = [np.random.uniform(lb, ub, dims) for _ in range(num_particles)]\n",
    "        subswarm_best,_ = PSO(costfunc,bounds,max_iter, swarm_init=swarm_init)\n",
    "        subswarm_bests.append(subswarm_best)\n",
    "    best_position, best_error = PSO(costfunc, bounds, max_iter, swarm_init=subswarm_bests)\n",
    "    return best_position, best_error"
   ]
  },
  {
   "cell_type": "markdown",
   "metadata": {},
   "source": [
    "# ROTATED FUNCTIONS"
   ]
  },
  {
   "cell_type": "code",
   "execution_count": 32,
   "metadata": {},
   "outputs": [],
   "source": [
    "def rotated_rastrigin(x):\n",
    "    if len(x) == 10:\n",
    "        mat = scipy.io.loadmat('./matlab-files/rastrigin_M_D10.mat')\n",
    "    elif len(x) == 30:\n",
    "        mat = scipy.io.loadmat('./matlab-files/rastrigin_M_D30.mat')\n",
    "    elif len(x) == 50:\n",
    "        mat = scipy.io.loadmat('./matlab-files/rastrigin_M_D50.mat')\n",
    "    y = np.matmul(mat['M'],x)\n",
    "    return rastrigin(y)\n",
    "\n",
    "def rotated_griewangk(x):\n",
    "    if len(x) == 10:\n",
    "        mat = scipy.io.loadmat('./matlab-files/griewank_M_D10.mat')\n",
    "    elif len(x) == 30:\n",
    "        mat = scipy.io.loadmat('./matlab-files/griewank_M_D30.mat')\n",
    "    elif len(x) == 50:\n",
    "        mat = scipy.io.loadmat('./matlab-files/griewank_M_D50.mat')\n",
    "    y = np.matmul(mat['M'],x)\n",
    "    return griewank(y)\n",
    "\n",
    "def rotated_ackley(x):\n",
    "    if len(x) == 10:\n",
    "        mat = scipy.io.loadmat('./matlab-files/ackley_M_D10.mat')\n",
    "    elif len(x) == 30:\n",
    "        mat = scipy.io.loadmat('./matlab-files/ackley_M_D30.mat')\n",
    "    elif len(x) == 50:\n",
    "        mat = scipy.io.loadmat('./matlab-files/ackley_M_D50.mat')\n",
    "    y = np.matmul(mat['M'],x)\n",
    "    return ackley(x)\n",
    "\n",
    "def shifted_rotated_rastrigin(x):\n",
    "    o = np.random.uniform(-2, 2, len(x))\n",
    "    x = x - o\n",
    "    return rotated_rastrigin(x)\n",
    "\n",
    "def shifted_rotated_ackley(x):\n",
    "    o = np.random.uniform(-2, 2, len(x))\n",
    "    x = x - o\n",
    "    return rotated_ackley(x)"
   ]
  },
  {
   "cell_type": "code",
   "execution_count": 33,
   "metadata": {},
   "outputs": [],
   "source": [
    "unimodal_functions = [exponential, powellsumfcn, sum_of_squares, schfewel_220, schwefel_222, griewank, zakharov, sphere]\n",
    "unimodal_strings = ['exponential', ' powell sum function', ' sum_of_squares', ' schfewel 2.20', ' schwefel 2.22', ' griewank', ' zakharov', ' sphere']\n",
    "unimodal_bounds = [[-1, 1], [-1, 1], [-10, 10], [-100, 100], [-100, 100], [-600, 600], [-5, 10], [-100, 100]]\n",
    "\n",
    "multimodal_functions = [nonContinuousRastrigin, ackley, rastrigin, rosen, rotated_rastrigin, rotated_griewangk, rotated_ackley, shifted_rotated_rastrigin, shifted_rotated_ackley]\n",
    "multimodal_strings = ['nonContinuousRastrigin', 'ackley', 'rastrigin', 'rosen', \"rotated_rastrigin\", \"rotated_griewangk\", \"rotated_ackley\", \"shifted_rotated_rastrigin\", \"shifted_rotated_ackley\"]\n",
    "multimodal_bounds = [[-100, 100], [-40, 40], [-100, 100], [-30, 30], [-100, 100], [-600, 600], [-40, 40], [-5.12, 5.12], [-10, 10]]"
   ]
  },
  {
   "cell_type": "code",
   "execution_count": 34,
   "metadata": {},
   "outputs": [],
   "source": [
    "def get_GSO_results(dimensions, bounds, costfunc, algorithm, M, num_particles, max_iter, suppress=True):\n",
    "    search_space = [bounds for _ in range(dimensions)]\n",
    "    if not suppress:\n",
    "        print(\"\\n Algorithm: \", algorithm,\"\\n Dimensions: \", dimensions,\"\\n cost function: \", costfunc,\"\\n iterations: \", max_iter)\n",
    "    score = 0\n",
    "    for _ in range(10):\n",
    "        score += algorithm(M, search_space, num_particles, max_iter, costfunc)[1]\n",
    "    score = score / 10\n",
    "    return score\n",
    "\n",
    "def run_test(dimensions, algorithm, M, num_particles, max_iter, mode=\"unimodal\"):\n",
    "    modal_tests = dict()\n",
    "    if mode == \"unimodal\":\n",
    "        for func, bnds, stri in zip(unimodal_functions, unimodal_bounds, unimodal_strings):\n",
    "            modal_tests[stri] = get_GSO_results(dimensions, bnds, func, algorithm, M, num_particles, max_iter)\n",
    "    else:\n",
    "        for func, bnds, stri in zip(multimodal_functions, multimodal_bounds, multimodal_strings):\n",
    "            modal_tests[stri] = get_GSO_results(dimensions, bnds, func, algorithm, M, num_particles, max_iter)\n",
    "    return modal_tests"
   ]
  },
  {
   "cell_type": "markdown",
   "metadata": {},
   "source": [
    "# Unimodal on GSO"
   ]
  },
  {
   "cell_type": "code",
   "execution_count": null,
   "metadata": {},
   "outputs": [
    {
     "name": "stdout",
     "output_type": "stream",
     "text": [
      "{'exponential': -0.9999999999999944, ' powell sum function': 3.5758827127586123e-09, ' sum_of_squares': 4.173261881599082e-15, ' schfewel 2.20': 0.03901460767474148, ' schwefel 2.22': 60.89823430429923, ' griewank': 0.11660587138828551, ' zakharov': 0.01933171683124276, ' sphere': 4.4296815948813486e-15}\n"
     ]
    }
   ],
   "source": [
    "print(run_test(10, GSO, 7, 20, 1000))\n",
    "print(run_test(30, GSO, 7, 20, 1000))\n",
    "print(run_test(50, GSO, 7, 20, 1000))"
   ]
  },
  {
   "cell_type": "markdown",
   "metadata": {},
   "source": [
    "# Multimodal On GSO"
   ]
  },
  {
   "cell_type": "code",
   "execution_count": null,
   "metadata": {},
   "outputs": [],
   "source": [
    "print(run_test(10, GSO, 7, 20, 1000, \"multimodal\"))\n",
    "print(run_test(30, GSO, 7, 20, 1000, \"multimodal\"))\n",
    "print(run_test(50, GSO, 7, 20, 1000, \"multimodal\"))"
   ]
  },
  {
   "cell_type": "markdown",
   "metadata": {},
   "source": [
    "# Unimodal on GSO"
   ]
  },
  {
   "cell_type": "code",
   "execution_count": null,
   "metadata": {},
   "outputs": [],
   "source": [
    "print(run_test(10, PGSO, 7, 20, 1000))\n",
    "print(run_test(30, PGSO, 7, 20, 1000))\n",
    "print(run_test(50, PGSO, 7, 20, 1000))"
   ]
  },
  {
   "cell_type": "markdown",
   "metadata": {},
   "source": [
    "# Multimodal on GSO"
   ]
  },
  {
   "cell_type": "code",
   "execution_count": null,
   "metadata": {},
   "outputs": [],
   "source": [
    "print(run_test(10, PGSO, 7, 20, 1000, \"multimodal\"))\n",
    "print(run_test(30, PGSO, 7, 20, 1000, \"multimodal\"))\n",
    "print(run_test(50, PGSO, 7, 20, 1000, \"multimodal\"))"
   ]
  },
  {
   "cell_type": "markdown",
   "metadata": {},
   "source": [
    "# PSO"
   ]
  },
  {
   "cell_type": "code",
   "execution_count": null,
   "metadata": {},
   "outputs": [],
   "source": [
    "def True_PSO(costFunc,bounds,maxiter, num_particles):\n",
    "    lb = bounds[0][0]\n",
    "    ub = bounds[0][1]\n",
    "    \n",
    "    num_dimensions=len(bounds)\n",
    "    swarm_init = [np.random.uniform(lb, ub, num_dimensions) for _ in range(num_particles)]\n",
    "    \n",
    "    err_best_g=-1                   # best error for group\n",
    "    pos_best_g=[]                   # best position for group\n",
    "    # establish the swarm\n",
    "    swarm = [Particle(position, num_dimensions) for position in swarm_init]\n",
    "    # begin optimization loop\n",
    "    i=0\n",
    "    while i < maxiter:\n",
    "        #print i,err_best_g\n",
    "        # cycle through particles in swarm and evaluate fitness\n",
    "        for j in range(0,num_particles):\n",
    "            swarm[j].evaluate(costFunc)\n",
    "\n",
    "            # determine if current particle is the best (globally)\n",
    "            if swarm[j].err_i < err_best_g or err_best_g == -1:\n",
    "                pos_best_g=list(swarm[j].position_i)\n",
    "                err_best_g=float(swarm[j].err_i)\n",
    "\n",
    "        # cycle through swarm and update velocities and position\n",
    "        for j in range(0,num_particles):\n",
    "            swarm[j].update_velocity(pos_best_g)\n",
    "            swarm[j].update_position(bounds)\n",
    "        i+=1\n",
    "    return pos_best_g, err_best_g"
   ]
  },
  {
   "cell_type": "code",
   "execution_count": null,
   "metadata": {},
   "outputs": [],
   "source": []
  }
 ],
 "metadata": {
  "kernelspec": {
   "display_name": "Python 3",
   "language": "python",
   "name": "python3"
  },
  "language_info": {
   "codemirror_mode": {
    "name": "ipython",
    "version": 3
   },
   "file_extension": ".py",
   "mimetype": "text/x-python",
   "name": "python",
   "nbconvert_exporter": "python",
   "pygments_lexer": "ipython3",
   "version": "3.6.6"
  }
 },
 "nbformat": 4,
 "nbformat_minor": 2
}
