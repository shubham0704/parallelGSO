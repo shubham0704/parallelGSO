{
 "cells": [
  {
   "cell_type": "code",
   "execution_count": 46,
   "metadata": {
    "collapsed": true
   },
   "outputs": [],
   "source": [
    "import numpy as np\n",
    "import math"
   ]
  },
  {
   "cell_type": "code",
   "execution_count": 47,
   "metadata": {
    "collapsed": true
   },
   "outputs": [],
   "source": [
    "from particle import Particle\n"
   ]
  },
  {
   "cell_type": "code",
   "execution_count": 56,
   "metadata": {
    "collapsed": true
   },
   "outputs": [],
   "source": [
    "def error(position):\n",
    "  err = 0.0\n",
    "  for i in range(len(position)):\n",
    "    xi = position[i]\n",
    "    err += (xi * xi) - (10 * math.cos(2 * math.pi * xi))\n",
    "  err = 10*len(position) + err\n",
    "  return err"
   ]
  },
  {
   "cell_type": "code",
   "execution_count": 57,
   "metadata": {},
   "outputs": [],
   "source": [
    "# # Now let us define a class PSO\n",
    "# class PSO():\n",
    "#     def __init__(self,costFunc,x0,bounds,num_particles,maxiter):\n",
    "#         global num_dimensions\n",
    "#         num_dimensions=len(x0)\n",
    "#         err_best_g=-1                   # best error for group\n",
    "#         pos_best_g=[]                   # best position for group\n",
    "\n",
    "#         # establish the swarm\n",
    "#         swarm=[]\n",
    "#         for i in range(0,num_particles):\n",
    "#             swarm.append(Particle(x0))\n",
    "\n",
    "#         # begin optimization loop\n",
    "#         i=0\n",
    "#         while i < maxiter:\n",
    "#             #print i,err_best_g\n",
    "#             # cycle through particles in swarm and evaluate fitness\n",
    "#             for j in range(0,num_particles):\n",
    "#                 swarm[j].evaluate(costFunc)\n",
    "\n",
    "#                 # determine if current particle is the best (globally)\n",
    "#                 if swarm[j].err_i < err_best_g or err_best_g == -1:\n",
    "#                     pos_best_g=list(swarm[j].position_i)\n",
    "#                     err_best_g=float(swarm[j].err_i)\n",
    "\n",
    "#             # cycle through swarm and update velocities and position\n",
    "#             for j in range(0,num_particles):\n",
    "#                 swarm[j].update_velocity(pos_best_g)\n",
    "#                 swarm[j].update_position(bounds)\n",
    "#             i+=1\n",
    "\n",
    "#         # print final results\n",
    "#         print ('\\nFINAL:')\n",
    "#         print (pos_best_g)\n",
    "#         print (err_best_g)"
   ]
  },
  {
   "cell_type": "code",
   "execution_count": 80,
   "metadata": {},
   "outputs": [
    {
     "ename": "SyntaxError",
     "evalue": "invalid syntax (<ipython-input-80-5e56469accbd>, line 1)",
     "output_type": "error",
     "traceback": [
      "\u001b[0;36m  File \u001b[0;32m\"<ipython-input-80-5e56469accbd>\"\u001b[0;36m, line \u001b[0;32m1\u001b[0m\n\u001b[0;31m    def PSO(costFunc,bounds,maxiter-1, swarm_init,err_best_g ):\u001b[0m\n\u001b[0m                                   ^\u001b[0m\n\u001b[0;31mSyntaxError\u001b[0m\u001b[0;31m:\u001b[0m invalid syntax\n"
     ]
    }
   ],
   "source": [
    "def PSO(costFunc,bounds,maxiter, swarm_init,err_best_g ):\n",
    "    global num_dimensions\n",
    "\n",
    "    num_dimensions=len(swarm_init[0])\n",
    "     \n",
    "    pos_best_g=[]                   # best position for group\n",
    "    num_particles = len(swarm_init)\n",
    "    # establish the swarm\n",
    "    swarm = [Particle(position, num_dimensions) for position in swarm_init]\n",
    "    # begin optimization loop\n",
    "    i=0\n",
    "    while i < maxiter:\n",
    "        #print i,err_best_g\n",
    "        # cycle through particles in swarm and evaluate fitness\n",
    "        for j in range(0,num_particles):\n",
    "            swarm[j].evaluate(costFunc)\n",
    "\n",
    "            # determine if current particle is the best (globally)\n",
    "            print \"Max error of swarmi is \",err_best_g\n",
    "            if swarm[j].err_best_i < err_best_g or err_best_g == -1:\n",
    "                pos_best_g=list(swarm[j].pos_best_i)\n",
    "                err_best_g=float(swarm[j].err_best_i)\n",
    "\n",
    "        # cycle through swarm and update velocities and position\n",
    "        for j in range(0,num_particles):\n",
    "            swarm[j].update_velocity(pos_best_g)\n",
    "            swarm[j].update_position(bounds)\n",
    "        i+=1\n",
    "\n",
    "    # print final results\n",
    "    #print ('\\n')\n",
    "    #print (pos_best_g,' , ', err_best_g)\n",
    "    return pos_best_g, err_best_g"
   ]
  },
  {
   "cell_type": "code",
   "execution_count": 81,
   "metadata": {},
   "outputs": [
    {
     "name": "stdout",
     "output_type": "stream",
     "text": [
      "CPU times: user 4 µs, sys: 0 ns, total: 4 µs\n",
      "Wall time: 8.82 µs\n",
      "Max error of swarmi is  -1\n",
      "Max error of swarmi is  62.376275483\n",
      "Max error of swarmi is  62.376275483\n",
      "Max error of swarmi is  62.376275483\n",
      "Max error of swarmi is  48.7177569975\n",
      "Max error of swarmi is  32.4715135606\n",
      "this is error best 32.4715135606\n",
      "Max error of swarmi is  32.4715135606\n",
      "Max error of swarmi is  32.4715135606\n"
     ]
    },
    {
     "ename": "IndexError",
     "evalue": "list index out of range",
     "output_type": "error",
     "traceback": [
      "\u001b[0;31m---------------------------------------------------------------------------\u001b[0m",
      "\u001b[0;31mIndexError\u001b[0m                                Traceback (most recent call last)",
      "\u001b[0;32m<ipython-input-81-3c7a0d19aa16>\u001b[0m in \u001b[0;36m<module>\u001b[0;34m()\u001b[0m\n\u001b[1;32m     11\u001b[0m         \u001b[0msubswarm_bests\u001b[0m\u001b[0;34m.\u001b[0m\u001b[0mappend\u001b[0m\u001b[0;34m(\u001b[0m\u001b[0msubswarm_best\u001b[0m\u001b[0;34m)\u001b[0m\u001b[0;34m\u001b[0m\u001b[0m\n\u001b[1;32m     12\u001b[0m     \u001b[0;32melse\u001b[0m\u001b[0;34m:\u001b[0m\u001b[0;34m\u001b[0m\u001b[0m\n\u001b[0;32m---> 13\u001b[0;31m         \u001b[0msubswarm_best\u001b[0m\u001b[0;34m,\u001b[0m\u001b[0merror_prev\u001b[0m \u001b[0;34m=\u001b[0m \u001b[0mPSO\u001b[0m\u001b[0;34m(\u001b[0m\u001b[0merror\u001b[0m\u001b[0;34m,\u001b[0m\u001b[0mbounds\u001b[0m\u001b[0;34m,\u001b[0m\u001b[0mmaxiter\u001b[0m\u001b[0;34m=\u001b[0m\u001b[0;36m3\u001b[0m\u001b[0;34m,\u001b[0m \u001b[0mswarm_init\u001b[0m\u001b[0;34m=\u001b[0m\u001b[0mswarm_init\u001b[0m\u001b[0;34m,\u001b[0m \u001b[0merr_best_g\u001b[0m \u001b[0;34m=\u001b[0m  \u001b[0merror_prev\u001b[0m\u001b[0;34m)\u001b[0m\u001b[0;34m\u001b[0m\u001b[0m\n\u001b[0m\u001b[1;32m     14\u001b[0m         \u001b[0msubswarm_bests\u001b[0m\u001b[0;34m.\u001b[0m\u001b[0mappend\u001b[0m\u001b[0;34m(\u001b[0m\u001b[0msubswarm_best\u001b[0m\u001b[0;34m)\u001b[0m\u001b[0;34m\u001b[0m\u001b[0m\n\u001b[1;32m     15\u001b[0m     \u001b[0;32mprint\u001b[0m \u001b[0;34m\"this is error best\"\u001b[0m\u001b[0;34m,\u001b[0m\u001b[0merror_prev\u001b[0m\u001b[0;34m\u001b[0m\u001b[0m\n",
      "\u001b[0;32m<ipython-input-77-19ab42d26106>\u001b[0m in \u001b[0;36mPSO\u001b[0;34m(costFunc, bounds, maxiter, swarm_init, err_best_g)\u001b[0m\n\u001b[1;32m     24\u001b[0m         \u001b[0;31m# cycle through swarm and update velocities and position\u001b[0m\u001b[0;34m\u001b[0m\u001b[0;34m\u001b[0m\u001b[0m\n\u001b[1;32m     25\u001b[0m         \u001b[0;32mfor\u001b[0m \u001b[0mj\u001b[0m \u001b[0;32min\u001b[0m \u001b[0mrange\u001b[0m\u001b[0;34m(\u001b[0m\u001b[0;36m0\u001b[0m\u001b[0;34m,\u001b[0m\u001b[0mnum_particles\u001b[0m\u001b[0;34m)\u001b[0m\u001b[0;34m:\u001b[0m\u001b[0;34m\u001b[0m\u001b[0m\n\u001b[0;32m---> 26\u001b[0;31m             \u001b[0mswarm\u001b[0m\u001b[0;34m[\u001b[0m\u001b[0mj\u001b[0m\u001b[0;34m]\u001b[0m\u001b[0;34m.\u001b[0m\u001b[0mupdate_velocity\u001b[0m\u001b[0;34m(\u001b[0m\u001b[0mpos_best_g\u001b[0m\u001b[0;34m)\u001b[0m\u001b[0;34m\u001b[0m\u001b[0m\n\u001b[0m\u001b[1;32m     27\u001b[0m             \u001b[0mswarm\u001b[0m\u001b[0;34m[\u001b[0m\u001b[0mj\u001b[0m\u001b[0;34m]\u001b[0m\u001b[0;34m.\u001b[0m\u001b[0mupdate_position\u001b[0m\u001b[0;34m(\u001b[0m\u001b[0mbounds\u001b[0m\u001b[0;34m)\u001b[0m\u001b[0;34m\u001b[0m\u001b[0m\n\u001b[1;32m     28\u001b[0m         \u001b[0mi\u001b[0m\u001b[0;34m+=\u001b[0m\u001b[0;36m1\u001b[0m\u001b[0;34m\u001b[0m\u001b[0m\n",
      "\u001b[0;32m/Users/Vinit/Desktop/parallelGSO/particle.pyc\u001b[0m in \u001b[0;36mupdate_velocity\u001b[0;34m(self, pos_best_g)\u001b[0m\n\u001b[1;32m     38\u001b[0m \u001b[0;34m\u001b[0m\u001b[0m\n\u001b[1;32m     39\u001b[0m             \u001b[0mvel_cognitive\u001b[0m\u001b[0;34m=\u001b[0m\u001b[0mc1\u001b[0m\u001b[0;34m*\u001b[0m\u001b[0mr1\u001b[0m\u001b[0;34m*\u001b[0m\u001b[0;34m(\u001b[0m\u001b[0mself\u001b[0m\u001b[0;34m.\u001b[0m\u001b[0mpos_best_i\u001b[0m\u001b[0;34m[\u001b[0m\u001b[0mi\u001b[0m\u001b[0;34m]\u001b[0m\u001b[0;34m-\u001b[0m\u001b[0mself\u001b[0m\u001b[0;34m.\u001b[0m\u001b[0mposition_i\u001b[0m\u001b[0;34m[\u001b[0m\u001b[0mi\u001b[0m\u001b[0;34m]\u001b[0m\u001b[0;34m)\u001b[0m\u001b[0;34m\u001b[0m\u001b[0m\n\u001b[0;32m---> 40\u001b[0;31m             \u001b[0mvel_social\u001b[0m\u001b[0;34m=\u001b[0m\u001b[0mc2\u001b[0m\u001b[0;34m*\u001b[0m\u001b[0mr2\u001b[0m\u001b[0;34m*\u001b[0m\u001b[0;34m(\u001b[0m\u001b[0mpos_best_g\u001b[0m\u001b[0;34m[\u001b[0m\u001b[0mi\u001b[0m\u001b[0;34m]\u001b[0m\u001b[0;34m-\u001b[0m\u001b[0mself\u001b[0m\u001b[0;34m.\u001b[0m\u001b[0mposition_i\u001b[0m\u001b[0;34m[\u001b[0m\u001b[0mi\u001b[0m\u001b[0;34m]\u001b[0m\u001b[0;34m)\u001b[0m\u001b[0;34m\u001b[0m\u001b[0m\n\u001b[0m\u001b[1;32m     41\u001b[0m             \u001b[0mself\u001b[0m\u001b[0;34m.\u001b[0m\u001b[0mvelocity_i\u001b[0m\u001b[0;34m[\u001b[0m\u001b[0mi\u001b[0m\u001b[0;34m]\u001b[0m\u001b[0;34m=\u001b[0m\u001b[0mw\u001b[0m\u001b[0;34m*\u001b[0m\u001b[0mself\u001b[0m\u001b[0;34m.\u001b[0m\u001b[0mvelocity_i\u001b[0m\u001b[0;34m[\u001b[0m\u001b[0mi\u001b[0m\u001b[0;34m]\u001b[0m\u001b[0;34m+\u001b[0m\u001b[0mvel_cognitive\u001b[0m\u001b[0;34m+\u001b[0m\u001b[0mvel_social\u001b[0m\u001b[0;34m\u001b[0m\u001b[0m\n\u001b[1;32m     42\u001b[0m \u001b[0;34m\u001b[0m\u001b[0m\n",
      "\u001b[0;31mIndexError\u001b[0m: list index out of range"
     ]
    }
   ],
   "source": [
    "%time\n",
    "bounds=[(-10,10),(-10,10)]  # input bounds [(x1_min,x1_max),(x2_min,x2_max)...]\n",
    "M = 4                       #No of partitions of X\n",
    "subswarm_bests = []\n",
    "num_particles = 2\n",
    "for i in range(M):\n",
    "    #initial= np.random.uniform(-10,10, 2)               # initial starting location [x1,x2...] \n",
    "    swarm_init = [np.random.uniform(-10,10, 2) for _ in range(num_particles)]\n",
    "    if(i==0):\n",
    "        subswarm_best,error_prev = PSO(error,bounds,maxiter=3, swarm_init=swarm_init,err_best_g = -1)\n",
    "        subswarm_bests.append(subswarm_best)\n",
    "    else:\n",
    "        subswarm_best,error_prev = PSO(error,bounds,maxiter=3, swarm_init=swarm_init, err_best_g =  error_prev)\n",
    "        subswarm_bests.append(subswarm_best)\n",
    "    print \"this is error best\",error_prev"
   ]
  },
  {
   "cell_type": "code",
   "execution_count": null,
   "metadata": {
    "collapsed": true
   },
   "outputs": [],
   "source": []
  }
 ],
 "metadata": {
  "kernelspec": {
   "display_name": "Python 2",
   "language": "python",
   "name": "python2"
  },
  "language_info": {
   "codemirror_mode": {
    "name": "ipython",
    "version": 2
   },
   "file_extension": ".py",
   "mimetype": "text/x-python",
   "name": "python",
   "nbconvert_exporter": "python",
   "pygments_lexer": "ipython2",
   "version": "2.7.13"
  }
 },
 "nbformat": 4,
 "nbformat_minor": 2
}
