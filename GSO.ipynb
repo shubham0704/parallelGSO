{
 "cells": [
  {
   "cell_type": "markdown",
   "metadata": {},
   "source": [
    "## GSO (Galactic Swarm Optimisation)"
   ]
  },
  {
   "cell_type": "code",
   "execution_count": 1,
   "metadata": {},
   "outputs": [],
   "source": [
    "from particle import Particle"
   ]
  },
  {
   "cell_type": "code",
   "execution_count": 2,
   "metadata": {},
   "outputs": [],
   "source": [
    "def PSO(costFunc,bounds,maxiter, swarm_init):\n",
    "    global num_dimensions\n",
    "\n",
    "    num_dimensions=len(swarm_init[0])\n",
    "    err_best_g=-1                   # best error for group\n",
    "    pos_best_g=[]                   # best position for group\n",
    "    num_particles = len(swarm_init)\n",
    "    # establish the swarm\n",
    "    swarm = [Particle(position, num_dimensions) for position in swarm_init]\n",
    "    # begin optimization loop\n",
    "    i=0\n",
    "    while i < maxiter:\n",
    "        #print i,err_best_g\n",
    "        # cycle through particles in swarm and evaluate fitness\n",
    "        for j in range(0,num_particles):\n",
    "            swarm[j].evaluate(costFunc)\n",
    "\n",
    "            # determine if current particle is the best (globally)\n",
    "            if swarm[j].err_i < err_best_g or err_best_g == -1:\n",
    "                pos_best_g=list(swarm[j].position_i)\n",
    "                err_best_g=float(swarm[j].err_i)\n",
    "\n",
    "        # cycle through swarm and update velocities and position\n",
    "        for j in range(0,num_particles):\n",
    "            swarm[j].update_velocity(pos_best_g)\n",
    "            swarm[j].update_position(bounds)\n",
    "        i+=1\n",
    "\n",
    "    # print final results\n",
    "    #print ('\\n')\n",
    "    #print (pos_best_g,' , ', err_best_g)\n",
    "    return pos_best_g, err_best_g"
   ]
  },
  {
   "cell_type": "code",
   "execution_count": 3,
   "metadata": {},
   "outputs": [],
   "source": [
    "import math\n",
    "def error(position):\n",
    "  err = 0.0\n",
    "  for i in range(len(position)):\n",
    "    xi = position[i]\n",
    "    err += (xi * xi) - (10 * math.cos(2 * math.pi * xi)) + 10\n",
    "  return err"
   ]
  },
  {
   "cell_type": "code",
   "execution_count": 4,
   "metadata": {},
   "outputs": [],
   "source": [
    "import numpy as np"
   ]
  },
  {
   "cell_type": "code",
   "execution_count": 5,
   "metadata": {},
   "outputs": [
    {
     "name": "stdout",
     "output_type": "stream",
     "text": [
      "CPU times: user 2 µs, sys: 0 ns, total: 2 µs\n",
      "Wall time: 5.48 µs\n"
     ]
    }
   ],
   "source": [
    "%time\n",
    "bounds=[(-10,10),(-10,10)]  # input bounds [(x1_min,x1_max),(x2_min,x2_max)...]\n",
    "M = 5\n",
    "subswarm_bests = []\n",
    "num_particles = 15\n",
    "for i in range(M):\n",
    "    #initial= np.random.uniform(-10,10, 2)               # initial starting location [x1,x2...] \n",
    "    swarm_init = [np.random.uniform(-10,10, 2) for _ in range(num_particles)]\n",
    "    subswarm_best,_ = PSO(error,bounds,maxiter=30, swarm_init=swarm_init)\n",
    "    subswarm_bests.append(subswarm_best)\n",
    "best_position, best_error = PSO(error, bounds, maxiter=30, swarm_init=subswarm_bests)"
   ]
  },
  {
   "cell_type": "code",
   "execution_count": 6,
   "metadata": {},
   "outputs": [
    {
     "name": "stdout",
     "output_type": "stream",
     "text": [
      "([-5.4176227117952013e-05, 0.0001486281660894295], 4.9648401123647545e-06)\n"
     ]
    }
   ],
   "source": [
    "print(best_position, best_error)"
   ]
  },
  {
   "cell_type": "code",
   "execution_count": 10,
   "metadata": {
    "collapsed": true
   },
   "outputs": [],
   "source": [
    "def GSO(M, bounds, num_particles, max_iter):\n",
    "    subswarm_bests = []\n",
    "    dims = len(bounds)\n",
    "    lb = bounds[0][0] \n",
    "    ub = bounds[0][1] \n",
    "    for i in range(M):\n",
    "        #initial= np.random.uniform(-10,10, 2)               # initial starting location [x1,x2...]         \n",
    "        swarm_init = [np.random.uniform(lb, ub, dims) for _ in range(num_particles)]\n",
    "        subswarm_best,_ = PSO(error,bounds,maxiter, swarm_init=swarm_init)\n",
    "        subswarm_bests.append(subswarm_best)\n",
    "    best_position, best_error = PSO(error, bounds, maxiter, swarm_init=subswarm_bests)\n",
    "    return best_position, best_error"
   ]
  },
  {
   "cell_type": "code",
   "execution_count": 12,
   "metadata": {},
   "outputs": [],
   "source": [
    "M = [5, 10, 15, 20, 25, 30, 35, 40]\n",
    "bounds = [(-10, 10), (-10, 10)]\n",
    "num_particles = 35\n",
    "max_iter = 30\n",
    "\n",
    "sols = [GSO(m, bounds, num_particles, max_iter) for m in M]"
   ]
  },
  {
   "cell_type": "code",
   "execution_count": 13,
   "metadata": {},
   "outputs": [
    {
     "name": "stdout",
     "output_type": "stream",
     "text": [
      "([-0.00020793150474893651, 0.0002203908447107745], 1.8213905677910702e-05)\n",
      "([6.29865117048687e-05, -7.4181271456783145e-05], 1.8788051203699752e-06)\n",
      "([8.8452702398035581e-06, -3.084136015017883e-05], 2.0423042990103113e-07)\n",
      "([-2.9380399739293593e-05, -1.9355812822370588e-05], 2.455807130985477e-07)\n",
      "([-1.1097110349774409e-05, 8.6630749713369811e-06], 3.932026615416362e-08)\n",
      "([-1.0272623625266312e-05, -1.3347474372291081e-05], 5.62802355830172e-08)\n",
      "([2.2135440357236519e-05, 1.9065834601264111e-05], 1.6932442825634553e-07)\n",
      "([-2.6711847108528257e-05, -4.250631489350923e-06], 1.4514179369484737e-07)\n"
     ]
    }
   ],
   "source": [
    "for item in sols:\n",
    "    print(item)"
   ]
  },
  {
   "cell_type": "code",
   "execution_count": null,
   "metadata": {
    "collapsed": true
   },
   "outputs": [],
   "source": []
  }
 ],
 "metadata": {
  "kernelspec": {
   "display_name": "Python 2",
   "language": "python",
   "name": "python2"
  },
  "language_info": {
   "codemirror_mode": {
    "name": "ipython",
    "version": 3
   },
   "file_extension": ".py",
   "mimetype": "text/x-python",
   "name": "python",
   "nbconvert_exporter": "python",
   "pygments_lexer": "ipython3",
   "version": "3.6.5"
  }
 },
 "nbformat": 4,
 "nbformat_minor": 2
}
