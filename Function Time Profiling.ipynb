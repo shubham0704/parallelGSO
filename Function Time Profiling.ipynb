{
 "cells": [
  {
   "cell_type": "code",
   "execution_count": 6,
   "metadata": {
    "collapsed": true
   },
   "outputs": [],
   "source": [
    "from pso import PSO, error, evaluate, update_velocity, update_position\n",
    "from failed_exec import create_n_particles\n",
    "\n",
    "bounds=[(-10,10),(-10,10)]\n",
    "particles = create_n_particles(100, 2, bounds)"
   ]
  },
  {
   "cell_type": "code",
   "execution_count": 7,
   "metadata": {
    "scrolled": true
   },
   "outputs": [
    {
     "name": "stdout",
     "output_type": "stream",
     "text": [
      "The slowest run took 4.09 times longer than the fastest. This could mean that an intermediate result is being cached.\n",
      "37.3 µs ± 23.2 µs per loop (mean ± std. dev. of 7 runs, 1 loop each)\n"
     ]
    }
   ],
   "source": [
    "eval_time = %%timeit -o evaluate(error, particles[0])"
   ]
  },
  {
   "cell_type": "code",
   "execution_count": 5,
   "metadata": {
    "collapsed": true
   },
   "outputs": [],
   "source": [
    "%load_ext line_profiler"
   ]
  },
  {
   "cell_type": "code",
   "execution_count": 21,
   "metadata": {},
   "outputs": [
    {
     "name": "stdout",
     "output_type": "stream",
     "text": [
      " "
     ]
    }
   ],
   "source": [
    "%prun evaluate(error,particles[2])"
   ]
  },
  {
   "cell_type": "code",
   "execution_count": 27,
   "metadata": {},
   "outputs": [],
   "source": [
    "from numba import jit\n",
    "@profile\n",
    "@jit\n",
    "def foo():\n",
    "    for i in range(100000):\n",
    "        i+=1\n",
    "    return\n",
    "%lprun -f foo foo()"
   ]
  },
  {
   "cell_type": "code",
   "execution_count": 23,
   "metadata": {},
   "outputs": [],
   "source": [
    "%lprun -f create_n_particles create_n_particles(10,2 , bounds)"
   ]
  },
  {
   "cell_type": "code",
   "execution_count": 1,
   "metadata": {},
   "outputs": [],
   "source": [
    "from particle import Particle\n",
    "import numpy as np\n",
    "num_particles = 15\n",
    "swarm_init = [np.random.uniform(-10,10, 2) for _ in range(num_particles)]\n",
    "bounds=[(-10,10),(-10,10)]\n",
    "\n",
    "particle = Particle(swarm_init[0], len(swarm_init[0]))"
   ]
  },
  {
   "cell_type": "code",
   "execution_count": 2,
   "metadata": {
    "collapsed": true
   },
   "outputs": [],
   "source": [
    "import math\n",
    "def error(position):\n",
    "  err = 0.0\n",
    "  for i in range(len(position)):\n",
    "    xi = position[i]\n",
    "    err += (xi * xi) - (10 * math.cos(2 * math.pi * xi)) + 10\n",
    "  return err"
   ]
  },
  {
   "cell_type": "code",
   "execution_count": 4,
   "metadata": {},
   "outputs": [
    {
     "name": "stdout",
     "output_type": "stream",
     "text": [
      "2.71 µs ± 115 ns per loop (mean ± std. dev. of 7 runs, 100000 loops each)\n"
     ]
    }
   ],
   "source": [
    "new_time = %%timeit -o particle.evaluate(error)"
   ]
  },
  {
   "cell_type": "code",
   "execution_count": null,
   "metadata": {
    "collapsed": true
   },
   "outputs": [],
   "source": [
    "    pos_best_g = particles[0]['position_i']\n",
    "    update_velocity(pos_best_g, particles[1])\n",
    "     update_position(bounds, particles[1])"
   ]
  }
 ],
 "metadata": {
  "kernelspec": {
   "display_name": "Python 3",
   "language": "python",
   "name": "python3"
  },
  "language_info": {
   "codemirror_mode": {
    "name": "ipython",
    "version": 3
   },
   "file_extension": ".py",
   "mimetype": "text/x-python",
   "name": "python",
   "nbconvert_exporter": "python",
   "pygments_lexer": "ipython3",
   "version": "3.6.5"
  }
 },
 "nbformat": 4,
 "nbformat_minor": 2
}
