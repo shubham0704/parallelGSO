{
 "cells": [
  {
   "cell_type": "markdown",
   "metadata": {},
   "source": [
    "## GSO (Galactic Swarm Optimisation)"
   ]
  },
  {
   "cell_type": "code",
   "execution_count": 14,
   "metadata": {
    "collapsed": true
   },
   "outputs": [],
   "source": [
    "from particle import Particle\n"
   ]
  },
  {
   "cell_type": "code",
   "execution_count": 46,
   "metadata": {
    "collapsed": true
   },
   "outputs": [],
   "source": [
    "def PSO1(costFunc,bounds,maxiter, swarm_init, err_super_global):\n",
    "    global num_dimensions\n",
    "\n",
    "    num_dimensions=len(swarm_init[0])\n",
    "    err_best_g=-1                   # best error for group\n",
    "    pos_best_g=[]                   # best position for group\n",
    "    num_particles = len(swarm_init)\n",
    "    # establish the swarm\n",
    "    swarm = [Particle(position, num_dimensions) for position in swarm_init]\n",
    "    #begin optimization loop\n",
    "    i=0\n",
    "    while i < maxiter:\n",
    "        #print i,err_best_g\n",
    "        # cycle through particles in swarm and evaluate fitness\n",
    "        for j in range(0,num_particles):\n",
    "            swarm[j].evaluate(costFunc)\n",
    "\n",
    "            # determine if current particle is the best (globally)\n",
    "            if swarm[j].err_i < err_best_g or err_best_g == -1:\n",
    "                pos_best_g=list(swarm[j].position_i)\n",
    "                err_best_g=float(swarm[j].err_i)\n",
    "                if(err_best_g < err_super_global or err_super_global == -1 ):\n",
    "                    err_super_global = err_best_g\n",
    "\n",
    "        # cycle through swarm and update velocities and position\n",
    "        for j in range(0,num_particles):\n",
    "            swarm[j].update_velocity(pos_best_g)\n",
    "            swarm[j].update_position(bounds)\n",
    "        i+=1\n",
    "\n",
    "    # print final results\n",
    "    #print ('\\n')\n",
    "    #print (pos_best_g,' , ', err_best_g)\n",
    "    return pos_best_g, err_best_g, err_super_global"
   ]
  },
  {
   "cell_type": "code",
   "execution_count": 47,
   "metadata": {
    "collapsed": true
   },
   "outputs": [],
   "source": [
    "import math\n",
    "def error(position):\n",
    "  err = 0.0\n",
    "  for i in range(len(position)):\n",
    "    xi = position[i]\n",
    "    err += (xi * xi) - (10 * math.cos(2 * math.pi * xi)) + 10\n",
    "  return err"
   ]
  },
  {
   "cell_type": "markdown",
   "metadata": {},
   "source": [
    "### Incomplete"
   ]
  },
  {
   "cell_type": "code",
   "execution_count": null,
   "metadata": {
    "collapsed": true
   },
   "outputs": [],
   "source": [
    "def PSO2(costFunc,bounds,maxiter, swarm_init, err_super_global):\n",
    "    global num_dimensions\n",
    "\n",
    "    num_dimensions=len(swarm_init[0])\n",
    "    err_best_g=-1                   # best error for group\n",
    "    pos_best_g=[]                   # best position for group\n",
    "    num_particles = len(swarm_init)\n",
    "    # establish the swarm\n",
    "    swarm = [Particle(position, num_dimensions) for position in swarm_init]\n",
    "    # begin optimization loop\n",
    "    i=0\n",
    "    while i < maxiter:\n",
    "        #print i,err_best_g\n",
    "        # cycle through particles in swarm and evaluate fitness\n",
    "        for j in range(0,num_particles):\n",
    "            swarm[j].evaluate(costFunc)\n",
    "\n",
    "            # determine if current particle is the best (globally)\n",
    "            if swarm[j].err_i < err_best_g or err_best_g == -1:\n",
    "                pos_best_g=list(swarm[j].position_i)\n",
    "                err_best_g=float(swarm[j].err_i)\n",
    "                if(err_best_g < err_super_global or err_super_global == -1 ):\n",
    "                    err_super_global = err_best_g\n",
    "\n",
    "        # cycle through swarm and update velocities and position\n",
    "        for j in range(0,num_particles):\n",
    "            swarm[j].update_velocity(pos_best_g)\n",
    "            swarm[j].update_position(bounds)\n",
    "        i+=1\n",
    "\n",
    "    # print final results\n",
    "    #print ('\\n')\n",
    "    #print (pos_best_g,' , ', err_best_g)\n",
    "    return pos_best_g, err_best_g, err_super_global"
   ]
  },
  {
   "cell_type": "code",
   "execution_count": 48,
   "metadata": {
    "collapsed": true
   },
   "outputs": [],
   "source": [
    "import numpy as np"
   ]
  },
  {
   "cell_type": "code",
   "execution_count": 50,
   "metadata": {},
   "outputs": [
    {
     "name": "stdout",
     "output_type": "stream",
     "text": [
      "CPU times: user 4 µs, sys: 1 µs, total: 5 µs\n",
      "Wall time: 10 µs\n",
      "err_best_g is  0.99498946968\n",
      "err_best_g is  3.98047683704\n",
      "err_best_g is  1.98991818846\n",
      "err_best_g is  0.000216351090577\n",
      "err_best_g is  0.0202909539616\n",
      "Global error is  0.000216351090577\n"
     ]
    }
   ],
   "source": [
    "%time\n",
    "bounds=[(-10,10),(-10,10)]  # input bounds [(x1_min,x1_max),(x2_min,x2_max)...]\n",
    "M = 5                       #No of partitions of X\n",
    "subswarm_bests = []\n",
    "num_particles = 15\n",
    "for i in range(M):\n",
    "    #initial= np.random.uniform(-10,10, 2)               # initial starting location [x1,x2...] \n",
    "    swarm_init = [np.random.uniform(-10,10, 2) for _ in range(num_particles)]\n",
    "    if(i==0):\n",
    "        subswarm_best,_, err_super_global = PSO1(error,bounds,maxiter=30, swarm_init=swarm_init, err_super_global = -1)\n",
    "        subswarm_bests.append(subswarm_best)\n",
    "        print \"err_best_g is \",_\n",
    "    else:\n",
    "        subswarm_best,_, err_super_global = PSO1(error,bounds,maxiter=30, swarm_init=swarm_init, err_super_global =  err_super_global)\n",
    "        subswarm_bests.append(subswarm_best)\n",
    "        print \"err_best_g is \",_\n",
    "    \n",
    "        \n",
    "best_position, best_error, err_super_global = PSO2(error, bounds, maxiter=30, swarm_init=subswarm_bests,  err_super_global =  err_super_global)\n",
    "print \"Global error is \", err_super_global"
   ]
  },
  {
   "cell_type": "code",
   "execution_count": 19,
   "metadata": {},
   "outputs": [
    {
     "name": "stdout",
     "output_type": "stream",
     "text": [
      "([-0.00061510827096155946, -0.00019822104219639151], 8.28583152880924e-05)\n"
     ]
    }
   ],
   "source": [
    "print(best_position, best_error)"
   ]
  },
  {
   "cell_type": "code",
   "execution_count": 25,
   "metadata": {},
   "outputs": [],
   "source": [
    "def GSO(M, bounds, num_particles, max_iter):\n",
    "    subswarm_bests = []\n",
    "    dims = len(bounds)\n",
    "    lb = bounds[0][0] \n",
    "    ub = bounds[0][1] \n",
    "    #for i in range(M):\n",
    "        #initial= np.random.uniform(-10,10, 2)               # initial starting location [x1,x2...]         \n",
    "    swarm_init = [np.random.uniform(lb, ub, dims) for _ in range(num_particles)]\n",
    "    subswarm_best,_ = PSO(error,bounds,maxiter, swarm_init=swarm_init)\n",
    "    subswarm_bests.append(subswarm_best)\n",
    "    best_position, best_error = PSO(error, bounds, maxiter, swarm_init=subswarm_bests)\n",
    "    return best_position, best_error"
   ]
  },
  {
   "cell_type": "code",
   "execution_count": 26,
   "metadata": {},
   "outputs": [],
   "source": [
    "M = [5, 10, 15, 20, 25, 30, 35, 40]\n",
    "bounds = [(-10, 10), (-10, 10)]\n",
    "num_particles = 35\n",
    "max_iter = 30\n",
    "\n",
    "sols = [GSO(m, bounds, num_particles, max_iter) for m in M]"
   ]
  },
  {
   "cell_type": "code",
   "execution_count": 27,
   "metadata": {},
   "outputs": [
    {
     "name": "stdout",
     "output_type": "stream",
     "text": [
      "([2.730908013181578e-05, 0.0013623183949331105], 0.0003683438608899081)\n",
      "([-0.00029703959967690256, 0.00012887475552697796], 2.079966457912974e-05)\n",
      "([6.3330047215651424e-05, 0.99488538387154801], 0.9949609168419347)\n",
      "([-0.00033334372565115488, 0.00044094987492866375], 6.06196284831384e-05)\n",
      "([-0.00028775766207012261, -0.00078887654594161417], 0.00013989209134734892)\n",
      "([9.5040859196345569e-06, -7.1149695720710974e-05], 1.0222364164036435e-06)\n",
      "([-6.2508776906784747e-05, -0.99503951475423325], 0.9949611293428529)\n",
      "([0.99493021335135989, -0.99489562531546627], 1.98991906172553)\n"
     ]
    }
   ],
   "source": [
    "for item in sols:\n",
    "    print(item)"
   ]
  },
  {
   "cell_type": "code",
   "execution_count": null,
   "metadata": {
    "collapsed": true
   },
   "outputs": [],
   "source": []
  }
 ],
 "metadata": {
  "kernelspec": {
   "display_name": "Python 2",
   "language": "python",
   "name": "python2"
  },
  "language_info": {
   "codemirror_mode": {
    "name": "ipython",
    "version": 2
   },
   "file_extension": ".py",
   "mimetype": "text/x-python",
   "name": "python",
   "nbconvert_exporter": "python",
   "pygments_lexer": "ipython2",
   "version": "2.7.13"
  }
 },
 "nbformat": 4,
 "nbformat_minor": 2
}
