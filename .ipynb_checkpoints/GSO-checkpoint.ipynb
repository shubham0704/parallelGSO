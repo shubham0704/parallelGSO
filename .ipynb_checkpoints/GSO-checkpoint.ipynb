{
 "cells": [
  {
   "cell_type": "markdown",
   "metadata": {},
   "source": [
    "## GSO (Galactic Swarm Optimisation)"
   ]
  },
  {
   "cell_type": "code",
   "execution_count": 1,
   "metadata": {
    "collapsed": true
   },
   "outputs": [],
   "source": [
    "from particle import Particle"
   ]
  },
  {
   "cell_type": "code",
   "execution_count": 18,
   "metadata": {
    "collapsed": true
   },
   "outputs": [],
   "source": [
    "def PSO(costFunc,bounds,maxiter, swarm_init):\n",
    "    global num_dimensions\n",
    "\n",
    "    num_dimensions=len(swarm_init[0])\n",
    "    err_best_g=-1                   # best error for group\n",
    "    pos_best_g=[]                   # best position for group\n",
    "    num_particles = len(swarm_init)\n",
    "    # establish the swarm\n",
    "    swarm = [Particle(position, num_dimensions) for position in swarm_init]\n",
    "    # begin optimization loop\n",
    "    i=0\n",
    "    while i < maxiter:\n",
    "        #print i,err_best_g\n",
    "        # cycle through particles in swarm and evaluate fitness\n",
    "        for j in range(0,num_particles):\n",
    "            swarm[j].evaluate(costFunc)\n",
    "\n",
    "            # determine if current particle is the best (globally)\n",
    "            if swarm[j].err_i < err_best_g or err_best_g == -1:\n",
    "                pos_best_g=list(swarm[j].position_i)\n",
    "                err_best_g=float(swarm[j].err_i)\n",
    "\n",
    "        # cycle through swarm and update velocities and position\n",
    "        for j in range(0,num_particles):\n",
    "            swarm[j].update_velocity(pos_best_g)\n",
    "            swarm[j].update_position(bounds)\n",
    "        i+=1\n",
    "\n",
    "    # print final results\n",
    "    #print ('\\n')\n",
    "    #print (pos_best_g,' , ', err_best_g)\n",
    "    return pos_best_g, err_best_g"
   ]
  },
  {
   "cell_type": "code",
   "execution_count": 3,
   "metadata": {
    "collapsed": true
   },
   "outputs": [],
   "source": [
    "import math\n",
    "def error(position):\n",
    "  err = 0.0\n",
    "  for i in range(len(position)):\n",
    "    xi = position[i]\n",
    "    err += (xi * xi) - (10 * math.cos(2 * math.pi * xi)) + 10\n",
    "  return err"
   ]
  },
  {
   "cell_type": "code",
   "execution_count": 4,
   "metadata": {
    "collapsed": true
   },
   "outputs": [],
   "source": [
    "import numpy as np"
   ]
  },
  {
   "cell_type": "code",
   "execution_count": 11,
   "metadata": {},
   "outputs": [
    {
     "name": "stdout",
     "output_type": "stream",
     "text": [
      "CPU times: user 0 ns, sys: 0 ns, total: 0 ns\n",
      "Wall time: 3.81 µs\n",
      "\n",
      "\n",
      "[-0.9953627288107751, 0.0006784812609643905]  ,  0.9950827641941764\n",
      "\n",
      "\n",
      "[-0.9962681463061622, 0.9935305357694202]  ,  1.990662550114683\n",
      "\n",
      "\n",
      "[-0.00045832185559881297, 0.0004172093590664246]  ,  7.620683090792113e-05\n",
      "\n",
      "\n",
      "[-0.0012574475729702516, 0.9948720957228816]  ,  0.9952742330687538\n",
      "\n",
      "\n",
      "[0.9943102013657921, 0.00017128329435039252]  ,  0.9950482500395683\n",
      "\n",
      "\n",
      "[-3.372385162040267e-05, -0.00016574888990700644]  ,  5.675995693010805e-06\n"
     ]
    }
   ],
   "source": [
    "%time\n",
    "bounds=[(-10,10),(-10,10)]  # input bounds [(x1_min,x1_max),(x2_min,x2_max)...]\n",
    "M = 5\n",
    "subswarm_bests = []\n",
    "num_particles = 15\n",
    "for i in range(M):\n",
    "    #initial= np.random.uniform(-10,10, 2)               # initial starting location [x1,x2...] \n",
    "    swarm_init = [np.random.uniform(-10,10, 2) for _ in range(num_particles)]\n",
    "    subswarm_best,_ = PSO(error,bounds,maxiter=30, swarm_init=swarm_init)\n",
    "    subswarm_bests.append(subswarm_best)\n",
    "best_position, best_error = PSO(error, bounds, maxiter=30, swarm_init=subswarm_bests)"
   ]
  },
  {
   "cell_type": "code",
   "execution_count": 12,
   "metadata": {},
   "outputs": [
    {
     "name": "stdout",
     "output_type": "stream",
     "text": [
      "[-3.372385162040267e-05, -0.00016574888990700644] 5.675995693010805e-06\n"
     ]
    }
   ],
   "source": [
    "print(best_position, best_error)"
   ]
  },
  {
   "cell_type": "code",
   "execution_count": 13,
   "metadata": {
    "collapsed": true
   },
   "outputs": [],
   "source": [
    "def GSO(M, bounds, num_particles, max_iter):\n",
    "    subswarm_bests = []\n",
    "    for i in range(M):\n",
    "        #initial= np.random.uniform(-10,10, 2)               # initial starting location [x1,x2...] \n",
    "        swarm_init = [np.random.uniform(-10,10, 2) for _ in range(num_particles)]\n",
    "        subswarm_best,_ = PSO(error,bounds,maxiter, swarm_init=swarm_init)\n",
    "        subswarm_bests.append(subswarm_best)\n",
    "    best_position, best_error = PSO(error, bounds, maxiter, swarm_init=subswarm_bests)\n",
    "    return best_position, best_error"
   ]
  },
  {
   "cell_type": "code",
   "execution_count": 25,
   "metadata": {},
   "outputs": [],
   "source": [
    "M = [5, 10, 15, 20, 25, 30, 35, 40]\n",
    "bounds = [(-10, 10), (-10, 10)]\n",
    "num_particles = 35\n",
    "maxiter = 30\n",
    "\n",
    "sols = [GSO(m, bounds, num_particles, max_iter) for m in M]"
   ]
  },
  {
   "cell_type": "code",
   "execution_count": 26,
   "metadata": {},
   "outputs": [
    {
     "name": "stdout",
     "output_type": "stream",
     "text": [
      "([8.967232614013834e-05, 1.724878437092022e-05], 1.6543214762521075e-06)\n",
      "([-9.187049285452718e-06, -7.296851943962388e-05], 1.0730644373069254e-06)\n",
      "([0.00012141388555155045, -3.8341528694699895e-06], 2.927479924252907e-06)\n",
      "([9.499590047952587e-06, 3.107546191564012e-06], 1.981918096305435e-08)\n",
      "([4.396665203364441e-06, 6.085677329394022e-06], 1.1182594406022872e-08)\n",
      "([-1.154987723405354e-06, 1.3349457655563414e-06], 6.182041545343964e-10)\n",
      "([-2.777595028665467e-05, -4.621057313113845e-07], 1.531025368706196e-07)\n",
      "([5.113029391729668e-06, 1.1330101791813654e-05], 3.065441056548934e-08)\n"
     ]
    }
   ],
   "source": [
    "for item in sols:\n",
    "    print(item)"
   ]
  }
 ],
 "metadata": {
  "kernelspec": {
   "display_name": "Python 3",
   "language": "python",
   "name": "python3"
  },
  "language_info": {
   "codemirror_mode": {
    "name": "ipython",
    "version": 3
   },
   "file_extension": ".py",
   "mimetype": "text/x-python",
   "name": "python",
   "nbconvert_exporter": "python",
   "pygments_lexer": "ipython3",
   "version": "3.5.2"
  }
 },
 "nbformat": 4,
 "nbformat_minor": 2
}
