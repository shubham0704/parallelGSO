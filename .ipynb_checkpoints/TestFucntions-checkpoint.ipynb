{
 "cells": [
  {
   "cell_type": "code",
   "execution_count": 55,
   "metadata": {
    "collapsed": true
   },
   "outputs": [],
   "source": [
    "from __future__ import division\n",
    "import numpy as np\n",
    "from scipy.optimize import minimize\n",
    "from numpy import abs, cos, exp, mean, pi, prod, sin, sqrt, sum\n",
    "import math,pylab\n"
   ]
  },
  {
   "cell_type": "markdown",
   "metadata": {},
   "source": [
    "### Sphere Function"
   ]
  },
  {
   "cell_type": "code",
   "execution_count": 56,
   "metadata": {
    "collapsed": true
   },
   "outputs": [],
   "source": [
    "def sphere( x ):\n",
    "    x = np.asarray_chkfinite(x)\n",
    "    return sum( x**2 )"
   ]
  },
  {
   "cell_type": "markdown",
   "metadata": {},
   "source": [
    "### Rosenbrock (Multimodal) Function"
   ]
  },
  {
   "cell_type": "code",
   "execution_count": 57,
   "metadata": {
    "collapsed": true
   },
   "outputs": [],
   "source": [
    "def rosen(x):\n",
    "    \"\"\"\n",
    "    The Rosenbrock's function of N variables\n",
    "    f(x) =  100*(x_i - x_{i-1}^2)^2 + (1- x_{1-1}^2)\n",
    "    \"\"\"\n",
    "\n",
    "    return sum(100.0*(x[1:]-x[:-1]**2.0)**2.0 + (1-x[:-1])**2.0)"
   ]
  },
  {
   "cell_type": "markdown",
   "metadata": {},
   "source": [
    "#### Illustration"
   ]
  },
  {
   "cell_type": "code",
   "execution_count": 58,
   "metadata": {},
   "outputs": [
    {
     "name": "stdout",
     "output_type": "stream",
     "text": [
      "Optimization terminated successfully.\n",
      "         Current function value: 0.000000\n",
      "         Iterations: 339\n",
      "         Function evaluations: 571\n",
      "[ 1.  1.  1.  1.  1.]\n"
     ]
    }
   ],
   "source": [
    "\n",
    "\n",
    "\n",
    "x0 = np.array([1.3, 0.7, 0.8, 1.9, 1.2])\n",
    "res = minimize(rosen, x0, method='nelder-mead',\n",
    "               options={'xtol': 1e-8, 'disp': True})\n",
    "print res.x"
   ]
  },
  {
   "cell_type": "markdown",
   "metadata": {},
   "source": [
    "### Rastrigin Function"
   ]
  },
  {
   "cell_type": "code",
   "execution_count": 59,
   "metadata": {},
   "outputs": [
    {
     "name": "stdout",
     "output_type": "stream",
     "text": [
      "43.6501699437\n"
     ]
    }
   ],
   "source": [
    "def rastrigin( x ):  # rast.m\n",
    "    x = np.asarray_chkfinite(x)\n",
    "    n = len(x)\n",
    "    return 10*n + sum( x**2 - 10 * cos( 2 * pi * x ))\n",
    "\n",
    "a=rastrigin([0.2,0.4,0.6])\n",
    "print a\n"
   ]
  },
  {
   "cell_type": "markdown",
   "metadata": {},
   "source": [
    "### Griewangk Function"
   ]
  },
  {
   "cell_type": "code",
   "execution_count": 60,
   "metadata": {
    "collapsed": true
   },
   "outputs": [],
   "source": [
    "def griewank( x, fr=4000 ):\n",
    "    x = np.asarray_chkfinite(x)\n",
    "    n = len(x)\n",
    "    j = np.arange( 1., n+1 )\n",
    "    s = sum( x**2 )\n",
    "    p = prod( cos( x / sqrt(j) ))\n",
    "    return s/fr - p + 1"
   ]
  },
  {
   "cell_type": "markdown",
   "metadata": {},
   "source": [
    "### Ackley Function"
   ]
  },
  {
   "cell_type": "code",
   "execution_count": 61,
   "metadata": {
    "collapsed": true
   },
   "outputs": [],
   "source": [
    "def ackley( x, a=20, b=0.2, c=2*pi ):\n",
    "    x = np.asarray_chkfinite(x)  # ValueError if any NaN or Inf\n",
    "    n = len(x)\n",
    "    s1 = sum( x**2 )\n",
    "    s2 = sum( cos( c * x ))\n",
    "    return -a*exp( -b*sqrt( s1 / n )) - exp( s2 / n ) + a + exp(1)"
   ]
  },
  {
   "cell_type": "markdown",
   "metadata": {},
   "source": [
    "### Weierstrass Function\n"
   ]
  },
  {
   "cell_type": "code",
   "execution_count": 38,
   "metadata": {},
   "outputs": [
    {
     "name": "stdout",
     "output_type": "stream",
     "text": [
      "Enter desired error tolerance: 10\n",
      "Enter number of iterations: 20\n"
     ]
    },
    {
     "data": {
      "text/plain": [
       "[<matplotlib.lines.Line2D at 0x11213aa10>]"
      ]
     },
     "execution_count": 38,
     "metadata": {},
     "output_type": "execute_result"
    },
    {
     "data": {
      "image/png": "[encoded data removed]",
      "text/plain": [
       "<matplotlib.figure.Figure at 0x1121b4650>"
      ]
     },
     "metadata": {},
     "output_type": "display_data"
    }
   ],
   "source": [
    "\n",
    "%matplotlib inline\n",
    "x0 = -10 #start of interval\n",
    "xf = 10 #end of interval\n",
    "a = 2\n",
    "#x = float(input('Enter a value for x: ')) \n",
    "e = float(input('Enter desired error tolerance: '))\n",
    "n = int(input('Enter number of iterations: '))\n",
    "\n",
    "def wer(a, x, e): # a is givin number, e is error tolerance\n",
    "\n",
    "    Sum1 = 0\n",
    "    Sum2 = 0\n",
    "    k = 1\n",
    "\n",
    "    while(True):\n",
    "        #sine of pi times k to the a times x over pi times k to the a\n",
    "        Sum1 = math.sin((math.pi)*pow(k,a)*(x))/((math.pi)*(pow(k,a)))\n",
    "        Sum2 = Sum1 + math.sin((math.pi)*pow((k+1),a)*(x))/((math.pi)*pow((k+1),a))\n",
    "\n",
    "        if (abs(Sum2-Sum1) < e):\n",
    "            break\n",
    "        else:\n",
    "            k+=1\n",
    "    return Sum1\n",
    "\n",
    "def append(x0, xf, n):\n",
    "\n",
    "    xl = [] #list containing x values\n",
    "    yl = [] #corresponding y values\n",
    "    dx = (xf-x0)/n #length of each subinterval\n",
    "\n",
    "    for i in range (0, (n+1)):\n",
    "        xval = x0 + (i * dx)\n",
    "        yval = wer(a, xval, e) #ERROR HERE\n",
    "\n",
    "        xl.append(xval)\n",
    "        yl.append(yval)\n",
    "        #print i,':',xl\n",
    "    return xl, yl\n",
    "\n",
    "xl,yl=0,0\n",
    "xl,yl = append(x0, xf, n)   \n",
    "pylab.plot(xl,yl)"
   ]
  },
  {
   "cell_type": "markdown",
   "metadata": {},
   "source": [
    "### Zakharov Function"
   ]
  },
  {
   "cell_type": "code",
   "execution_count": 62,
   "metadata": {
    "collapsed": true
   },
   "outputs": [],
   "source": [
    "def zakharov( x ):  # zakh.m\n",
    "    x = np.asarray_chkfinite(x)\n",
    "    n = len(x)\n",
    "    j = np.arange( 1., n+1 )\n",
    "    s2 = sum( j * x ) / 2\n",
    "    return sum( x**2 ) + s2**2 + s2**4"
   ]
  },
  {
   "cell_type": "markdown",
   "metadata": {},
   "source": [
    "### Non-Continuous Rastrigin Function"
   ]
  },
  {
   "cell_type": "code",
   "execution_count": 63,
   "metadata": {},
   "outputs": [],
   "source": [
    "def nonContinuousRastrigin(x):\n",
    "    y=[]\n",
    "    for i in range(len(x)):\n",
    "        temp=0\n",
    "        if(abs(x[i]) <= 0.5):\n",
    "            temp = x[i]\n",
    "        else:\n",
    "             temp = (2*x[i]+0.5)/2\n",
    "        y.append(temp)\n",
    "    y = np.asarray_chkfinite(y)\n",
    "    n=len(x); A=10.\n",
    "    return 10*n + sum( y**2 - 10 * cos( 2 * pi * y ))\n",
    "\n",
    "# y=[]\n",
    "# x=[0.3,-0,3,0.6,-0,6]\n",
    "# answer = nonContinuousRastrigin(x)\n",
    "# print answer\n",
    "\n"
   ]
  },
  {
   "cell_type": "markdown",
   "metadata": {},
   "source": [
    "## Bounds for different funcitons:\n"
   ]
  },
  {
   "cell_type": "markdown",
   "metadata": {},
   "source": [
    "ackley._bounds       = [-15, 30]\n",
    "dixonprice._bounds   = [-10, 10]\n",
    "griewank._bounds     = [-600, 600]\n",
    "levy._bounds         = [-10, 10]\n",
    "michalewicz._bounds  = [0, pi]\n",
    "perm._bounds         = [\"-dim\", \"dim\"]  # min at [1 2 .. n]\n",
    "powell._bounds       = [-4, 5]  # min at tile [3 -1 0 1]\n",
    "powersum._bounds     = [0, \"dim\"]  # 4d min at [1 2 3 4]\n",
    "rastrigin._bounds    = [-5.12, 5.12]\n",
    "rosenbrock._bounds   = [-2.4, 2.4]  # wikipedia\n",
    "schwefel._bounds     = [-500, 500]\n",
    "sphere._bounds       = [-5.12, 5.12]\n",
    "sum2._bounds         = [-10, 10]\n",
    "trid._bounds         = [\"-dim**2\", \"dim**2\"]  # fmin -50 6d, -200 10d\n",
    "zakharov._bounds     = [-5, 10]\n",
    "\n",
    "ellipse._bounds      =  [-2, 2]\n",
    "logsumexp._bounds    = [-20, 20]  # ?\n",
    "nesterov._bounds     = [-2, 2]\n",
    "powellsincos._bounds = [ \"-20*pi*dim\", \"20*pi*dim\"]\n",
    "randomquad._bounds   = [-10000, 10000]\n",
    "saddle._bounds = [-3, 3]"
   ]
  }
 ],
 "metadata": {
  "kernelspec": {
   "display_name": "Python 2",
   "language": "python",
   "name": "python2"
  },
  "language_info": {
   "codemirror_mode": {
    "name": "ipython",
    "version": 2
   },
   "file_extension": ".py",
   "mimetype": "text/x-python",
   "name": "python",
   "nbconvert_exporter": "python",
   "pygments_lexer": "ipython2",
   "version": "2.7.13"
  }
 },
 "nbformat": 4,
 "nbformat_minor": 2
}
